{
 "cells": [
  {
   "cell_type": "markdown",
   "id": "63d813ee-e536-4dc5-afd1-88fd62c8637c",
   "metadata": {},
   "source": [
    "# Objectifs\n",
    "\n",
    "- Prise en main du problème de classification\n",
    "- Exploration de divers modèles de ce type\n",
    "- Mise en place d'une démarche compléte: train/test split puis cross validation"
   ]
  },
  {
   "cell_type": "markdown",
   "id": "6add1bb8-73d6-493f-9a0c-ff79733ce1b4",
   "metadata": {
    "tags": []
   },
   "source": [
    "# Exploration du dataset"
   ]
  },
  {
   "cell_type": "code",
   "execution_count": 15,
   "id": "57f22a62-6085-4f53-9fd0-68a3b12c1520",
   "metadata": {},
   "outputs": [],
   "source": [
    "import numpy as np\n",
    "import matplotlib.pyplot as plt"
   ]
  },
  {
   "cell_type": "code",
   "execution_count": 1,
   "id": "1f52d3c7-44e3-4c61-8da4-2c010051b2e7",
   "metadata": {},
   "outputs": [],
   "source": [
    "from sklearn.datasets import load_digits"
   ]
  },
  {
   "cell_type": "code",
   "execution_count": 2,
   "id": "ee7db0dd-341c-43a7-bb4e-b0ddb4bb9f32",
   "metadata": {},
   "outputs": [],
   "source": [
    "digits = load_digits()"
   ]
  },
  {
   "cell_type": "code",
   "execution_count": 3,
   "id": "f2691285-48ab-4682-8ae6-96347c74e979",
   "metadata": {},
   "outputs": [
    {
     "data": {
      "text/plain": [
       "sklearn.utils._bunch.Bunch"
      ]
     },
     "execution_count": 3,
     "metadata": {},
     "output_type": "execute_result"
    }
   ],
   "source": [
    "type(digits)"
   ]
  },
  {
   "cell_type": "code",
   "execution_count": 5,
   "id": "29016f14-40e9-43c3-8795-dd266cfe1890",
   "metadata": {},
   "outputs": [
    {
     "name": "stdout",
     "output_type": "stream",
     "text": [
      ".. _digits_dataset:\n",
      "\n",
      "Optical recognition of handwritten digits dataset\n",
      "--------------------------------------------------\n",
      "\n",
      "**Data Set Characteristics:**\n",
      "\n",
      "    :Number of Instances: 1797\n",
      "    :Number of Attributes: 64\n",
      "    :Attribute Information: 8x8 image of integer pixels in the range 0..16.\n",
      "    :Missing Attribute Values: None\n",
      "    :Creator: E. Alpaydin (alpaydin '@' boun.edu.tr)\n",
      "    :Date: July; 1998\n",
      "\n",
      "This is a copy of the test set of the UCI ML hand-written digits datasets\n",
      "https://archive.ics.uci.edu/ml/datasets/Optical+Recognition+of+Handwritten+Digits\n",
      "\n",
      "The data set contains images of hand-written digits: 10 classes where\n",
      "each class refers to a digit.\n",
      "\n",
      "Preprocessing programs made available by NIST were used to extract\n",
      "normalized bitmaps of handwritten digits from a preprinted form. From a\n",
      "total of 43 people, 30 contributed to the training set and different 13\n",
      "to the test set. 32x32 bitmaps are divided into nonoverlapping blocks of\n",
      "4x4 and the number of on pixels are counted in each block. This generates\n",
      "an input matrix of 8x8 where each element is an integer in the range\n",
      "0..16. This reduces dimensionality and gives invariance to small\n",
      "distortions.\n",
      "\n",
      "For info on NIST preprocessing routines, see M. D. Garris, J. L. Blue, G.\n",
      "T. Candela, D. L. Dimmick, J. Geist, P. J. Grother, S. A. Janet, and C.\n",
      "L. Wilson, NIST Form-Based Handprint Recognition System, NISTIR 5469,\n",
      "1994.\n",
      "\n",
      ".. topic:: References\n",
      "\n",
      "  - C. Kaynak (1995) Methods of Combining Multiple Classifiers and Their\n",
      "    Applications to Handwritten Digit Recognition, MSc Thesis, Institute of\n",
      "    Graduate Studies in Science and Engineering, Bogazici University.\n",
      "  - E. Alpaydin, C. Kaynak (1998) Cascading Classifiers, Kybernetika.\n",
      "  - Ken Tang and Ponnuthurai N. Suganthan and Xi Yao and A. Kai Qin.\n",
      "    Linear dimensionalityreduction using relevance weighted LDA. School of\n",
      "    Electrical and Electronic Engineering Nanyang Technological University.\n",
      "    2005.\n",
      "  - Claudio Gentile. A New Approximate Maximal Margin Classification\n",
      "    Algorithm. NIPS. 2000.\n",
      "\n"
     ]
    }
   ],
   "source": [
    "print(digits.DESCR)"
   ]
  },
  {
   "cell_type": "code",
   "execution_count": 7,
   "id": "0c126fc7-3915-40dc-870b-2180c3f7e9e1",
   "metadata": {},
   "outputs": [
    {
     "data": {
      "text/plain": [
       "numpy.ndarray"
      ]
     },
     "execution_count": 7,
     "metadata": {},
     "output_type": "execute_result"
    }
   ],
   "source": [
    "type(digits.data)"
   ]
  },
  {
   "cell_type": "code",
   "execution_count": 8,
   "id": "70e2e57b-d340-4b39-862a-88e7f4f44f86",
   "metadata": {},
   "outputs": [
    {
     "data": {
      "text/plain": [
       "(1797, 64)"
      ]
     },
     "execution_count": 8,
     "metadata": {},
     "output_type": "execute_result"
    }
   ],
   "source": [
    "digits.data.shape"
   ]
  },
  {
   "cell_type": "code",
   "execution_count": 10,
   "id": "c6a3d6bd-c0a3-4080-bf05-ffe5455a4d36",
   "metadata": {},
   "outputs": [
    {
     "data": {
      "text/plain": [
       "numpy.ndarray"
      ]
     },
     "execution_count": 10,
     "metadata": {},
     "output_type": "execute_result"
    }
   ],
   "source": [
    "type(digits.target)"
   ]
  },
  {
   "cell_type": "code",
   "execution_count": 11,
   "id": "e08b6377-280a-4461-ab4e-c6752f212d51",
   "metadata": {},
   "outputs": [
    {
     "data": {
      "text/plain": [
       "(1797,)"
      ]
     },
     "execution_count": 11,
     "metadata": {},
     "output_type": "execute_result"
    }
   ],
   "source": [
    "digits.target.shape"
   ]
  },
  {
   "cell_type": "code",
   "execution_count": 12,
   "id": "f53630b9-162f-44bf-8d83-5e41d03484aa",
   "metadata": {},
   "outputs": [
    {
     "data": {
      "text/plain": [
       "array([0, 1, 2, 3, 4, 5, 6, 7, 8, 9])"
      ]
     },
     "execution_count": 12,
     "metadata": {},
     "output_type": "execute_result"
    }
   ],
   "source": [
    "digits.target_names"
   ]
  },
  {
   "cell_type": "code",
   "execution_count": 14,
   "id": "90bdfad7-af37-49d9-992f-88ca92122868",
   "metadata": {},
   "outputs": [
    {
     "data": {
      "text/plain": [
       "(1797, 8, 8)"
      ]
     },
     "execution_count": 14,
     "metadata": {},
     "output_type": "execute_result"
    }
   ],
   "source": [
    "digits.images.shape"
   ]
  },
  {
   "cell_type": "markdown",
   "id": "e9f1bf06-670d-48bd-a518-90e64730c606",
   "metadata": {},
   "source": [
    "## Exercice\n",
    "\n",
    "Utiliser `matplotlib` pour visuliser les images encodées dans `digits.data` vous mettrez le chiffre correspondant en titre."
   ]
  },
  {
   "cell_type": "code",
   "execution_count": 16,
   "id": "65aa28ce-0141-425e-aaa0-5eadc8e60a01",
   "metadata": {},
   "outputs": [],
   "source": [
    "chiffre = digits.target[0]\n",
    "image = digits.data[0].reshape(8, 8)"
   ]
  },
  {
   "cell_type": "code",
   "execution_count": 17,
   "id": "89682513-28d3-4c91-985c-d0209c99cce9",
   "metadata": {},
   "outputs": [
    {
     "data": {
      "text/plain": [
       "Text(0.5, 1.0, 'chiffre=0')"
      ]
     },
     "execution_count": 17,
     "metadata": {},
     "output_type": "execute_result"
    },
    {
     "data": {
      "image/png": "[encoded data removed]",
      "text/plain": [
       "<Figure size 640x480 with 1 Axes>"
      ]
     },
     "metadata": {},
     "output_type": "display_data"
    }
   ],
   "source": [
    "plt.spy(image)\n",
    "plt.title(f\"{chiffre=}\")"
   ]
  },
  {
   "cell_type": "code",
   "execution_count": 23,
   "id": "91e46571-9d05-4547-914f-c160721da6ce",
   "metadata": {},
   "outputs": [
    {
     "data": {
      "image/png": "[encoded data removed]",
      "text/plain": [
       "<Figure size 640x480 with 16 Axes>"
      ]
     },
     "metadata": {},
     "output_type": "display_data"
    }
   ],
   "source": [
    "fig, reps = plt.subplots(nrows=4, ncols=4)\n",
    "for i in range(4):\n",
    "    for j in range(4):\n",
    "        reps[i,j].spy(digits.data[4 * i + j].reshape(8,8))\n",
    "        reps[i,j].set_xticks([])\n",
    "        reps[i,j].set_yticks([])"
   ]
  },
  {
   "cell_type": "markdown",
   "id": "c782e0c2-56e8-4908-8ef1-8edf5d453abf",
   "metadata": {},
   "source": [
    "## Exercice\n",
    "\n",
    "Remplacer `plt.spy` pour visualiser les niveaux de gris."
   ]
  },
  {
   "cell_type": "code",
   "execution_count": 27,
   "id": "b2ec28e4-620b-4717-87e6-35e20a5dec08",
   "metadata": {},
   "outputs": [
    {
     "data": {
      "image/png": "[encoded data removed]",
      "text/plain": [
       "<Figure size 640x480 with 16 Axes>"
      ]
     },
     "metadata": {},
     "output_type": "display_data"
    }
   ],
   "source": [
    "fig, reps = plt.subplots(nrows=4, ncols=4)\n",
    "for i in range(4):\n",
    "    for j in range(4):\n",
    "        reps[i,j].imshow(\n",
    "            15 - digits.data[4 * i + j].reshape(8,8),\n",
    "            cmap=\"gray\",\n",
    "            vmin=0,\n",
    "            vmax=15,\n",
    "        )\n",
    "        reps[i,j].set_xticks([])\n",
    "        reps[i,j].set_yticks([])"
   ]
  },
  {
   "cell_type": "markdown",
   "id": "2e49c8bf-fa5a-4868-be60-b260b07f6ed7",
   "metadata": {},
   "source": [
    "# Machine Learning\n",
    "\n",
    "## Exercice\n",
    "\n",
    "Entrainer un modèle de classification de type *plus proches voisins* sur le dataset en utilisant l'approche standard."
   ]
  },
  {
   "cell_type": "code",
   "execution_count": 29,
   "id": "75eefd7c-65cd-45d2-af89-2188285f4027",
   "metadata": {},
   "outputs": [],
   "source": [
    "from sklearn.model_selection import train_test_split, cross_val_score"
   ]
  },
  {
   "cell_type": "code",
   "execution_count": 30,
   "id": "ff5bb712-8940-4d06-83e0-4514e698a6b7",
   "metadata": {},
   "outputs": [],
   "source": [
    "X_tr, X_te, y_tr, y_te = train_test_split(digits.data, digits.target, test_size=0.2)"
   ]
  },
  {
   "cell_type": "code",
   "execution_count": 28,
   "id": "b9d7ccb8-d105-4f70-ab19-8afeeea960f4",
   "metadata": {},
   "outputs": [],
   "source": [
    "from sklearn.neighbors import KNeighborsClassifier"
   ]
  },
  {
   "cell_type": "code",
   "execution_count": 32,
   "id": "ebcb45b2-f289-47d6-a675-8af49c077a42",
   "metadata": {},
   "outputs": [
    {
     "name": "stdout",
     "output_type": "stream",
     "text": [
      "CPU times: total: 38.1 s\n",
      "Wall time: 13.7 s\n"
     ]
    }
   ],
   "source": [
    "%%time\n",
    "resultat = dict()\n",
    "for nb_voisins in range(2, 15):\n",
    "    modele = KNeighborsClassifier(n_neighbors=nb_voisins)\n",
    "    resultat[nb_voisins] = cross_val_score(modele, X_tr, y_tr).mean()"
   ]
  },
  {
   "cell_type": "code",
   "execution_count": 33,
   "id": "a64acfaa-5178-4314-8d2e-a30c0de4aeca",
   "metadata": {},
   "outputs": [
    {
     "data": {
      "text/plain": [
       "{2: 0.9805095818815331,\n",
       " 3: 0.9853803716608593,\n",
       " 4: 0.9791182733255903,\n",
       " 5: 0.9832970383275261,\n",
       " 6: 0.9798151374370887,\n",
       " 7: 0.9798127177700348,\n",
       " 8: 0.9756363724351529,\n",
       " 9: 0.9770301006581494,\n",
       " 10: 0.9777269647696476,\n",
       " 11: 0.9749395083236546,\n",
       " 12: 0.9728537553232675,\n",
       " 13: 0.9714648664343786,\n",
       " 14: 0.9700687185443282}"
      ]
     },
     "execution_count": 33,
     "metadata": {},
     "output_type": "execute_result"
    }
   ],
   "source": [
    "resultat"
   ]
  },
  {
   "cell_type": "code",
   "execution_count": 34,
   "id": "eca52497-2296-4955-a016-37cbcb09fdde",
   "metadata": {},
   "outputs": [
    {
     "data": {
      "text/html": [
       "<style>#sk-container-id-1 {color: black;background-color: white;}#sk-container-id-1 pre{padding: 0;}#sk-container-id-1 div.sk-toggleable {background-color: white;}#sk-container-id-1 label.sk-toggleable__label {cursor: pointer;display: block;width: 100%;margin-bottom: 0;padding: 0.3em;box-sizing: border-box;text-align: center;}#sk-container-id-1 label.sk-toggleable__label-arrow:before {content: \"▸\";float: left;margin-right: 0.25em;color: #696969;}#sk-container-id-1 label.sk-toggleable__label-arrow:hover:before {color: black;}#sk-container-id-1 div.sk-estimator:hover label.sk-toggleable__label-arrow:before {color: black;}#sk-container-id-1 div.sk-toggleable__content {max-height: 0;max-width: 0;overflow: hidden;text-align: left;background-color: #f0f8ff;}#sk-container-id-1 div.sk-toggleable__content pre {margin: 0.2em;color: black;border-radius: 0.25em;background-color: #f0f8ff;}#sk-container-id-1 input.sk-toggleable__control:checked~div.sk-toggleable__content {max-height: 200px;max-width: 100%;overflow: auto;}#sk-container-id-1 input.sk-toggleable__control:checked~label.sk-toggleable__label-arrow:before {content: \"▾\";}#sk-container-id-1 div.sk-estimator input.sk-toggleable__control:checked~label.sk-toggleable__label {background-color: #d4ebff;}#sk-container-id-1 div.sk-label input.sk-toggleable__control:checked~label.sk-toggleable__label {background-color: #d4ebff;}#sk-container-id-1 input.sk-hidden--visually {border: 0;clip: rect(1px 1px 1px 1px);clip: rect(1px, 1px, 1px, 1px);height: 1px;margin: -1px;overflow: hidden;padding: 0;position: absolute;width: 1px;}#sk-container-id-1 div.sk-estimator {font-family: monospace;background-color: #f0f8ff;border: 1px dotted black;border-radius: 0.25em;box-sizing: border-box;margin-bottom: 0.5em;}#sk-container-id-1 div.sk-estimator:hover {background-color: #d4ebff;}#sk-container-id-1 div.sk-parallel-item::after {content: \"\";width: 100%;border-bottom: 1px solid gray;flex-grow: 1;}#sk-container-id-1 div.sk-label:hover label.sk-toggleable__label {background-color: #d4ebff;}#sk-container-id-1 div.sk-serial::before {content: \"\";position: absolute;border-left: 1px solid gray;box-sizing: border-box;top: 0;bottom: 0;left: 50%;z-index: 0;}#sk-container-id-1 div.sk-serial {display: flex;flex-direction: column;align-items: center;background-color: white;padding-right: 0.2em;padding-left: 0.2em;position: relative;}#sk-container-id-1 div.sk-item {position: relative;z-index: 1;}#sk-container-id-1 div.sk-parallel {display: flex;align-items: stretch;justify-content: center;background-color: white;position: relative;}#sk-container-id-1 div.sk-item::before, #sk-container-id-1 div.sk-parallel-item::before {content: \"\";position: absolute;border-left: 1px solid gray;box-sizing: border-box;top: 0;bottom: 0;left: 50%;z-index: -1;}#sk-container-id-1 div.sk-parallel-item {display: flex;flex-direction: column;z-index: 1;position: relative;background-color: white;}#sk-container-id-1 div.sk-parallel-item:first-child::after {align-self: flex-end;width: 50%;}#sk-container-id-1 div.sk-parallel-item:last-child::after {align-self: flex-start;width: 50%;}#sk-container-id-1 div.sk-parallel-item:only-child::after {width: 0;}#sk-container-id-1 div.sk-dashed-wrapped {border: 1px dashed gray;margin: 0 0.4em 0.5em 0.4em;box-sizing: border-box;padding-bottom: 0.4em;background-color: white;}#sk-container-id-1 div.sk-label label {font-family: monospace;font-weight: bold;display: inline-block;line-height: 1.2em;}#sk-container-id-1 div.sk-label-container {text-align: center;}#sk-container-id-1 div.sk-container {/* jupyter's `normalize.less` sets `[hidden] { display: none; }` but bootstrap.min.css set `[hidden] { display: none !important; }` so we also need the `!important` here to be able to override the default hidden behavior on the sphinx rendered scikit-learn.org. See: https://github.com/scikit-learn/scikit-learn/issues/21755 */display: inline-block !important;position: relative;}#sk-container-id-1 div.sk-text-repr-fallback {display: none;}</style><div id=\"sk-container-id-1\" class=\"sk-top-container\"><div class=\"sk-text-repr-fallback\"><pre>KNeighborsClassifier(n_neighbors=3)</pre><b>In a Jupyter environment, please rerun this cell to show the HTML representation or trust the notebook. <br />On GitHub, the HTML representation is unable to render, please try loading this page with nbviewer.org.</b></div><div class=\"sk-container\" hidden><div class=\"sk-item\"><div class=\"sk-estimator sk-toggleable\"><input class=\"sk-toggleable__control sk-hidden--visually\" id=\"sk-estimator-id-1\" type=\"checkbox\" checked><label for=\"sk-estimator-id-1\" class=\"sk-toggleable__label sk-toggleable__label-arrow\">KNeighborsClassifier</label><div class=\"sk-toggleable__content\"><pre>KNeighborsClassifier(n_neighbors=3)</pre></div></div></div></div></div>"
      ],
      "text/plain": [
       "KNeighborsClassifier(n_neighbors=3)"
      ]
     },
     "execution_count": 34,
     "metadata": {},
     "output_type": "execute_result"
    }
   ],
   "source": [
    "choix = KNeighborsClassifier(n_neighbors=3)\n",
    "choix.fit(X_tr, y_tr)"
   ]
  },
  {
   "cell_type": "code",
   "execution_count": 35,
   "id": "55b0750f-ccdb-4ce7-8bbf-e62b1d0ceba7",
   "metadata": {},
   "outputs": [
    {
     "data": {
      "text/plain": [
       "0.9923451635351427"
      ]
     },
     "execution_count": 35,
     "metadata": {},
     "output_type": "execute_result"
    }
   ],
   "source": [
    "choix.score(X_tr, y_tr)"
   ]
  },
  {
   "cell_type": "code",
   "execution_count": 36,
   "id": "853dcb9a-9465-4300-a044-261ddae70367",
   "metadata": {},
   "outputs": [
    {
     "data": {
      "text/plain": [
       "0.9861111111111112"
      ]
     },
     "execution_count": 36,
     "metadata": {},
     "output_type": "execute_result"
    }
   ],
   "source": [
    "choix.score(X_te, y_te)"
   ]
  },
  {
   "cell_type": "markdown",
   "id": "f61e81a4-70f1-45ac-8ec6-e94cc81796b0",
   "metadata": {},
   "source": [
    "Nous ne sommes pas en situation de surapprentissage, on pourrait déployer le modèle en production."
   ]
  },
  {
   "cell_type": "markdown",
   "id": "a65c8071-3f04-4a5a-a4bb-af8ec0679d2c",
   "metadata": {},
   "source": [
    "### Représentation alternative des erreurs"
   ]
  },
  {
   "cell_type": "code",
   "execution_count": 37,
   "id": "8d0864eb-c41e-4d43-9f7e-01ea35301a6a",
   "metadata": {},
   "outputs": [],
   "source": [
    "from sklearn.metrics import confusion_matrix"
   ]
  },
  {
   "cell_type": "code",
   "execution_count": 40,
   "id": "8a567091-e142-4aa3-aa17-762d696cfc72",
   "metadata": {},
   "outputs": [
    {
     "data": {
      "text/plain": [
       "(1797, 64)"
      ]
     },
     "execution_count": 40,
     "metadata": {},
     "output_type": "execute_result"
    }
   ],
   "source": [
    "np.concatenate((X_tr, X_te)).shape"
   ]
  },
  {
   "cell_type": "code",
   "execution_count": 41,
   "id": "38982653-f86f-4e2d-ad0f-add6127fb501",
   "metadata": {},
   "outputs": [
    {
     "data": {
      "text/plain": [
       "array([1, 2, 0, ..., 2, 0, 9])"
      ]
     },
     "execution_count": 41,
     "metadata": {},
     "output_type": "execute_result"
    }
   ],
   "source": [
    "np.concatenate((y_tr, y_te))"
   ]
  },
  {
   "cell_type": "code",
   "execution_count": 43,
   "id": "05c53b49-34f8-48a2-9e6e-ae31db9d1995",
   "metadata": {},
   "outputs": [
    {
     "data": {
      "text/plain": [
       "array([[178,   0,   0,   0,   0,   0,   0,   0,   0,   0],\n",
       "       [  0, 182,   0,   0,   0,   0,   0,   0,   0,   0],\n",
       "       [  0,   0, 176,   1,   0,   0,   0,   0,   0,   0],\n",
       "       [  0,   0,   0, 182,   0,   0,   0,   1,   0,   0],\n",
       "       [  0,   0,   0,   0, 181,   0,   0,   0,   0,   0],\n",
       "       [  0,   0,   0,   0,   0, 179,   1,   0,   0,   2],\n",
       "       [  0,   0,   0,   0,   0,   0, 180,   0,   1,   0],\n",
       "       [  0,   0,   0,   0,   0,   0,   0, 179,   0,   0],\n",
       "       [  0,   4,   0,   0,   0,   0,   0,   0, 170,   0],\n",
       "       [  0,   0,   0,   3,   1,   0,   0,   0,   2, 174]], dtype=int64)"
      ]
     },
     "execution_count": 43,
     "metadata": {},
     "output_type": "execute_result"
    }
   ],
   "source": [
    "mc = confusion_matrix(np.concatenate((y_tr, y_te)), choix.predict(np.concatenate((X_tr, X_te))))\n",
    "mc"
   ]
  },
  {
   "cell_type": "code",
   "execution_count": 45,
   "id": "bdf14812-772a-4ee7-886f-026aa76bf0d7",
   "metadata": {
    "tags": []
   },
   "outputs": [
    {
     "name": "stdout",
     "output_type": "stream",
     "text": [
      "0.9910962715637173\n"
     ]
    }
   ],
   "source": [
    "# Calcul du score à partir de la matrice de confusion\n",
    "somme_diagonale = 0\n",
    "for i in range(10):\n",
    "    somme_diagonale += mc[i,i]\n",
    "\n",
    "print(somme_diagonale / mc.sum())\n",
    "\n"
   ]
  },
  {
   "cell_type": "code",
   "execution_count": 47,
   "id": "e860f7d7-6d1a-4226-941a-e63780b84405",
   "metadata": {},
   "outputs": [
    {
     "data": {
      "text/plain": [
       "array([[1, 2, 3, 3],\n",
       "       [4, 5, 6, 6],\n",
       "       [7, 8, 9, 9]])"
      ]
     },
     "execution_count": 47,
     "metadata": {},
     "output_type": "execute_result"
    }
   ],
   "source": [
    "# exemple utilisation de einsum\n",
    "M = np.array([[1, 2, 3, 3], [4, 5, 6, 6], [7, 8, 9, 9]])\n",
    "M"
   ]
  },
  {
   "cell_type": "code",
   "execution_count": 48,
   "id": "4183723f-920b-423c-b579-32d2bfbd160d",
   "metadata": {},
   "outputs": [
    {
     "data": {
      "text/plain": [
       "array([1, 2, 3, 4])"
      ]
     },
     "execution_count": 48,
     "metadata": {},
     "output_type": "execute_result"
    }
   ],
   "source": [
    "u = np.array([1, 2, 3, 4])\n",
    "u"
   ]
  },
  {
   "cell_type": "code",
   "execution_count": 51,
   "id": "1110ecab-9e42-49d1-9478-565b5cbda4ee",
   "metadata": {},
   "outputs": [
    {
     "data": {
      "text/plain": [
       "array([[ 1,  4,  9, 12],\n",
       "       [ 4, 10, 18, 24],\n",
       "       [ 7, 16, 27, 36]])"
      ]
     },
     "execution_count": 51,
     "metadata": {},
     "output_type": "execute_result"
    }
   ],
   "source": [
    "M * u"
   ]
  },
  {
   "cell_type": "code",
   "execution_count": 50,
   "id": "47796e49-a97b-4f8c-9878-570d344b00d5",
   "metadata": {},
   "outputs": [
    {
     "data": {
      "text/plain": [
       "array([26, 56, 86])"
      ]
     },
     "execution_count": 50,
     "metadata": {},
     "output_type": "execute_result"
    }
   ],
   "source": [
    "M @ u"
   ]
  },
  {
   "cell_type": "code",
   "execution_count": 52,
   "id": "af5a822d-0395-4510-8417-17ad6023d78b",
   "metadata": {},
   "outputs": [
    {
     "data": {
      "text/plain": [
       "array([26, 56, 86])"
      ]
     },
     "execution_count": 52,
     "metadata": {},
     "output_type": "execute_result"
    }
   ],
   "source": [
    "np.einsum(\"ij,j\", M, u)"
   ]
  },
  {
   "cell_type": "code",
   "execution_count": 53,
   "id": "ddb0df64-4ef1-420d-9065-a1592cdf2da5",
   "metadata": {},
   "outputs": [
    {
     "data": {
      "text/plain": [
       "0.9910962715637173"
      ]
     },
     "execution_count": 53,
     "metadata": {},
     "output_type": "execute_result"
    }
   ],
   "source": [
    "# Calcul du score via einsum pour plus de vitesse d'exécution\n",
    "np.einsum(\"ii\", mc) / mc.sum()"
   ]
  },
  {
   "cell_type": "markdown",
   "id": "cc98cc61-47df-4870-bb99-8a6b63ffb548",
   "metadata": {},
   "source": [
    "## Exercice\n",
    "\n",
    "Reprendre la démarche en ajoutant aussi\n",
    "\n",
    "- Regression logistique\n",
    "- gradient boosting\n",
    "- random forest\n",
    "- gaussian process\n",
    "- réseaux de neurones\n",
    "- bayes naive\n",
    "- support vector\n"
   ]
  },
  {
   "cell_type": "markdown",
   "id": "2de749b7-5b50-4f88-a1d5-aa6c5cd6917f",
   "metadata": {},
   "source": [
    "## Régression logistique\n",
    "\n",
    "Consulter [le guide de l'utilisateur de sklearn](https://scikit-learn.org/stable/modules/linear_model.html#logistic-regression) pour une explication de l'algorithme."
   ]
  },
  {
   "cell_type": "code",
   "execution_count": 54,
   "id": "811c3c81-72bd-4fba-bde7-61dadd8fd611",
   "metadata": {},
   "outputs": [],
   "source": [
    "from sklearn.linear_model import LogisticRegression"
   ]
  },
  {
   "cell_type": "code",
   "execution_count": 61,
   "id": "69c41648-fb87-4136-83fb-afc9ffd207f8",
   "metadata": {},
   "outputs": [
    {
     "data": {
      "text/plain": [
       "0.9645107433217189"
      ]
     },
     "execution_count": 61,
     "metadata": {},
     "output_type": "execute_result"
    }
   ],
   "source": [
    "lr = LogisticRegression(max_iter=10000)\n",
    "cross_val_score(lr, X_tr, y_tr).mean()"
   ]
  },
  {
   "cell_type": "markdown",
   "id": "ab51b2ce-2249-4dbf-8bde-9975ca7f855c",
   "metadata": {},
   "source": [
    "## Bayesien Naif"
   ]
  },
  {
   "cell_type": "code",
   "execution_count": 58,
   "id": "17088a46-56f5-4014-9e33-ab5de51d05ff",
   "metadata": {},
   "outputs": [],
   "source": [
    "from sklearn.naive_bayes import GaussianNB, MultinomialNB"
   ]
  },
  {
   "cell_type": "code",
   "execution_count": 63,
   "id": "4ee4579e-c6ec-4735-97db-47504207a2b3",
   "metadata": {},
   "outputs": [
    {
     "data": {
      "text/plain": [
       "0.8538545296167246"
      ]
     },
     "execution_count": 63,
     "metadata": {},
     "output_type": "execute_result"
    }
   ],
   "source": [
    "gnb = GaussianNB()\n",
    "cross_val_score(gnb, X_tr, y_tr).mean()"
   ]
  },
  {
   "cell_type": "code",
   "execution_count": 65,
   "id": "1212e6dc-9a57-4c87-8ddc-e3e16311f2f2",
   "metadata": {},
   "outputs": [
    {
     "data": {
      "text/plain": [
       "0.8970020325203253"
      ]
     },
     "execution_count": 65,
     "metadata": {},
     "output_type": "execute_result"
    }
   ],
   "source": [
    "mnb = MultinomialNB()\n",
    "cross_val_score(mnb, X_tr, y_tr).mean()"
   ]
  },
  {
   "cell_type": "markdown",
   "id": "95ab164a-6bdf-4d2a-a20a-64d0e1a52759",
   "metadata": {},
   "source": [
    "## A Suivre"
   ]
  },
  {
   "cell_type": "code",
   "execution_count": 59,
   "id": "6a1dfb04-1a5e-4a11-820d-1a980e2a5c2b",
   "metadata": {},
   "outputs": [],
   "source": [
    "from sklearn.svm import SVC"
   ]
  },
  {
   "cell_type": "code",
   "execution_count": 56,
   "id": "a405a42b-5951-4af2-b286-4f58329b5acc",
   "metadata": {},
   "outputs": [],
   "source": [
    "from sklearn.gaussian_process import GaussianProcessClassifier"
   ]
  },
  {
   "cell_type": "code",
   "execution_count": 57,
   "id": "ea805fea-4937-42fe-af79-11d9ad6b2e9c",
   "metadata": {},
   "outputs": [],
   "source": [
    "from sklearn.neural_network import MLPClassifier"
   ]
  },
  {
   "cell_type": "code",
   "execution_count": 55,
   "id": "6d07f2b6-02a3-4c9b-9013-9775de017292",
   "metadata": {},
   "outputs": [],
   "source": [
    "from sklearn.ensemble import GradientBoostingClassifier, RandomForestClassifier"
   ]
  },
  {
   "cell_type": "code",
   "execution_count": null,
   "id": "52d69877-540d-46d3-bbac-9230ac968a73",
   "metadata": {},
   "outputs": [],
   "source": []
  }
 ],
 "metadata": {
  "kernelspec": {
   "display_name": "Python 3 (ipykernel)",
   "language": "python",
   "name": "python3"
  },
  "language_info": {
   "codemirror_mode": {
    "name": "ipython",
    "version": 3
   },
   "file_extension": ".py",
   "mimetype": "text/x-python",
   "name": "python",
   "nbconvert_exporter": "python",
   "pygments_lexer": "ipython3",
   "version": "3.10.9"
  }
 },
 "nbformat": 4,
 "nbformat_minor": 5
}
