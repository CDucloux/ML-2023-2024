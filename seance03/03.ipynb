{
 "cells": [
  {
   "cell_type": "markdown",
   "id": "ba88779a-e260-4738-8fc7-cd029754926a",
   "metadata": {},
   "source": [
    "# imports"
   ]
  },
  {
   "cell_type": "code",
   "execution_count": 1,
   "id": "30208ef0-132d-4ca3-b0f5-a8903e1435b6",
   "metadata": {},
   "outputs": [],
   "source": [
    "from pathlib import Path"
   ]
  },
  {
   "cell_type": "code",
   "execution_count": 2,
   "id": "b1521e34-56b0-4049-b4fc-4b5363a78092",
   "metadata": {},
   "outputs": [],
   "source": [
    "import bs4"
   ]
  },
  {
   "cell_type": "code",
   "execution_count": 3,
   "id": "dc5c7ff1-a4fc-47bf-b08d-7e9afd0b2109",
   "metadata": {},
   "outputs": [],
   "source": [
    "from bs4 import BeautifulSoup as BS"
   ]
  },
  {
   "cell_type": "code",
   "execution_count": 4,
   "id": "ee315916-0035-4cb5-85b2-356a389a128d",
   "metadata": {},
   "outputs": [],
   "source": [
    "from dataclasses import dataclass"
   ]
  },
  {
   "cell_type": "code",
   "execution_count": 5,
   "id": "11600e40-ffbf-4f96-a474-bb0ea7bd8029",
   "metadata": {},
   "outputs": [],
   "source": [
    "from enum import Enum"
   ]
  },
  {
   "cell_type": "code",
   "execution_count": 6,
   "id": "f37b339a",
   "metadata": {},
   "outputs": [],
   "source": [
    "from serde import serialize, deserialize\n",
    "from serde.json import to_json"
   ]
  },
  {
   "cell_type": "markdown",
   "id": "0b4930b6",
   "metadata": {},
   "source": []
  },
  {
   "cell_type": "markdown",
   "id": "2398da32-be66-4eb6-8fb6-f2f07814b8cf",
   "metadata": {},
   "source": [
    "# Récupération du contenu html\n",
    "\n",
    "On a **manuellement** sauvegarder les 7 premières pages correspondant aux résultats de la recherche *python* sur [amazon.fr](www.amazon.fr)"
   ]
  },
  {
   "cell_type": "code",
   "execution_count": 7,
   "id": "70c4a83e-6088-43cc-9f9f-a3989b5737e2",
   "metadata": {},
   "outputs": [
    {
     "name": "stdout",
     "output_type": "stream",
     "text": [
      "D:\\Cours Mecen (M2)\\Machine Learning\\ML-2023-2024\\seance03\n"
     ]
    }
   ],
   "source": [
    "racine = Path(\".\").resolve()\n",
    "print(racine)"
   ]
  },
  {
   "cell_type": "code",
   "execution_count": 8,
   "id": "15742e7a-eb1b-4e31-a6c2-4001fb121d6c",
   "metadata": {},
   "outputs": [
    {
     "name": "stdout",
     "output_type": "stream",
     "text": [
      "D:\\Cours Mecen (M2)\\Machine Learning\\ML-2023-2024\\seance03\\03.ipynb\n",
      "D:\\Cours Mecen (M2)\\Machine Learning\\ML-2023-2024\\seance03\\articles.json\n",
      "D:\\Cours Mecen (M2)\\Machine Learning\\ML-2023-2024\\seance03\\pages\n"
     ]
    }
   ],
   "source": [
    "for contenu in racine.glob(\"*\"):\n",
    "    print(contenu)"
   ]
  },
  {
   "cell_type": "code",
   "execution_count": 9,
   "id": "b51f308e-57ae-4bb7-a4d2-22011610de16",
   "metadata": {},
   "outputs": [
    {
     "name": "stdout",
     "output_type": "stream",
     "text": [
      "D:\\Cours Mecen (M2)\\Machine Learning\\ML-2023-2024\\seance03\\pages\n"
     ]
    }
   ],
   "source": [
    "pages = racine / \"pages\"\n",
    "print(pages)"
   ]
  },
  {
   "cell_type": "code",
   "execution_count": 10,
   "id": "002f5344-b7ce-4899-9984-ef74415ef330",
   "metadata": {},
   "outputs": [
    {
     "name": "stdout",
     "output_type": "stream",
     "text": [
      "D:\\Cours Mecen (M2)\\Machine Learning\\ML-2023-2024\\seance03\\pages\\amazon_p1.html\n",
      "D:\\Cours Mecen (M2)\\Machine Learning\\ML-2023-2024\\seance03\\pages\\amazon_p2.html\n",
      "D:\\Cours Mecen (M2)\\Machine Learning\\ML-2023-2024\\seance03\\pages\\amazon_p3.html\n",
      "D:\\Cours Mecen (M2)\\Machine Learning\\ML-2023-2024\\seance03\\pages\\amazon_p4.html\n",
      "D:\\Cours Mecen (M2)\\Machine Learning\\ML-2023-2024\\seance03\\pages\\amazon_p5.html\n",
      "D:\\Cours Mecen (M2)\\Machine Learning\\ML-2023-2024\\seance03\\pages\\amazon_p6.html\n"
     ]
    }
   ],
   "source": [
    "for chemin in pages.glob(\"*.html\"):\n",
    "    print(chemin)"
   ]
  },
  {
   "cell_type": "code",
   "execution_count": 11,
   "id": "fcedc757-8ad0-4010-a1a6-2cef63b50e7a",
   "metadata": {},
   "outputs": [],
   "source": [
    "htmls = list()\n",
    "for chemin in pages.glob(\"*.html\"):\n",
    "    htmls.append(chemin.read_text(encoding=\"utf8\"))"
   ]
  },
  {
   "cell_type": "markdown",
   "id": "2c545930-e200-4f5e-8401-9491c225ad05",
   "metadata": {
    "jupyter": {
     "outputs_hidden": true
    },
    "tags": []
   },
   "source": [
    "# Exploitation de la première page html"
   ]
  },
  {
   "cell_type": "markdown",
   "id": "14a30cd7-d75c-4914-b775-e9720fa45421",
   "metadata": {},
   "source": [
    "## Exercice\n",
    "\n",
    "En utilisant les outils de développement du navigateur et `bs4`, récupérer la liste des éléments représentant des livres dans la première page."
   ]
  },
  {
   "cell_type": "code",
   "execution_count": 12,
   "id": "3917b54c-bdf1-499d-8f5b-83cdca764433",
   "metadata": {},
   "outputs": [],
   "source": [
    "soupe = BS(htmls[0])"
   ]
  },
  {
   "cell_type": "code",
   "execution_count": 13,
   "id": "4772cfbf-aba3-472f-9e59-5166da30b50c",
   "metadata": {},
   "outputs": [],
   "source": [
    "result_items = soupe.find_all(name=\"div\", attrs={\"class\": \"s-result-item\"})"
   ]
  },
  {
   "cell_type": "code",
   "execution_count": 14,
   "id": "d6a178ea-2723-4319-9313-298b410e2bbb",
   "metadata": {},
   "outputs": [
    {
     "data": {
      "text/plain": [
       "66"
      ]
     },
     "execution_count": 14,
     "metadata": {},
     "output_type": "execute_result"
    }
   ],
   "source": [
    "len(result_items)"
   ]
  },
  {
   "cell_type": "markdown",
   "id": "73feb37b-5a19-4564-a5e2-e6b461e3672c",
   "metadata": {},
   "source": [
    "**ATTENTION** on voit visuellement qu'il n'y a que 60 éléments à récupérer dans la page, donc il y a des intrus à identifier."
   ]
  },
  {
   "cell_type": "code",
   "execution_count": 15,
   "id": "6d339fb2-9238-4b47-ae8e-8c0049dc4a98",
   "metadata": {},
   "outputs": [],
   "source": [
    "result_item = result_items[6]"
   ]
  },
  {
   "cell_type": "markdown",
   "id": "588dcf05",
   "metadata": {},
   "source": [
    "`.prettify()` permet de représenter la page `HTML` bien indentée"
   ]
  },
  {
   "cell_type": "code",
   "execution_count": 16,
   "id": "1f58c1bd-6671-44b1-929b-cfd1f3f30af1",
   "metadata": {
    "collapsed": true,
    "jupyter": {
     "outputs_hidden": true
    },
    "tags": []
   },
   "outputs": [
    {
     "name": "stdout",
     "output_type": "stream",
     "text": [
      "<div class=\"sg-col-4-of-24 sg-col-4-of-12 s-result-item s-asin sg-col-4-of-16 sg-col s-widget-spacing-small sg-col-4-of-20\" data-asin=\"2212134347\" data-cel-widget=\"search_result_6\" data-component-id=\"35\" data-component-type=\"s-search-result\" data-index=\"7\" data-uuid=\"ae59066a-490b-440c-9fb4-bdcac883e08c\">\n",
      " <div class=\"sg-col-inner\">\n",
      "  <div cel_widget_id=\"MAIN-SEARCH_RESULTS-7\" class=\"s-widget-container s-spacing-small s-widget-container-height-small celwidget slot=MAIN template=SEARCH_RESULTS widgetId=search-results_6\" data-cel-widget=\"MAIN-SEARCH_RESULTS-7\" data-csa-c-id=\"n4rabc-757nxu-avzfy4-ki1ill\" data-csa-c-item-id=\"amzn1.asin.1.2212134347\" data-csa-c-pos=\"6\" data-csa-c-type=\"item\" data-csa-op-log-render=\"\">\n",
      "   <div class=\"s-card-container s-overflow-hidden aok-relative puis-expand-height puis-include-content-margin puis puis-v20azwp0smsgc01ytmkntf1rk7n s-latency-cf-section s-card-border\">\n",
      "    <div class=\"a-section a-spacing-base\">\n",
      "     <div class=\"s-product-image-container aok-relative s-text-center s-image-overlay-grey puis-image-overlay-grey s-padding-left-small s-padding-right-small puis-spacing-small s-height-equalized puis puis-v20azwp0smsgc01ytmkntf1rk7n\" style=\"padding-top: 26px !important;\">\n",
      "      <span class=\"rush-component\" data-component-id=\"36\" data-component-type=\"s-product-image\" data-render-id=\"r1cq78ldewza8i22x6sb2ygbirl\" data-version-id=\"v20azwp0smsgc01ytmkntf1rk7n\">\n",
      "       <a class=\"a-link-normal s-no-outline\" href=\"https://www.amazon.fr/Apprendre-%C3%A0-programmer-avec-Python/dp/2212134347/ref=sr_1_6?__mk_fr_FR=%C3%85M%C3%85%C5%BD%C3%95%C3%91&amp;crid=BSO40WQXRDTG&amp;keywords=python&amp;qid=1695735528&amp;sprefix=python%2Caps%2C72&amp;sr=8-6\">\n",
      "        <div class=\"a-section aok-relative s-image-square-aspect\">\n",
      "         <img alt=\"Apprendre à programmer avec Python 3\" class=\"s-image\" data-image-index=\"6\" data-image-latency=\"s-product-image\" data-image-load=\"\" data-image-source-density=\"1\" src=\"amazon_p1_fichiers/81tcI1lE3ML._AC_UL320_.jpg\" srcset=\"amazon_p1_fichiers/81tcI1lE3ML._AC_UL320_.jpg 1x, amazon_p1_fichiers/81tcI1lE3ML._AC_UL480_FMwebp_QL65_.webp 1.5x, amazon_p1_fichiers/81tcI1lE3ML._AC_UL640_FMwebp_QL65_.webp 2x, amazon_p1_fichiers/81tcI1lE3ML._AC_UL800_FMwebp_QL65_.webp 2.5x, amazon_p1_fichiers/81tcI1lE3ML._AC_UL960_FMwebp_QL65_.webp 3x\"/>\n",
      "        </div>\n",
      "       </a>\n",
      "      </span>\n",
      "     </div>\n",
      "     <div class=\"a-section a-spacing-small puis-padding-left-small puis-padding-right-small\">\n",
      "      <div class=\"a-section a-spacing-none a-spacing-top-small s-title-instructions-style\">\n",
      "       <h2 class=\"a-size-mini a-spacing-none a-color-base s-line-clamp-4\">\n",
      "        <a class=\"a-link-normal s-underline-text s-underline-link-text s-link-style a-text-normal\" href=\"https://www.amazon.fr/Apprendre-%C3%A0-programmer-avec-Python/dp/2212134347/ref=sr_1_6?__mk_fr_FR=%C3%85M%C3%85%C5%BD%C3%95%C3%91&amp;crid=BSO40WQXRDTG&amp;keywords=python&amp;qid=1695735528&amp;sprefix=python%2Caps%2C72&amp;sr=8-6\">\n",
      "         <span class=\"a-size-base-plus a-color-base a-text-normal\">\n",
      "          Apprendre à programmer avec Python 3\n",
      "         </span>\n",
      "        </a>\n",
      "       </h2>\n",
      "       <div class=\"a-row a-size-base a-color-secondary\">\n",
      "        <span class=\"a-size-base\">\n",
      "         de\n",
      "        </span>\n",
      "        <a class=\"a-size-base a-link-normal s-underline-text s-underline-link-text s-link-style\" href=\"https://www.amazon.fr/G%25C3%25A9rard-Swinnen/e/B004NAS7IU?ref=sr_ntt_srch_lnk_6&amp;qid=1695735528&amp;sr=8-6\">\n",
      "         Gérard Swinnen\n",
      "        </a>\n",
      "       </div>\n",
      "      </div>\n",
      "      <div class=\"a-section a-spacing-none a-spacing-top-micro\">\n",
      "       <div class=\"a-row a-size-small\">\n",
      "        <span aria-label=\"4,6 sur 5 étoiles\">\n",
      "         <span class=\"a-size-base puis-normal-weight-text\">\n",
      "          4,6\n",
      "         </span>\n",
      "         <span class=\"a-letter-space\">\n",
      "         </span>\n",
      "         <span class=\"a-declarative\" data-a-popover='{\"position\":\"triggerBottom\",\"popoverLabel\":\"\",\"url\":\"/review/widgets/average-customer-review/popover/ref=acr_search__popover?ie=UTF8&amp;asin=2212134347&amp;ref=acr_search__popover&amp;contextId=search\",\"closeButton\":false,\"closeButtonLabel\":\"\"}' data-action=\"a-popover\" data-csa-c-func-deps=\"aui-da-a-popover\" data-csa-c-id=\"er4e9n-hy7sfc-umki39-pqzbog\" data-csa-c-type=\"widget\" data-render-id=\"r1cq78ldewza8i22x6sb2ygbirl\" data-version-id=\"v20azwp0smsgc01ytmkntf1rk7n\">\n",
      "          <a class=\"a-popover-trigger a-declarative\" href=\"javascript:void(0)\" role=\"button\">\n",
      "           <i class=\"a-icon a-icon-star-small a-star-small-4-5 aok-align-bottom\">\n",
      "            <span class=\"a-icon-alt\">\n",
      "             4,6 sur 5 étoiles\n",
      "            </span>\n",
      "           </i>\n",
      "           <i class=\"a-icon a-icon-popover\">\n",
      "           </i>\n",
      "          </a>\n",
      "         </span>\n",
      "        </span>\n",
      "        <span aria-label=\"327\">\n",
      "         <a class=\"a-link-normal s-underline-text s-underline-link-text s-link-style\" href=\"https://www.amazon.fr/Apprendre-%C3%A0-programmer-avec-Python/dp/2212134347/ref=sr_1_6?__mk_fr_FR=%C3%85M%C3%85%C5%BD%C3%95%C3%91&amp;crid=BSO40WQXRDTG&amp;keywords=python&amp;qid=1695735528&amp;sprefix=python%2Caps%2C72&amp;sr=8-6#customerReviews\">\n",
      "          <span class=\"a-size-base s-underline-text\">\n",
      "           327\n",
      "          </span>\n",
      "         </a>\n",
      "        </span>\n",
      "       </div>\n",
      "      </div>\n",
      "      <div class=\"a-section a-spacing-none a-spacing-top-small s-price-instructions-style\">\n",
      "       <div class=\"a-row a-size-base a-color-base\">\n",
      "        <a class=\"a-size-base a-link-normal s-underline-text s-underline-link-text s-link-style a-text-bold\" href=\"https://www.amazon.fr/Apprendre-%C3%A0-programmer-avec-Python/dp/2212134347/ref=sr_1_6?__mk_fr_FR=%C3%85M%C3%85%C5%BD%C3%95%C3%91&amp;crid=BSO40WQXRDTG&amp;keywords=python&amp;qid=1695735528&amp;sprefix=python%2Caps%2C72&amp;sr=8-6\">\n",
      "         Broché\n",
      "        </a>\n",
      "       </div>\n",
      "       <div class=\"a-row a-size-base a-color-base\">\n",
      "        <a class=\"a-size-base a-link-normal s-no-hover s-underline-text s-underline-link-text s-link-style a-text-normal\" href=\"https://www.amazon.fr/Apprendre-%C3%A0-programmer-avec-Python/dp/2212134347/ref=sr_1_6?__mk_fr_FR=%C3%85M%C3%85%C5%BD%C3%95%C3%91&amp;crid=BSO40WQXRDTG&amp;keywords=python&amp;qid=1695735528&amp;sprefix=python%2Caps%2C72&amp;sr=8-6\">\n",
      "         <span class=\"a-price\" data-a-color=\"base\" data-a-size=\"xl\">\n",
      "          <span class=\"a-offscreen\">\n",
      "           32,40 €\n",
      "          </span>\n",
      "          <span aria-hidden=\"true\">\n",
      "           <span class=\"a-price-whole\">\n",
      "            32,40\n",
      "           </span>\n",
      "           <span class=\"a-price-symbol\">\n",
      "            €\n",
      "           </span>\n",
      "          </span>\n",
      "         </span>\n",
      "        </a>\n",
      "       </div>\n",
      "      </div>\n",
      "      <div class=\"a-section a-spacing-none a-spacing-top-micro\">\n",
      "       <div class=\"a-row a-size-base a-color-secondary s-align-children-center\">\n",
      "        <div class=\"a-row s-align-children-center\">\n",
      "         <span class=\"aok-inline-block s-image-logo-view\">\n",
      "          <span class=\"aok-relative s-icon-text-medium s-prime\">\n",
      "           <i aria-label=\"Amazon Prime\" class=\"a-icon a-icon-prime a-icon-medium\" role=\"img\">\n",
      "           </i>\n",
      "          </span>\n",
      "          <span>\n",
      "          </span>\n",
      "         </span>\n",
      "         <span aria-label=\"Recevez-le demain le 27 septembre\">\n",
      "          <span class=\"a-color-base\">\n",
      "           Recevez-le\n",
      "          </span>\n",
      "          <span class=\"a-color-base a-text-bold\">\n",
      "           demain le 27 septembre\n",
      "          </span>\n",
      "         </span>\n",
      "        </div>\n",
      "        <div class=\"a-row\">\n",
      "         <span aria-label=\"Livraison à 0,01€ par Amazon\">\n",
      "          <span class=\"a-color-base\">\n",
      "           Livraison à 0,01€ par Amazon\n",
      "          </span>\n",
      "         </span>\n",
      "        </div>\n",
      "       </div>\n",
      "      </div>\n",
      "      <div class=\"a-section a-spacing-none a-spacing-top-mini\">\n",
      "       <div class=\"a-row a-size-base a-color-secondary\">\n",
      "        <span class=\"a-size-base a-color-secondary\">\n",
      "         Autres vendeurs sur Amazon\n",
      "        </span>\n",
      "        <br/>\n",
      "        <span class=\"a-color-base\">\n",
      "         26,34 €\n",
      "        </span>\n",
      "        <span class=\"a-letter-space\">\n",
      "        </span>\n",
      "        <span class=\"a-declarative\" data-action=\"s-show-all-offers-display\" data-csa-c-func-deps=\"aui-da-s-show-all-offers-display\" data-csa-c-id=\"qd8u9m-njel7k-axhzab-ketpzr\" data-csa-c-type=\"widget\" data-render-id=\"r1cq78ldewza8i22x6sb2ygbirl\" data-s-show-all-offers-display='{\"assetMismatch\":\"Abandon\",\"url\":\"/gp/aod/ajax/ref=sr_1_6_aod?asin=2212134347&amp;pc=sp&amp;keywords=python&amp;crid=BSO40WQXRDTG&amp;sprefix=python%2Caps%2C72&amp;qid=1695735528&amp;__mk_fr_FR=%C3%85M%C3%85%C5%BD%C3%95%C3%91&amp;sr=8-6&amp;rrid=251P8MHDMFPFECFBFC0Z\",\"fallbackUrl\":\"/gp/offer-listing/2212134347/ref=sr_1_6_olp?keywords=python&amp;crid=BSO40WQXRDTG&amp;sprefix=python%2Caps%2C72&amp;qid=1695735528&amp;__mk_fr_FR=%C3%85M%C3%85%C5%BD%C3%95%C3%91&amp;sr=8-6\"}' data-version-id=\"v20azwp0smsgc01ytmkntf1rk7n\">\n",
      "         <a class=\"a-link-normal s-link-style s-underline-text s-underline-link-text\" href=\"https://www.amazon.fr/gp/offer-listing/2212134347/ref=sr_1_6_olp?keywords=python&amp;crid=BSO40WQXRDTG&amp;sprefix=python%2Caps%2C72&amp;qid=1695735528&amp;__mk_fr_FR=%C3%85M%C3%85%C5%BD%C3%95%C3%91&amp;sr=8-6\">\n",
      "          (11 offres de produits d’occasion et neufs)\n",
      "         </a>\n",
      "        </span>\n",
      "        <div class=\"a-section aok-hidden\" id=\"all-offers-display\">\n",
      "         <div class=\"a-spinner-wrapper aok-hidden\" id=\"all-offers-display-spinner\">\n",
      "          <span class=\"a-spinner a-spinner-medium\">\n",
      "          </span>\n",
      "         </div>\n",
      "        </div>\n",
      "        <span class=\"a-declarative\" data-action=\"close-all-offers-display\" data-csa-c-func-deps=\"aui-da-close-all-offers-display\" data-csa-c-id=\"5igl57-d6ak4a-td0sx2-3df9w1\" data-csa-c-type=\"widget\" data-render-id=\"r1cq78ldewza8i22x6sb2ygbirl\" data-version-id=\"v20azwp0smsgc01ytmkntf1rk7n\">\n",
      "         <div class=\"a-section aok-hidden aod-darken-background\" id=\"aod-background\">\n",
      "         </div>\n",
      "        </span>\n",
      "       </div>\n",
      "      </div>\n",
      "      <div class=\"a-section a-spacing-none a-spacing-top-small\">\n",
      "       <div class=\"a-row a-size-small a-color-base\">\n",
      "        <span class=\"a-size-base a-color-secondary\">\n",
      "         Autre format:\n",
      "        </span>\n",
      "        <a class=\"a-size-base a-link-normal s-underline-text s-underline-link-text s-link-style\" href=\"https://www.amazon.fr/Apprendre-programmer-avec-Python-Noire-ebook/dp/B0076YK5XA/ref=sr_1_6?__mk_fr_FR=%C3%85M%C3%85%C5%BD%C3%95%C3%91&amp;crid=BSO40WQXRDTG&amp;keywords=python&amp;qid=1695735528&amp;sprefix=python%2Caps%2C72&amp;sr=8-6\">\n",
      "         Format Kindle\n",
      "        </a>\n",
      "       </div>\n",
      "      </div>\n",
      "     </div>\n",
      "    </div>\n",
      "   </div>\n",
      "  </div>\n",
      " </div>\n",
      "</div>\n",
      "\n"
     ]
    }
   ],
   "source": [
    "print(result_item.prettify())"
   ]
  },
  {
   "cell_type": "code",
   "execution_count": 17,
   "id": "25ce7896-014c-4d13-a4dd-acec6dc55e63",
   "metadata": {},
   "outputs": [
    {
     "data": {
      "text/plain": [
       "[<span class=\"a-size-base-plus a-color-base a-text-normal\">Apprendre à programmer avec Python 3</span>]"
      ]
     },
     "execution_count": 17,
     "metadata": {},
     "output_type": "execute_result"
    }
   ],
   "source": [
    "result_item.find_all(name=\"span\", attrs={\"class\": \"a-text-normal\"})"
   ]
  },
  {
   "cell_type": "code",
   "execution_count": 18,
   "id": "6f39c043-b3d2-4ef5-b800-6c6c4c6e3475",
   "metadata": {},
   "outputs": [
    {
     "data": {
      "text/plain": [
       "[<span class=\"a-price-whole\">32,40</span>]"
      ]
     },
     "execution_count": 18,
     "metadata": {},
     "output_type": "execute_result"
    }
   ],
   "source": [
    "result_item.find_all(name=\"span\", attrs={\"class\": \"a-price-whole\"})"
   ]
  },
  {
   "cell_type": "code",
   "execution_count": 19,
   "id": "71c91460",
   "metadata": {},
   "outputs": [],
   "source": [
    "list_author_1 = [\n",
    "    x.text \n",
    "    for x in result_item.select(\"span.a-size-base:not([class*= 'a-size-base '])\") \n",
    "    if x.text[0].isupper()\n",
    "] "
   ]
  },
  {
   "cell_type": "code",
   "execution_count": 20,
   "id": "8cabe01b",
   "metadata": {},
   "outputs": [],
   "source": [
    "list_author_2 = [\n",
    "    x.text \n",
    "    for x in result_item.find_all(\n",
    "        name=\"a\", attrs={\"class\": \"a-size-base a-link-normal s-underline-text s-underline-link-text s-link-style\"}\n",
    "    )\n",
    "    if \"Format\" not in x.text\n",
    "]"
   ]
  },
  {
   "cell_type": "code",
   "execution_count": 21,
   "id": "81e7647a",
   "metadata": {},
   "outputs": [
    {
     "data": {
      "text/plain": [
       "['Gérard Swinnen']"
      ]
     },
     "execution_count": 21,
     "metadata": {},
     "output_type": "execute_result"
    }
   ],
   "source": [
    "list_author_1 + list_author_2"
   ]
  },
  {
   "cell_type": "code",
   "execution_count": 22,
   "id": "ef3f9c58-1236-4bd8-884b-64a64783cd5b",
   "metadata": {},
   "outputs": [],
   "source": [
    "def recup_titre_prix(element: bs4.element.Tag) -> tuple[str, str]:\n",
    "    titre, = element.find_all(name=\"span\", attrs={\"class\": \"a-text-normal\"})\n",
    "    prix, = element.find_all(name=\"span\", attrs={\"class\": \"a-price-whole\"})\n",
    "    return (titre.text, prix.text)\n",
    "    "
   ]
  },
  {
   "cell_type": "code",
   "execution_count": 23,
   "id": "faec5b02-c191-4490-a62c-e46852e98cc7",
   "metadata": {},
   "outputs": [
    {
     "data": {
      "text/plain": [
       "('Apprendre à programmer avec Python 3', '32,40')"
      ]
     },
     "execution_count": 23,
     "metadata": {},
     "output_type": "execute_result"
    }
   ],
   "source": [
    "recup_titre_prix(result_item)"
   ]
  },
  {
   "cell_type": "code",
   "execution_count": 24,
   "id": "238b16b1-0260-4e73-91dd-704842a85af9",
   "metadata": {},
   "outputs": [],
   "source": [
    "extractions = list()\n",
    "for item in result_items:\n",
    "    try:\n",
    "        extractions.append(recup_titre_prix(item))\n",
    "    except ValueError:\n",
    "        pass"
   ]
  },
  {
   "cell_type": "code",
   "execution_count": 25,
   "id": "8da34d24-07bc-4704-85b3-b243ee29ee29",
   "metadata": {},
   "outputs": [
    {
     "data": {
      "text/plain": [
       "56"
      ]
     },
     "execution_count": 25,
     "metadata": {},
     "output_type": "execute_result"
    }
   ],
   "source": [
    "# il y a normalement 60 livres dans la page\n",
    "len(extractions)"
   ]
  },
  {
   "cell_type": "code",
   "execution_count": 26,
   "id": "b72dd2a5-b2a8-459c-9456-9cf8c6e36395",
   "metadata": {
    "collapsed": true,
    "jupyter": {
     "outputs_hidden": true
    },
    "tags": []
   },
   "outputs": [
    {
     "name": "stdout",
     "output_type": "stream",
     "text": [
      "('Python pour débutants: Programmer un réseau neuronal en 7 jours', '16,99')\n",
      "(\"Apprendre\\n Python: Un Cours Accéléré sur la Programmation Python et Comment \\nCommencer à l’utiliser pour Coder. Apprenez les Bases de Machine \\nLearning et de l'analyse de Données\", '16,87')\n",
      "(\"PYTHON: L'introduction et les fondements pour apprendre à programmer en python en 7 jours\", '12,90')\n",
      "('Python\\n GUI Programming with PAGE: Create professional-looking GUIs for Python \\napplications efficiently and effectively (English Edition)', '32,69')\n",
      "('Python pour débutants: Programmer un réseau neuronal en 7 jours', '16,99')\n",
      "('Apprendre à programmer avec Python 3', '32,40')\n",
      "(\"J'apprends à programmer avec Python\", '12,95')\n",
      "(\"Programmer en Python - Apprendre la programmation de façon claire, concise et efficace - collection O'Reilly\", '39,00')\n",
      "(\"100\\n Exercices Python pour s'entrainer: Un ensemble d'exercices avec \\ndifférents niveaux de complexité | Débutant - Intermédiaire - Avancé | \\nExercices corrigés pour tous les niveaux\", '12,99')\n",
      "(\"Python\\n pour les Nuls, 4è édition : Livre d'informatique, Découvrir la \\nprogrammation informatique sur Python, Apprendre à coder comme un pro, \\nguide pour débutants de la programmation\", '25,95')\n",
      "(\"Apprendre\\n Python: Un Cours Accéléré sur la Programmation Python et Comment \\nCommencer à l’utiliser pour Coder. Apprenez les Bases de Machine \\nLearning et de l'analyse de Données\", '16,87')\n",
      "('Python Crash Course, 3rd Edition: A Hands-On, Project-Based Introduction to Programming', '41,02')\n",
      "('Fluent Python: Clear, Concise, and Effective Programming', '59,78')\n",
      "('Python & JavaScript pour les Nuls, mégapoche', '22,95')\n",
      "('Python 3 - Les fondamentaux du langage (3e édition)', '38,90')\n",
      "('Python pour le data scientist - 2e éd.: Des bases du langage au machine learning', '29,90')\n",
      "('Python\\n pour le lycée: Le langage Python expliqué simplement pour les Lycéens |\\n Niveau Seconde, Première, Terminale | Filière Générale ou Technologique\\n | Guide Complet Pour débutants', '14,99')\n",
      "('Python pour les kids: La prorammation accessible aux enfants ! Dès 10 ans.', '22,90')\n",
      "('Au coeur des algorithmes: Les bases de la programmation avec Python', '24,90')\n",
      "('Initiation à la cryptographie avec Python: Cours et exercices corrigés. BTS - DUT - Licence Maths et Informatique', '20,90')\n",
      "('Python pour la physique: Calcul, graphisme, simulation', '23,50')\n",
      "(\"Programmer\\n avec Python en s'amusant pour les Nuls, 4è édition: Découvrir la \\nprogrammation informatique, apprendre à coder sur Python en s'amusant à \\ntravers des projets à réaliser\", '17,95')\n",
      "(\"Python pour Excel, Automatisation et analyse des données dans un environnement moderne - collection O'Reilly\", '34,00')\n",
      "('Petite leçon de Python 2e Ed.', '36,00')\n",
      "('Programmation Python avancée - Guide pour une pratique élégante et efficace: Guide pour une pratique élégante et efficace', '29,90')\n",
      "('Automate the Boring Stuff with Python, 2nd Edition: Practical Programming for Total Beginners', '25,51')\n",
      "('Python tout-en-un pour les Nuls', '34,95')\n",
      "(\"PYTHON: L'introduction et les fondements pour apprendre à programmer en python en 7 jours\", '12,90')\n",
      "('Python: Comprendre les bases et maitriser la programmation', '34,90')\n",
      "(\"Les bases de python en 1 heure chrono: Un Apprentissage Simple et Efficace Illustré d'exemples | Guide Complet pour Débutants\", '9,99')\n",
      "(\"15 énigmes ludiques pour s'initier à la programmation Python\", '15,90')\n",
      "('Data Structures with Python: Get familiar with the common Data Structures and Algorithms in Python (English Edition)', '29,53')\n",
      "(\"Python\\n pour les Nuls, 4è édition : Livre d'informatique, Découvrir la \\nprogrammation informatique sur Python, Apprendre à coder comme un pro, \\nguide pour débutants de la programmation\", '25,95')\n",
      "('Les algorithmes, c’est plus simple avec un dessin !', '19,90')\n",
      "('70 concepts mathématiques expliqués avec Python', '23,00')\n",
      "('Apprendre à coder en Python avec Minecraft, 2e édition: Dès 10 ans', '24,90')\n",
      "(\"PYTHON,\\n Guide complet de la programmation orientée objet pour débutants: \\nDevenez un développeur en créant une IA avec l'apprentissage automatique\\n et un site web en 10 étapes. Plus de 200 exercices.\", '31,64')\n",
      "('Cahier Python pour les Maths Seconde', '9,30')\n",
      "('Machine learning et Python pour les Nuls, mégapoche', '22,95')\n",
      "('Python for Finance: Mastering Data-Driven Finance', '60,75')\n",
      "(\"L'intelligence artificielle en pratique avec Python - 2e édition: Recherche, optimisation, apprentissage\", '32,00')\n",
      "(\"Analyse de données avec Python - Optimiser la préparation des données avec Pandas, Numpy, Jupyter et IPython-collection O'Reilly\", '42,95')\n",
      "('Les bases de Python en 30 Minutes: Apprendre les bases de la programmation python', '9,99')\n",
      "('Python pour la finance', '52,95')\n",
      "('Python pour la Data science pour les Nuls, grand format', '26,95')\n",
      "(\"Machine learning avec Python - collection O'Reilly\", '35,00')\n",
      "(\"L'apprentissage profond avec Python\", '39,00')\n",
      "('Deep Learning with Python, Second Edition (English Edition)', '42,90')\n",
      "('Carnet de Réussite - Python pour les SNT - 2de - Ed. 2023', '5,90')\n",
      "('Le petit Python - Aide-mémoire pour Python 3', '24,00')\n",
      "('Python Crash Course, 2nd Edition: A Hands-On, Project-Based Introduction to Programming', '37,69')\n",
      "(\"30\\n Exercices en programmation orientée objet Python pour s'entrainer: Un \\nensemble d'exercices avec différents niveaux de complexité | Débutant - \\n... | Une correction pour tous les exercices\", '9,99')\n",
      "('Black Hat Python, 2nd Edition: Python Programming for Hackers and Pentesters', '37,13')\n",
      "('Python\\n Networking Solutions Guide: Leverage the Power of Python to Automate \\nand Maintain your Network Environment (English Edition)', '29,53')\n",
      "('Python Guide: Clear Introduction to Python Programming and Machine Learning', '21,05')\n",
      "('Selenium\\n and Appium with Python: Build robust and scalable test automation \\nframeworks using Selenium, Appium and Python (English Edition)', '34,80')\n"
     ]
    }
   ],
   "source": [
    "# Inspection visuelle\n",
    "for extraction in extractions:\n",
    "    print(extraction)"
   ]
  },
  {
   "cell_type": "markdown",
   "id": "3850a72d-73b4-404c-9a38-babaf492cf8e",
   "metadata": {},
   "source": [
    "## Exercice\n",
    "\n",
    "Ajuster la recherche précédente pour récupérer exactement les résultats voulus."
   ]
  },
  {
   "cell_type": "code",
   "execution_count": 27,
   "id": "4a977b07-4ec3-485f-9cda-adc8091a61a9",
   "metadata": {},
   "outputs": [
    {
     "name": "stdout",
     "output_type": "stream",
     "text": [
      "('Les algorithmes, c’est plus simple avec un dessin !', '19,90')\n"
     ]
    }
   ],
   "source": [
    "for extraction in extractions:\n",
    "    if \"python\" not in extraction[0].lower():\n",
    "        print(extraction)"
   ]
  },
  {
   "cell_type": "code",
   "execution_count": 28,
   "id": "7b7e0f30-2005-404f-ab1a-ce54fcfd9b22",
   "metadata": {},
   "outputs": [],
   "source": [
    "class ParsingError(Exception):\n",
    "    pass\n",
    "\n",
    "def recup_titre_prix(element: bs4.element.Tag) -> tuple[str, str]:\n",
    "    try:\n",
    "        spans = element.find_all(name=\"span\", attrs={\"class\": \"a-text-normal\"})\n",
    "        titre, = spans\n",
    "        titre = titre.text\n",
    "    except ValueError:\n",
    "        raise ParsingError\n",
    "    try:\n",
    "        spans = element.find_all(name=\"span\", attrs={\"class\": \"a-price-whole\"})\n",
    "        prix, = spans\n",
    "        prix = prix.text\n",
    "    except ValueError:\n",
    "        raise ParsingError\n",
    "    if \"python\" not in titre.lower():\n",
    "        raise ParsingError\n",
    "    return (titre, prix)"
   ]
  },
  {
   "cell_type": "code",
   "execution_count": 29,
   "id": "754cf455-9e9f-4fc2-9309-1134e6139128",
   "metadata": {},
   "outputs": [],
   "source": [
    "extractions = list()\n",
    "for item in result_items:\n",
    "    try:\n",
    "        extractions.append(recup_titre_prix(item))\n",
    "    except ParsingError:\n",
    "        pass"
   ]
  },
  {
   "cell_type": "code",
   "execution_count": 30,
   "id": "949414ae-20e4-4bfa-9abf-ea0e59bb4e85",
   "metadata": {},
   "outputs": [
    {
     "data": {
      "text/plain": [
       "55"
      ]
     },
     "execution_count": 30,
     "metadata": {},
     "output_type": "execute_result"
    }
   ],
   "source": [
    "len(extractions)"
   ]
  },
  {
   "cell_type": "markdown",
   "id": "250e13d8-8ebf-47f6-ad57-34f4a8481b4d",
   "metadata": {},
   "source": [
    "# Assemblage"
   ]
  },
  {
   "cell_type": "code",
   "execution_count": 31,
   "id": "7dfd26bd-c535-47c3-a46c-1259966cf7df",
   "metadata": {},
   "outputs": [],
   "source": [
    "class ParsingError(Exception):\n",
    "    pass\n",
    "\n",
    "def recup_titre_prix(element: bs4.element.Tag) -> tuple[str, str]:\n",
    "    try:\n",
    "        spans = element.find_all(\n",
    "            name=\"span\", \n",
    "            attrs={\"class\": \"a-text-normal\"}\n",
    "        )\n",
    "        titre, = spans\n",
    "        titre = titre.text\n",
    "    except ValueError:\n",
    "        raise ParsingError\n",
    "    try:\n",
    "        spans = element.find_all(\n",
    "            name=\"span\", \n",
    "            attrs={\"class\": \"a-price-whole\"}\n",
    "        )\n",
    "        prix, = spans\n",
    "        prix = prix.text\n",
    "    except ValueError:\n",
    "        raise ParsingError\n",
    "    if \"python\" not in titre.lower():\n",
    "        raise ParsingError\n",
    "    return (titre, prix)"
   ]
  },
  {
   "cell_type": "code",
   "execution_count": 32,
   "id": "c18ae3dc-8b33-4433-9ee4-bcace7bf4e75",
   "metadata": {},
   "outputs": [],
   "source": [
    "extractions = list()\n",
    "for html in htmls:\n",
    "    soupe = BS(html, features=\"lxml\")\n",
    "    result_items = soupe.find_all(\n",
    "        name=\"div\", \n",
    "        attrs={\"class\": \"s-result-item\"}\n",
    "    )\n",
    "    for item in result_items:\n",
    "        try:\n",
    "            extractions.append(recup_titre_prix(item))\n",
    "        except ParsingError:\n",
    "            pass"
   ]
  },
  {
   "cell_type": "code",
   "execution_count": 33,
   "id": "1286d086-a56f-4f3b-a6e1-0cfdcf939d8d",
   "metadata": {},
   "outputs": [
    {
     "data": {
      "text/plain": [
       "317"
      ]
     },
     "execution_count": 33,
     "metadata": {},
     "output_type": "execute_result"
    }
   ],
   "source": [
    "len(extractions)"
   ]
  },
  {
   "cell_type": "markdown",
   "id": "5e58ecc3-7578-4fe9-a3aa-d42cf44fb2a3",
   "metadata": {},
   "source": [
    "## Exercice\n",
    "\n",
    "Enrichir le code pour extraire quand c'est possible:\n",
    "- les auteurs\n",
    "- l'évalution moyenn\n",
    "- le nombres d'évaluations\n",
    "- broché ou relié ou...\n",
    "- sponsorisé ou pas?"
   ]
  },
  {
   "cell_type": "code",
   "execution_count": 34,
   "id": "3848882c-2bef-4732-a6fe-1fa6c2e9a3c9",
   "metadata": {},
   "outputs": [],
   "source": [
    "@serialize\n",
    "@dataclass\n",
    "class Article:\n",
    "    titre: str\n",
    "    prix: float\n",
    "    auteurs: list\n",
    "    evaluation: float\n",
    "    nombre_evaluations: int\n",
    "    sponsorise: bool"
   ]
  },
  {
   "cell_type": "code",
   "execution_count": 35,
   "id": "301ed8c0-0f71-477c-b3ad-5034a30cb970",
   "metadata": {},
   "outputs": [],
   "source": [
    "def get_title(element: bs4.element.Tag) -> str:\n",
    "    try:\n",
    "        spans = element.find_all(\n",
    "            name=\"span\", \n",
    "            attrs={\"class\": \"a-text-normal\"}\n",
    "        )\n",
    "        title, = spans\n",
    "        title = title.text\n",
    "    except ValueError:\n",
    "        raise ParsingError\n",
    "    if \"python\" not in title.lower():\n",
    "        raise ParsingError\n",
    "    return title"
   ]
  },
  {
   "cell_type": "code",
   "execution_count": 36,
   "id": "cffa7f1f-5606-450e-84fb-57eba49a9b7d",
   "metadata": {},
   "outputs": [],
   "source": [
    "def get_price(element: bs4.element.Tag) -> str:\n",
    "    try:\n",
    "        spans = element.find_all(\n",
    "            name=\"span\", \n",
    "            attrs={\"class\": \"a-price-whole\"}\n",
    "        )\n",
    "        price, = spans\n",
    "        price = float(price.text.replace(\",\", \".\"))\n",
    "    except ValueError:\n",
    "        raise ParsingError\n",
    "    return price"
   ]
  },
  {
   "cell_type": "code",
   "execution_count": 37,
   "id": "d06ae390-a5dc-446e-a874-e966d3a8bdda",
   "metadata": {},
   "outputs": [],
   "source": [
    "def get_authors(element: bs4.element.Tag) -> list:\n",
    "    constraints = [\"Format\", \"Relié\", \"Broché\", \"Livres audio Audible\"]\n",
    "    list_author_1 = [\n",
    "        x.text \n",
    "        for x in element.select(\"span.a-size-base:not([class*= 'a-size-base '])\") \n",
    "        if x.text[0].isupper()\n",
    "    ]\n",
    "    list_author_2 = [\n",
    "        x.text \n",
    "        for x in element.find_all(\n",
    "            name=\"a\", attrs={\"class\": \"a-size-base a-link-normal s-underline-text s-underline-link-text s-link-style\"}\n",
    "        )\n",
    "        if all(constraint not in x.text for constraint in constraints)\n",
    "    ]\n",
    "    authors = list_author_1 + list_author_2\n",
    "    return authors"
   ]
  },
  {
   "cell_type": "code",
   "execution_count": 38,
   "id": "40816da4",
   "metadata": {},
   "outputs": [],
   "source": [
    "def get_rating(element: bs4.element.Tag) -> float:\n",
    "    \"\"\"a-icon-alt\"\"\"\n",
    "    try:\n",
    "        spans = element.find_all(\n",
    "            name=\"span\", \n",
    "            attrs={\"class\": \"a-size-base puis-normal-weight-text\"}\n",
    "        )\n",
    "        rating, = spans\n",
    "        rating = float(rating.text.replace(\",\", \".\"))\n",
    "    except ValueError:\n",
    "        raise ParsingError\n",
    "    return rating"
   ]
  },
  {
   "cell_type": "code",
   "execution_count": 39,
   "id": "dacb0eaa",
   "metadata": {},
   "outputs": [],
   "source": [
    "def get_rating_number(element: bs4.element.Tag) -> int:\n",
    "    \"\"\"_summary_\n",
    "\n",
    "    Args:\n",
    "        element (bs4.element.Tag): _description_\n",
    "\n",
    "    Raises:\n",
    "        ParsingError: _description_\n",
    "\n",
    "    Returns:\n",
    "        int: _description_\n",
    "    \"\"\"\n",
    "    try:\n",
    "        spans = element.find_all(\n",
    "            name=\"span\", \n",
    "            attrs={\"class\": \"a-size-base s-underline-text\"}\n",
    "        )\n",
    "        nb_rating, = spans\n",
    "        nb_rating = int(nb_rating.text)\n",
    "    except ValueError:\n",
    "        raise ParsingError\n",
    "    return nb_rating\n",
    "    "
   ]
  },
  {
   "cell_type": "code",
   "execution_count": 40,
   "id": "2380d0b2-15a2-4fa3-acfa-6cf7bd2e1eaf",
   "metadata": {},
   "outputs": [],
   "source": [
    "def get_sponsored(element: bs4.element.Tag) -> bool:\n",
    "    spans = element.find_all(\n",
    "        name=\"span\",\n",
    "        attrs={\"class\": \"a-color-base\"}\n",
    "    )\n",
    "    for span in spans:\n",
    "        if span.text == \"Sponsorisé\":\n",
    "            return True\n",
    "    return False"
   ]
  },
  {
   "cell_type": "code",
   "execution_count": 41,
   "id": "b2957dc3-1855-405e-a838-23e88ecbb37b",
   "metadata": {},
   "outputs": [],
   "source": [
    "def article_generation(element: bs4.element.Tag) -> Article:\n",
    "    titre = get_title(element)\n",
    "    prix = get_price(element)\n",
    "    auteurs = get_authors(element)\n",
    "    evaluation = get_rating(element)\n",
    "    nombre_evaluations = get_rating_number(element)\n",
    "    sponsorise = get_sponsored(element)\n",
    "    return Article(titre=titre, prix=prix, auteurs=auteurs, evaluation=evaluation, nombre_evaluations=nombre_evaluations,sponsorise=sponsorise)"
   ]
  },
  {
   "cell_type": "code",
   "execution_count": 42,
   "id": "f145e845-686c-4961-bf8a-cce66e2a7348",
   "metadata": {},
   "outputs": [],
   "source": [
    "articles: list[Article] = list()\n",
    "for html in htmls:\n",
    "    soupe = BS(html, features=\"lxml\")\n",
    "    result_items = soupe.find_all(\n",
    "        name=\"div\", \n",
    "        attrs={\"class\": \"s-result-item\"}\n",
    "    )\n",
    "    for item in result_items:\n",
    "        try:\n",
    "            articles.append(article_generation(item)) \n",
    "        except ParsingError:\n",
    "            pass"
   ]
  },
  {
   "cell_type": "code",
   "execution_count": 43,
   "id": "21d55a06",
   "metadata": {},
   "outputs": [],
   "source": [
    "articles_json = to_json(articles)"
   ]
  },
  {
   "cell_type": "code",
   "execution_count": 47,
   "id": "9fcc71e4",
   "metadata": {},
   "outputs": [
    {
     "data": {
      "text/plain": [
       "[Article(titre='Python pour débutants: Programmer un réseau neuronal en 7 jours', prix=16.99, auteurs=['Violette Chiara', 'Benjamin Spahic'], evaluation=4.6, nombre_evaluations=65, sponsorise=True),\n",
       " Article(titre=\"Apprendre\\n Python: Un Cours Accéléré sur la Programmation Python et Comment \\nCommencer à l’utiliser pour Coder. Apprenez les Bases de Machine \\nLearning et de l'analyse de Données\", prix=16.87, auteurs=['Damon Parker'], evaluation=4.9, nombre_evaluations=10, sponsorise=True),\n",
       " Article(titre=\"PYTHON: L'introduction et les fondements pour apprendre à programmer en python en 7 jours\", prix=12.9, auteurs=['Jack Fellers'], evaluation=3.8, nombre_evaluations=102, sponsorise=True),\n",
       " Article(titre='Python\\n GUI Programming with PAGE: Create professional-looking GUIs for Python \\napplications efficiently and effectively (English Edition)', prix=32.69, auteurs=['Gregory Walters'], evaluation=5.0, nombre_evaluations=1, sponsorise=True),\n",
       " Article(titre='Python pour débutants: Programmer un réseau neuronal en 7 jours', prix=16.99, auteurs=['Violette Chiara', 'Benjamin Spahic'], evaluation=4.6, nombre_evaluations=65, sponsorise=False),\n",
       " Article(titre='Apprendre à programmer avec Python 3', prix=32.4, auteurs=['Gérard Swinnen'], evaluation=4.6, nombre_evaluations=327, sponsorise=False),\n",
       " Article(titre=\"J'apprends à programmer avec Python\", prix=12.95, auteurs=['Louie Stowell', 'Rosie Dickins'], evaluation=4.5, nombre_evaluations=493, sponsorise=False),\n",
       " Article(titre=\"Programmer en Python - Apprendre la programmation de façon claire, concise et efficace - collection O'Reilly\", prix=39.0, auteurs=['Luciano Ramalho'], evaluation=4.4, nombre_evaluations=93, sponsorise=False),\n",
       " Article(titre=\"100\\n Exercices Python pour s'entrainer: Un ensemble d'exercices avec \\ndifférents niveaux de complexité | Débutant - Intermédiaire - Avancé | \\nExercices corrigés pour tous les niveaux\", prix=12.99, auteurs=['Laurentine K.Masson'], evaluation=4.4, nombre_evaluations=40, sponsorise=False),\n",
       " Article(titre=\"Python\\n pour les Nuls, 4è édition : Livre d'informatique, Découvrir la \\nprogrammation informatique sur Python, Apprendre à coder comme un pro, \\nguide pour débutants de la programmation\", prix=25.95, auteurs=['John Paul Mueller'], evaluation=3.0, nombre_evaluations=1, sponsorise=False),\n",
       " Article(titre=\"Apprendre\\n Python: Un Cours Accéléré sur la Programmation Python et Comment \\nCommencer à l’utiliser pour Coder. Apprenez les Bases de Machine \\nLearning et de l'analyse de Données\", prix=16.87, auteurs=['Damon Parker'], evaluation=4.9, nombre_evaluations=10, sponsorise=False),\n",
       " Article(titre='Python Crash Course, 3rd Edition: A Hands-On, Project-Based Introduction to Programming', prix=41.02, auteurs=['Eric Matthes'], evaluation=4.7, nombre_evaluations=466, sponsorise=False),\n",
       " Article(titre='Fluent Python: Clear, Concise, and Effective Programming', prix=59.78, auteurs=['Luciano Ramalho'], evaluation=4.7, nombre_evaluations=310, sponsorise=False),\n",
       " Article(titre='Python & JavaScript pour les Nuls, mégapoche', prix=22.95, auteurs=['John Paul Mueller'], evaluation=4.4, nombre_evaluations=56, sponsorise=False),\n",
       " Article(titre='Python 3 - Les fondamentaux du langage (3e édition)', prix=38.9, auteurs=['Sébastien Chazallet'], evaluation=4.6, nombre_evaluations=42, sponsorise=False),\n",
       " Article(titre='Python pour le data scientist - 2e éd.: Des bases du langage au machine learning', prix=29.9, auteurs=['Emmanuel Jakobowicz'], evaluation=4.5, nombre_evaluations=64, sponsorise=False),\n",
       " Article(titre='Python\\n pour le lycée: Le langage Python expliqué simplement pour les Lycéens |\\n Niveau Seconde, Première, Terminale | Filière Générale ou Technologique\\n | Guide Complet Pour débutants', prix=14.99, auteurs=['François O.Deforest'], evaluation=4.1, nombre_evaluations=7, sponsorise=False),\n",
       " Article(titre='Python pour les kids: La prorammation accessible aux enfants ! Dès 10 ans.', prix=22.9, auteurs=['Jason R. Briggs'], evaluation=4.5, nombre_evaluations=138, sponsorise=False),\n",
       " Article(titre='Python pour la physique: Calcul, graphisme, simulation', prix=23.5, auteurs=['Richard Taillet'], evaluation=4.5, nombre_evaluations=39, sponsorise=False),\n",
       " Article(titre=\"Programmer\\n avec Python en s'amusant pour les Nuls, 4è édition: Découvrir la \\nprogrammation informatique, apprendre à coder sur Python en s'amusant à \\ntravers des projets à réaliser\", prix=17.95, auteurs=['Brendan Scott'], evaluation=3.6, nombre_evaluations=7, sponsorise=False),\n",
       " Article(titre=\"Python pour Excel, Automatisation et analyse des données dans un environnement moderne - collection O'Reilly\", prix=34.0, auteurs=['Felix Zumstein'], evaluation=4.6, nombre_evaluations=20, sponsorise=False),\n",
       " Article(titre='Petite leçon de Python 2e Ed.', prix=36.0, auteurs=['Eric MATTHES'], evaluation=4.6, nombre_evaluations=6, sponsorise=False),\n",
       " Article(titre='Programmation Python avancée - Guide pour une pratique élégante et efficace: Guide pour une pratique élégante et efficace', prix=29.9, auteurs=['Xavier Olive'], evaluation=3.9, nombre_evaluations=23, sponsorise=False),\n",
       " Article(titre='Python tout-en-un pour les Nuls', prix=34.95, auteurs=['John Shovic', 'Alan Simpson'], evaluation=4.4, nombre_evaluations=25, sponsorise=False),\n",
       " Article(titre=\"PYTHON: L'introduction et les fondements pour apprendre à programmer en python en 7 jours\", prix=12.9, auteurs=['Jack Fellers'], evaluation=3.8, nombre_evaluations=102, sponsorise=False),\n",
       " Article(titre='Python: Comprendre les bases et maitriser la programmation', prix=34.9, auteurs=['Bill Lubanovic', 'Bernard Desgraupes'], evaluation=5.0, nombre_evaluations=5, sponsorise=False),\n",
       " Article(titre=\"Les bases de python en 1 heure chrono: Un Apprentissage Simple et Efficace Illustré d'exemples | Guide Complet pour Débutants\", prix=9.99, auteurs=['Laurentine K.Masson'], evaluation=4.6, nombre_evaluations=6, sponsorise=False),\n",
       " Article(titre=\"15 énigmes ludiques pour s'initier à la programmation Python\", prix=15.9, auteurs=['Malika More', 'Pascal Lafourcade'], evaluation=4.5, nombre_evaluations=2, sponsorise=False),\n",
       " Article(titre=\"Python\\n pour les Nuls, 4è édition : Livre d'informatique, Découvrir la \\nprogrammation informatique sur Python, Apprendre à coder comme un pro, \\nguide pour débutants de la programmation\", prix=25.95, auteurs=['John Paul Mueller'], evaluation=3.0, nombre_evaluations=1, sponsorise=True),\n",
       " Article(titre='70 concepts mathématiques expliqués avec Python', prix=23.0, auteurs=['Guillaume Saupin'], evaluation=5.0, nombre_evaluations=2, sponsorise=False),\n",
       " Article(titre='Apprendre à coder en Python avec Minecraft, 2e édition: Dès 10 ans', prix=24.9, auteurs=[\"Martin O'Hanlon\", 'David Whale'], evaluation=4.2, nombre_evaluations=62, sponsorise=False),\n",
       " Article(titre='Cahier Python pour les Maths Seconde', prix=9.3, auteurs=['Robert Corne', 'Amaury Dheedene'], evaluation=4.5, nombre_evaluations=111, sponsorise=False),\n",
       " Article(titre='Machine learning et Python pour les Nuls, mégapoche', prix=22.95, auteurs=['John Paul Mueller', 'Luca Massaron'], evaluation=4.5, nombre_evaluations=4, sponsorise=False),\n",
       " Article(titre='Python for Finance: Mastering Data-Driven Finance', prix=60.75, auteurs=['Yves Hilpisch'], evaluation=4.5, nombre_evaluations=274, sponsorise=False),\n",
       " Article(titre=\"L'intelligence artificielle en pratique avec Python - 2e édition: Recherche, optimisation, apprentissage\", prix=32.0, auteurs=['Hugues Bersini', 'Ken Hasselmann'], evaluation=3.0, nombre_evaluations=1, sponsorise=False),\n",
       " Article(titre=\"Analyse de données avec Python - Optimiser la préparation des données avec Pandas, Numpy, Jupyter et IPython-collection O'Reilly\", prix=42.95, auteurs=['Wes Mckinney'], evaluation=4.7, nombre_evaluations=13, sponsorise=False),\n",
       " Article(titre='Les bases de Python en 30 Minutes: Apprendre les bases de la programmation python', prix=9.99, auteurs=['Benjamin B'], evaluation=3.7, nombre_evaluations=27, sponsorise=False),\n",
       " Article(titre='Python pour la finance', prix=52.95, auteurs=['Yves Hilpisch', 'Olivier Engler'], evaluation=4.5, nombre_evaluations=2, sponsorise=False),\n",
       " Article(titre='Python pour la Data science pour les Nuls, grand format', prix=26.95, auteurs=['John Paul Mueller', 'Luca Massaron'], evaluation=4.4, nombre_evaluations=10, sponsorise=False),\n",
       " Article(titre=\"Machine learning avec Python - collection O'Reilly\", prix=35.0, auteurs=['Sarah Guido', 'Andreas C. Müller'], evaluation=4.5, nombre_evaluations=67, sponsorise=False),\n",
       " Article(titre=\"L'apprentissage profond avec Python\", prix=39.0, auteurs=['François Chollet', 'En savoir plus'], evaluation=4.8, nombre_evaluations=58, sponsorise=False),\n",
       " Article(titre='Deep Learning with Python, Second Edition (English Edition)', prix=42.9, auteurs=['François  Chollet'], evaluation=4.7, nombre_evaluations=289, sponsorise=False),\n",
       " Article(titre='Carnet de Réussite - Python pour les SNT - 2de - Ed. 2023', prix=5.9, auteurs=['Hassan Dibesse', 'Patricia Kerner'], evaluation=5.0, nombre_evaluations=1, sponsorise=False),\n",
       " Article(titre='Le petit Python - Aide-mémoire pour Python 3', prix=24.0, auteurs=['M. Richard Gomez'], evaluation=4.6, nombre_evaluations=38, sponsorise=False),\n",
       " Article(titre=\"30\\n Exercices en programmation orientée objet Python pour s'entrainer: Un \\nensemble d'exercices avec différents niveaux de complexité | Débutant - \\n... | Une correction pour tous les exercices\", prix=9.99, auteurs=['Laurentine K.Masson'], evaluation=4.0, nombre_evaluations=3, sponsorise=False),\n",
       " Article(titre='Black Hat Python, 2nd Edition: Python Programming for Hackers and Pentesters', prix=37.13, auteurs=['Justin Seitz', 'Tim Arnold'], evaluation=4.6, nombre_evaluations=526, sponsorise=False),\n",
       " Article(titre='Python\\n Networking Solutions Guide: Leverage the Power of Python to Automate \\nand Maintain your Network Environment (English Edition)', prix=29.53, auteurs=['Tolga Koca'], evaluation=4.5, nombre_evaluations=2, sponsorise=True),\n",
       " Article(titre='Python Guide: Clear Introduction to Python Programming and Machine Learning', prix=21.05, auteurs=['Alex Campbell'], evaluation=3.9, nombre_evaluations=8, sponsorise=True),\n",
       " Article(titre='Selenium\\n and Appium with Python: Build robust and scalable test automation \\nframeworks using Selenium, Appium and Python (English Edition)', prix=34.8, auteurs=['Yogashiva Mathivanan'], evaluation=5.0, nombre_evaluations=2, sponsorise=True),\n",
       " Article(titre='Python pour débutants: Programmer un réseau neuronal en 7 jours (technique pour débutants t. 4)', prix=9.99, auteurs=['Violette Chiara', 'Benjamin Spahic'], evaluation=4.6, nombre_evaluations=65, sponsorise=True),\n",
       " Article(titre=\"30\\n Exercices en programmation orientée objet Python pour s'entrainer: Un \\nensemble d'exercices avec différents niveaux de complexité | Débutant - \\n... | Une correction pour tous les exercices\", prix=9.99, auteurs=['Laurentine K.Masson'], evaluation=4.0, nombre_evaluations=3, sponsorise=True),\n",
       " Article(titre='Le petit Python orienté objet: Programmation orientée objet avec Python 3', prix=42.0, auteurs=['Richard Gomez'], evaluation=4.3, nombre_evaluations=7, sponsorise=False),\n",
       " Article(titre='Apprendre la programmation par le jeu: Découvrir Pygame avec de nouveaux jeux en Python', prix=21.0, auteurs=['David Beauget', 'Vincent Maille'], evaluation=4.7, nombre_evaluations=12, sponsorise=False),\n",
       " Article(titre=\"Python - Petit guide à l'usage du développeur agile - Livre+compléments en ligne: Petit guide à l'usage du développeur agile\", prix=16.9, auteurs=['Tarek Ziadé'], evaluation=3.8, nombre_evaluations=9, sponsorise=False),\n",
       " Article(titre='Informatique avec Python - Exercices incontournables - MPSI-PCSI-PTSI-MP-PC-PSI-PT-TSI-TPC - 2e éd.', prix=21.9, auteurs=['Jean-Noël Beury'], evaluation=4.0, nombre_evaluations=1, sponsorise=False),\n",
       " Article(titre='High Performance Python: Practical Performant Programming for Humans', prix=51.45, auteurs=['Micha Gorelick', 'Ian Ozsvald'], evaluation=4.7, nombre_evaluations=157, sponsorise=False),\n",
       " Article(titre='Python 3 - Les fondamentaux du langage (4e édition)', prix=38.9, auteurs=['Sébastien Chazallet'], evaluation=4.0, nombre_evaluations=2, sponsorise=False),\n",
       " Article(titre='Python sans détour: de l’addition au deep learning', prix=29.5, auteurs=['Pascal Guézet', 'Laurent Berger'], evaluation=5.0, nombre_evaluations=4, sponsorise=False),\n",
       " Article(titre='Programmation en Python pour les sciences de la vie', prix=29.9, auteurs=['Patrick Fuchs', 'Pierre Poulain'], evaluation=5.0, nombre_evaluations=12, sponsorise=False),\n",
       " Article(titre='Python royal', prix=15.9, auteurs=['Karim Daoues'], evaluation=4.8, nombre_evaluations=51, sponsorise=False),\n",
       " Article(titre='Python pour le Lycée: Seconde, Première, Terminale - Voies Générale et Technologique', prix=14.99, auteurs=['Alexis Dana'], evaluation=4.1, nombre_evaluations=31, sponsorise=False),\n",
       " Article(titre='DARK PYTHON: Apprenez à créer vos propres outils de Hacking (2e édition)', prix=18.99, auteurs=['B. Anass'], evaluation=4.0, nombre_evaluations=138, sponsorise=False),\n",
       " Article(titre='Python for Data Analysis: Data Wrangling With Pandas, Numpy, and Jupyter', prix=58.94, auteurs=['Wes McKinney'], evaluation=4.5, nombre_evaluations=183, sponsorise=False),\n",
       " Article(titre='Python au lycée (tome 1): Algorithmes et programmation', prix=7.78, auteurs=['Arnaud Bodin'], evaluation=4.4, nombre_evaluations=167, sponsorise=False),\n",
       " Article(titre='Informatique avec Python - Méthodes et exercices - MPSI-PCSI-PTSI-MP-PC-PSI-PT-TSI-TPC - 2e éd.', prix=22.9, auteurs=['Jean-Noël Beury'], evaluation=4.7, nombre_evaluations=5, sponsorise=False),\n",
       " Article(titre='Computer\\n Programming: The Bible: Learn From The Basics to Advanced of Python, C,\\n C++, C#, HTML Coding, and Black Hat Hacking Step-by-Step IN NO TIME! \\n(English Edition)', prix=5.51, auteurs=['CyberPunk  Architects'], evaluation=3.8, nombre_evaluations=191, sponsorise=False),\n",
       " Article(titre=\"Cahier d'activités Python: Pour les 10 ans.\", prix=12.0, auteurs=['David Weinachter'], evaluation=3.1, nombre_evaluations=34, sponsorise=False),\n",
       " Article(titre='Advance Core Python Programming: Begin your Journey to Master the World of Python (English Edition)', prix=6.71, auteurs=['Meenu Kohli'], evaluation=4.6, nombre_evaluations=14, sponsorise=False),\n",
       " Article(titre='Programmation d’interfaces graphiques en Python avec PyQt: Créez des interfaces utilisateurs époustouflantes', prix=25.74, auteurs=['Hamdy Abou El Anein'], evaluation=3.5, nombre_evaluations=2, sponsorise=False),\n",
       " Article(titre='Python Pocket Reference 5ed', prix=20.75, auteurs=['Mark Lutz'], evaluation=4.5, nombre_evaluations=893, sponsorise=False),\n",
       " Article(titre='Python et Arduino pour la physique-Chimie Lycée tronc commun', prix=8.8, auteurs=['Cécilia Damelincourt', 'Marie-Hélène Le Yaouanq'], evaluation=4.2, nombre_evaluations=20, sponsorise=False),\n",
       " Article(titre=\"Automatiser les réseaux avec Python: Guide technique pour l'administrateur\", prix=12.99, auteurs=['Damien Perrin'], evaluation=4.5, nombre_evaluations=16, sponsorise=False),\n",
       " Article(titre='Python\\n pour le lycée: Le langage Python expliqué simplement pour les Lycéens |\\n Niveau Seconde, Première, Terminale | Filière Générale ou Technologique\\n | Guide Complet Pour débutants', prix=14.99, auteurs=['François O.Deforest'], evaluation=4.1, nombre_evaluations=7, sponsorise=True),\n",
       " Article(titre=\"100\\n Exercices Python pour s'entrainer: Un ensemble d'exercices avec \\ndifférents niveaux de complexité | Débutant - Intermédiaire - Avancé | \\nExercices corrigés pour tous les niveaux\", prix=12.99, auteurs=['Laurentine K.Masson'], evaluation=4.4, nombre_evaluations=40, sponsorise=True),\n",
       " Article(titre=\"Les bases de python en 1 heure chrono: Un Apprentissage Simple et Efficace Illustré d'exemples | Guide Complet pour Débutants\", prix=9.99, auteurs=['Laurentine K.Masson'], evaluation=4.6, nombre_evaluations=6, sponsorise=True),\n",
       " Article(titre='Cracking Codes with Python: An Introduction to Building and Breaking Ciphers', prix=29.64, auteurs=['Al Sweigart'], evaluation=4.7, nombre_evaluations=300, sponsorise=False),\n",
       " Article(titre='Pygame - Initiez-vous au développement de jeux vidéo en Python (2e édition)', prix=29.0, auteurs=['Benoît Prieur'], evaluation=5.0, nombre_evaluations=1, sponsorise=False),\n",
       " Article(titre='Architecture Patterns With Python: Enabling Test-Driven Development, Domain-Driven Design, and Event-Driven Microservices', prix=50.35, auteurs=['Harry J.W. Percival', 'Bob Gregory'], evaluation=4.6, nombre_evaluations=413, sponsorise=False),\n",
       " Article(titre='Data Analysis with Python: Introducing NumPy, Pandas, Matplotlib, and Essential Elements of Python Programming (English Edition)', prix=6.87, auteurs=['Rituraj Dixit'], evaluation=3.4, nombre_evaluations=8, sponsorise=False),\n",
       " Article(titre='Python et Arduino pour la Physique-Chimie Lycée Spécialité', prix=14.6, auteurs=['Cécilia Damelincourt', 'Marie-Hélène Le Yaouanq'], evaluation=4.4, nombre_evaluations=11, sponsorise=False),\n",
       " Article(titre='Créer une IA avec Python et Hugging Face', prix=15.82, auteurs=['Julien Faujanet'], evaluation=4.0, nombre_evaluations=1, sponsorise=False),\n",
       " Article(titre='Python for Geospatial Data Analysis: Theory, Tools, and Practice for Location Intelligence', prix=58.27, auteurs=['Bonny P. McClain'], evaluation=3.5, nombre_evaluations=20, sponsorise=False),\n",
       " Article(titre=\"Python et Tkinter: un duo puissant pour le développement d'interfaces graphiques\", prix=25.74, auteurs=['Hamdy Abou El Anein'], evaluation=3.5, nombre_evaluations=3, sponsorise=False),\n",
       " Article(titre='Data Engineering with Python: Work with massive datasets to design data models and automate data pipelines using Python', prix=43.16, auteurs=['Paul Crickard'], evaluation=4.2, nombre_evaluations=109, sponsorise=False),\n",
       " Article(titre='Learn Python Programming: An in-depth introduction to the fundamentals of Python, 3rd Edition', prix=46.26, auteurs=['Fabrizio Romano', 'Heinrich Kruger'], evaluation=4.3, nombre_evaluations=67, sponsorise=False),\n",
       " Article(titre='Applied\\n Geospatial Data Science with Python: Leverage geospatial data analysis \\nand modeling to find unique solutions to environmental problems', prix=54.13, auteurs=['David S. Jordan'], evaluation=4.1, nombre_evaluations=4, sponsorise=False),\n",
       " Article(titre='PCEP-certified\\n Entry-Level Python Programmer Exam-Prep: Over 6 Mock Tests and 390+ \\nrealistic questions to get you PCEP certified on your 1st attempt', prix=46.47, auteurs=['Abound Academy'], evaluation=5.0, nombre_evaluations=6, sponsorise=False),\n",
       " Article(titre='Edge\\n Computing with Python: End-to-end Edge Applications, Python Tools and \\nTechniques, Edge Architectures, and AI Benefits (English Edition)', prix=32.69, auteurs=['Abhinandan Bhadauria'], evaluation=5.0, nombre_evaluations=3, sponsorise=True),\n",
       " Article(titre='Python ML: Clear Step-by-Step Guide to Machine Learning with Python', prix=10.5, auteurs=['Alex Campbell'], evaluation=3.4, nombre_evaluations=8, sponsorise=True),\n",
       " Article(titre='Full Stack Django and React: Get hands-on experience in full-stack web development with Python, React, and AWS', prix=39.37, auteurs=['Kolawole Mangabo'], evaluation=3.1, nombre_evaluations=10, sponsorise=True),\n",
       " Article(titre='Mastering\\n Python Networking: Utilize Python packages and frameworks for network \\nautomation, monitoring, cloud, and management, 4th Edition', prix=49.05, auteurs=['Eric Chou'], evaluation=4.6, nombre_evaluations=33, sponsorise=True),\n",
       " Article(titre=\"Python Machine Learning for Beginners: Unlocking the Power of Data. A Beginner's Guide to Machine Learning with Python\", prix=15.24, auteurs=['Daniel Garfield'], evaluation=5.0, nombre_evaluations=6, sponsorise=True),\n",
       " Article(titre='Python for Finance Cookbook: Over 80 powerful recipes for effective financial data analysis, 2nd Edition', prix=49.05, auteurs=['Eryk Lewinson'], evaluation=4.2, nombre_evaluations=12, sponsorise=True),\n",
       " Article(titre='Python pour les maths: Nouvelle matière du programme du collège et du lycée - Dès 14 ans (Pour les kids)', prix=15.99, auteurs=['Amit Saha'], evaluation=4.5, nombre_evaluations=17, sponsorise=False),\n",
       " Article(titre='Apprendre la programmation web avec Python et Django - 2e édition: Principes et bonnes pratiques pour les sites web dynamiques', prix=29.0, auteurs=['Hugues Bersini', 'Pierre Alexis'], evaluation=4.3, nombre_evaluations=27, sponsorise=False),\n",
       " Article(titre='Apprendre la Programmation Orientée Objet avec le langage Python - (avec exercices pratiques et corrigés) (2e édition)', prix=29.9, auteurs=['Vincent Boucheny'], evaluation=4.0, nombre_evaluations=21, sponsorise=False),\n",
       " Article(titre='Algorithmique\\n - Techniques fondamentales de programmation - Exemples en Python \\n(nombreux exercices corrigés) - BTS, DUT informatique (2e édition)', prix=29.9, auteurs=['Sébastien Rohaut', 'Franck Ebel'], evaluation=4.2, nombre_evaluations=33, sponsorise=False),\n",
       " Article(titre='Python for Geospatial Data Analysis: Theory, Tools, and Practice for Location Intelligence', prix=58.27, auteurs=['Bonny P. McClain'], evaluation=3.5, nombre_evaluations=20, sponsorise=False),\n",
       " Article(titre='Le Machine Learning avec Python - De la théorie à la pratique', prix=39.0, auteurs=['Madjid Khichane'], evaluation=4.2, nombre_evaluations=7, sponsorise=False),\n",
       " Article(titre=\"Python et Tkinter: un duo puissant pour le développement d'interfaces graphiques\", prix=25.74, auteurs=['Hamdy Abou El Anein'], evaluation=3.5, nombre_evaluations=3, sponsorise=False),\n",
       " Article(titre='Python in a Nutshell: A Desktop Quick Reference', prix=65.14, auteurs=['Alex Martelli', 'Anna Ravenscroft'], evaluation=4.5, nombre_evaluations=22, sponsorise=False),\n",
       " Article(titre=\"Programmer en s'amusant avec Python pour les Nuls, mégapoche, 3e éd.\", prix=17.95, auteurs=['Brendan Scott'], evaluation=4.3, nombre_evaluations=67, sponsorise=False),\n",
       " Article(titre=\"Nom de code : Python - Cahier d'algorithmique et de programmation Python Bac Pro - Éd. 2021\", prix=10.5, auteurs=['Morad Attik', 'Rabah Attik'], evaluation=4.3, nombre_evaluations=13, sponsorise=False),\n",
       " Article(titre='Raspberry Pi Pico et Pico W - La programmation Python sur microcontrôleur avec MicroPython', prix=29.0, auteurs=['Dominique Meurisse'], evaluation=4.0, nombre_evaluations=6, sponsorise=False),\n",
       " Article(titre='PCEP-certified\\n Entry-Level Python Programmer Exam-Prep: Over 6 Mock Tests and 390+ \\nrealistic questions to get you PCEP certified on your 1st attempt', prix=46.47, auteurs=['Abound Academy'], evaluation=5.0, nombre_evaluations=6, sponsorise=False),\n",
       " Article(titre='Applied\\n Geospatial Data Science with Python: Leverage geospatial data analysis \\nand modeling to find unique solutions to environmental problems', prix=54.13, auteurs=['David S. Jordan'], evaluation=4.1, nombre_evaluations=4, sponsorise=False),\n",
       " Article(titre='Programmation Python par la pratique - Problèmes et exercices corrigés: Problèmes et exercices corrigés', prix=20.9, auteurs=['Julien Guillod'], evaluation=4.4, nombre_evaluations=8, sponsorise=False),\n",
       " Article(titre='Algorithmes Python: Explique les algorithmes Python avec de belles images Apprenez-le facilement et mieux', prix=8.83, auteurs=['yang hu'], evaluation=3.9, nombre_evaluations=8, sponsorise=False),\n",
       " Article(titre='APPRENDRE Python: Enfants et Débutants', prix=21.09, auteurs=['Dominique SAGE'], evaluation=4.5, nombre_evaluations=4, sponsorise=False),\n",
       " Article(titre='Data Engineering with Python: Work with massive datasets to design data models and automate data pipelines using Python', prix=43.16, auteurs=['Paul Crickard'], evaluation=4.2, nombre_evaluations=109, sponsorise=False),\n",
       " Article(titre='Learn Python Programming: An in-depth introduction to the fundamentals of Python, 3rd Edition', prix=46.26, auteurs=['Fabrizio Romano', 'Heinrich Kruger'], evaluation=4.3, nombre_evaluations=67, sponsorise=False),\n",
       " Article(titre=\"Elements of Programming Interviews in Python: The Insiders' Guide\", prix=36.15, auteurs=['Adnan Aziz', 'Tsung-Hsien Lee'], evaluation=4.4, nombre_evaluations=806, sponsorise=False),\n",
       " Article(titre='Deep\\n Learning with Python: A Comprehensive guide to Building and Training \\nDeep Neural Networks using Python and popular Deep Learning Frameworks', prix=21.05, auteurs=['Brian Murray'], evaluation=4.0, nombre_evaluations=15, sponsorise=True),\n",
       " Article(titre='Python for Beginners: Comprehensive Guide to the Basics of Programming, Machine Learning, Data Science and Analysis with Python.', prix=26.32, auteurs=['Alex Campbell'], evaluation=3.8, nombre_evaluations=11, sponsorise=True),\n",
       " Article(titre='Exercices en Python: Plus de 100 exercices corrigés', prix=21.94, auteurs=['Dr Hafed Benteftifa'], evaluation=4.3, nombre_evaluations=8, sponsorise=False),\n",
       " Article(titre='Python for Algorithmic Trading: From Idea to Cloud Deployment (English Edition)', prix=37.97, auteurs=['Yves Hilpisch'], evaluation=4.4, nombre_evaluations=111, sponsorise=False),\n",
       " Article(titre='La physique de sup en applications avec Python. MPSI, PCSI, PTSI, MP2I: 32 modélisations de sujets contemporains avec corrigés', prix=39.0, auteurs=['Renaud Carpentier', 'Benoît Dépret'], evaluation=5.0, nombre_evaluations=2, sponsorise=False),\n",
       " Article(titre='Python for Finance Cookbook: Over 80 powerful recipes for effective financial data analysis, 2nd Edition', prix=49.05, auteurs=['Eryk Lewinson'], evaluation=4.2, nombre_evaluations=12, sponsorise=False),\n",
       " Article(titre='Python Machine Learning: Machine Learning and Deep Learning with Python, scikit-learn, and TensorFlow 2, 3rd Edition', prix=53.95, auteurs=['Sebastian Raschka', 'Vahid Mirjalili'], evaluation=4.5, nombre_evaluations=403, sponsorise=False),\n",
       " Article(titre='Python\\n GUI Programming with Tkinter: Design and build functional and \\nuser-friendly GUI applications, 2nd Edition (English Edition)', prix=19.99, auteurs=['Alan D. Moore'], evaluation=4.3, nombre_evaluations=77, sponsorise=False),\n",
       " Article(titre='Python All-in-One For Dummies, 2nd Edition', prix=38.61, auteurs=['John C. Shovic', 'Alan Simpson'], evaluation=4.5, nombre_evaluations=308, sponsorise=False),\n",
       " Article(titre='CPython Internals: Your Guide to the Python 3 Interpreter', prix=39.98, auteurs=['Anthony Shaw'], evaluation=4.6, nombre_evaluations=150, sponsorise=False),\n",
       " Article(titre='Effective Python: 90 Specific Ways to Write Better Python (Effective Software Development Series) (English Edition)', prix=23.99, auteurs=['Slatkin Brett'], evaluation=4.7, nombre_evaluations=384, sponsorise=False),\n",
       " Article(titre='Django for Professionals: Production websites with Python & Django', prix=38.29, auteurs=['William  S. Vincent'], evaluation=4.4, nombre_evaluations=206, sponsorise=False),\n",
       " Article(titre='Master Python Using Version 3.11: Learn Python Like Never Before', prix=34.77, auteurs=['Abhishek Singh'], evaluation=3.0, nombre_evaluations=2, sponsorise=False),\n",
       " Article(titre='Python\\n 3: de débutant à avancé: 3 livres en 1: Bien commencer avec Python 3 / \\nPython 3 niveau intermédiaire / Python 3 niveau avancé', prix=28.47, auteurs=['Julien Faujanet'], evaluation=3.2, nombre_evaluations=8, sponsorise=False),\n",
       " Article(titre=\"Python Tools for Scientists: An Introduction to Using Anaconda, JupyterLab, and Python's Scientific Libraries\", prix=43.7, auteurs=['Lee Vaughan'], evaluation=4.7, nombre_evaluations=4, sponsorise=False),\n",
       " Article(titre='Python pour les SHS: Introduction à la programmation pour le traitement de données', prix=25.0, auteurs=['Emilien Schultz', 'Matthias Bussonnier'], evaluation=3.7, nombre_evaluations=5, sponsorise=False),\n",
       " Article(titre='Introduction to Programming in Python: An Interdisciplinary Approach (English Edition)', prix=20.56, auteurs=['Kevin Wayne', 'Robert Sedgewick'], evaluation=4.2, nombre_evaluations=61, sponsorise=False),\n",
       " Article(titre='Python Data Science Handbook: Essential Tools for Working With Data', prix=58.4, auteurs=['Jake Vanderplas'], evaluation=4.2, nombre_evaluations=21, sponsorise=False),\n",
       " Article(titre='Découvrir la programmation avec Python', prix=16.95, auteurs=['April Speight'], evaluation=3.0, nombre_evaluations=1, sponsorise=False),\n",
       " Article(titre='Python for Data Science: Comprehensive Guide to Data Science with Python', prix=15.77, auteurs=['Alex Campbell'], evaluation=4.0, nombre_evaluations=15, sponsorise=True),\n",
       " Article(titre='Python\\n Computer Programming: Simple Step-By-Step Introduction to the Python \\nObject-Oriented Programming. Quick Start Guide for beginners.', prix=13.63, auteurs=['Alex Campbell'], evaluation=4.0, nombre_evaluations=14, sponsorise=True),\n",
       " Article(titre='Numerical Methods in Physics with Python', prix=62.31, auteurs=['Alex Gezerlis'], evaluation=3.8, nombre_evaluations=4, sponsorise=True),\n",
       " Article(titre='Python Data Science for Beginners: Analyze and Visualize Data Like a Pro', prix=15.77, auteurs=['Brian Murray'], evaluation=4.5, nombre_evaluations=14, sponsorise=True),\n",
       " Article(titre=\"Python Data Analysis for Beginners: Part 2 - A Beginner's Path to Extracting Meaningful Insights\", prix=15.77, auteurs=['Simon Winston'], evaluation=5.0, nombre_evaluations=1, sponsorise=True),\n",
       " Article(titre='Python Machine Learning for Beginners: All You Need to Know about Machine Learning with Python', prix=10.5, auteurs=['Alex Campbell'], evaluation=5.0, nombre_evaluations=5, sponsorise=True),\n",
       " Article(titre='Deep Learning with Python: Bridging the Gap for Advanced AI. Part 2', prix=15.77, auteurs=['Simon Winston'], evaluation=5.0, nombre_evaluations=1, sponsorise=True),\n",
       " Article(titre=\"Transformers\\n for Natural Language Processing: Build, train, and fine-tune deep \\nneural network architectures for NLP with Python, Hugging Face, and \\nOpenAI's GPT-3, ChatGPT, and GPT-4\", prix=44.14, auteurs=['Antonio Gulli', 'Denis Rothman'], evaluation=4.2, nombre_evaluations=91, sponsorise=True),\n",
       " Article(titre=\"Python et l'analyse forensique - Récupérer et analyser les données produites par les ordinateurs\", prix=29.9, auteurs=['Mehdi Bennis', 'Yann Weber'], evaluation=4.1, nombre_evaluations=7, sponsorise=False),\n",
       " Article(titre='Python Machine Learning for Beginners: All You Need to Know about Machine Learning with Python', prix=10.5, auteurs=['Alex Campbell'], evaluation=5.0, nombre_evaluations=5, sponsorise=False),\n",
       " Article(titre='Python\\n Programming for Beginners: The Complete Guide to Mastering Python in 7 \\nDays with Hands-On Exercises – Top Secret Coding Tips to Get an Unfair \\nAdvantage and Land Your Dream Job!', prix=24.71, auteurs=['Philip Robbins'], evaluation=4.3, nombre_evaluations=301, sponsorise=False),\n",
       " Article(titre='Algorithmes Python: Explique les algorithmes Python avec de belles images Apprenez-le facilement et mieux', prix=8.83, auteurs=['yang hu'], evaluation=3.9, nombre_evaluations=8, sponsorise=False),\n",
       " Article(titre='La physique de sup en applications avec Python. MPSI, PCSI, PTSI, MP2I: 32 modélisations de sujets contemporains avec corrigés', prix=39.0, auteurs=['Renaud Carpentier', 'Benoît Dépret'], evaluation=5.0, nombre_evaluations=2, sponsorise=False),\n",
       " Article(titre='Master Python Using Version 3.11: Learn Python Like Never Before', prix=34.77, auteurs=['Abhishek Singh'], evaluation=3.0, nombre_evaluations=2, sponsorise=False),\n",
       " Article(titre='Python pour les SHS: Introduction à la programmation pour le traitement de données', prix=25.0, auteurs=['Emilien Schultz', 'Matthias Bussonnier'], evaluation=3.7, nombre_evaluations=5, sponsorise=False),\n",
       " Article(titre='GUI Programming with Python and Kivy', prix=46.51, auteurs=['Kamil Pakula'], evaluation=4.7, nombre_evaluations=22, sponsorise=False),\n",
       " Article(titre='Python\\n GUI Programming with Tkinter: Design and build functional and \\nuser-friendly GUI applications, 2nd Edition (English Edition)', prix=19.99, auteurs=['Alan D. Moore'], evaluation=4.3, nombre_evaluations=77, sponsorise=False),\n",
       " Article(titre='Deep Learning with Python: The Ultimate Beginners Guide for Deep Learning with Python', prix=21.09, auteurs=['Alex Root'], evaluation=4.8, nombre_evaluations=5, sponsorise=False),\n",
       " Article(titre='Python\\n 3: de débutant à avancé: 3 livres en 1: Bien commencer avec Python 3 / \\nPython 3 niveau intermédiaire / Python 3 niveau avancé', prix=28.47, auteurs=['Julien Faujanet'], evaluation=3.2, nombre_evaluations=8, sponsorise=False),\n",
       " Article(titre='CPython Internals: Your Guide to the Python 3 Interpreter', prix=39.98, auteurs=['Anthony Shaw'], evaluation=4.6, nombre_evaluations=150, sponsorise=False),\n",
       " Article(titre='Effective Python: 90 Specific Ways to Write Better Python (Effective Software Development Series) (English Edition)', prix=23.99, auteurs=['Slatkin Brett'], evaluation=4.7, nombre_evaluations=384, sponsorise=False),\n",
       " Article(titre='Dive Into Data Science: Use Python To Tackle Your Toughest Business Challenges', prix=36.63, auteurs=['Bradford Tuckfield'], evaluation=5.0, nombre_evaluations=2, sponsorise=False),\n",
       " Article(titre='Découvrir la programmation avec Python', prix=16.95, auteurs=['April Speight'], evaluation=3.0, nombre_evaluations=1, sponsorise=False),\n",
       " Article(titre='Django for Professionals: Production websites with Python & Django', prix=38.29, auteurs=['William  S. Vincent'], evaluation=4.4, nombre_evaluations=206, sponsorise=False),\n",
       " Article(titre=\"Python Tools for Scientists: An Introduction to Using Anaconda, JupyterLab, and Python's Scientific Libraries\", prix=43.7, auteurs=['Lee Vaughan'], evaluation=4.7, nombre_evaluations=4, sponsorise=False),\n",
       " Article(titre='Python All-in-One For Dummies, 2nd Edition', prix=38.61, auteurs=['John C. Shovic', 'Alan Simpson'], evaluation=4.5, nombre_evaluations=308, sponsorise=False),\n",
       " Article(titre='Practical\\n Data Analysis Using Jupyter Notebook: Learn how to speak the language \\nof data by extracting useful and actionable insights using Python \\n(English Edition)', prix=16.98, auteurs=['Andrew Vlahutin', 'Marc Wintjen'], evaluation=4.0, nombre_evaluations=32, sponsorise=False),\n",
       " Article(titre='Parallel\\n and High Performance Programming with Python: Unlock parallel and \\nconcurrent programming in Python using multithreading, CUDA, Pytorch and\\n Dask. (English Edition)', prix=36.91, auteurs=['Fabio Nelli'], evaluation=4.5, nombre_evaluations=10, sponsorise=False),\n",
       " Article(titre='Introduction to Machine Learning with Python', prix=46.77, auteurs=['Sarah Guido', 'Andreas Mueller'], evaluation=4.5, nombre_evaluations=649, sponsorise=False),\n",
       " Article(titre='Python Data Science Handbook: Essential Tools for Working With Data', prix=58.4, auteurs=['Jake Vanderplas'], evaluation=4.2, nombre_evaluations=21, sponsorise=False),\n",
       " Article(titre='Python Machine Learning for Beginners: Python Machine Learning Essentials. Build Your First AI Application', prix=15.77, auteurs=['Brian Murray'], evaluation=3.6, nombre_evaluations=15, sponsorise=True),\n",
       " Article(titre=\"Using Asyncio in Python: Understanding Python's Asynchronous Programming Features\", prix=40.26, auteurs=['Caleb Hattingh'], evaluation=4.3, nombre_evaluations=57, sponsorise=False),\n",
       " Article(titre='Python for Civil and Structural Engineers', prix=19.22, auteurs=['Vittorio Lora'], evaluation=3.9, nombre_evaluations=20, sponsorise=False),\n",
       " Article(titre='Python 3.11: Le guide rapide et facile', prix=12.66, auteurs=['Julien FAUJANET'], evaluation=1.0, nombre_evaluations=1, sponsorise=False),\n",
       " Article(titre='Django for APIs: Build web APIs with Python and Django', prix=38.29, auteurs=['William S Vincent'], evaluation=4.4, nombre_evaluations=214, sponsorise=False),\n",
       " Article(titre='Introduction to Programming in Python: An Interdisciplinary Approach (English Edition)', prix=20.56, auteurs=['Kevin Wayne', 'Robert Sedgewick'], evaluation=4.2, nombre_evaluations=61, sponsorise=False),\n",
       " Article(titre='Foundational Python for Data Science', prix=39.62, auteurs=['Noah Gift', 'Kennedy Behrman'], evaluation=4.3, nombre_evaluations=7, sponsorise=False),\n",
       " Article(titre='Bioinformatics\\n with Python Cookbook: Use modern Python libraries and applications to \\nsolve real-world computational biology problems, 3rd Edition (English \\nEdition)', prix=25.84, auteurs=['Tiago Antao'], evaluation=3.8, nombre_evaluations=8, sponsorise=False),\n",
       " Article(titre='ChatGPT\\n API Bible: Mastering Python Programming for Conversational AI: Build \\nIntelligent Chatbots and AI Applications with ChatGPT API and Python', prix=48.38, auteurs=['Cuantum Technologies'], evaluation=3.0, nombre_evaluations=2, sponsorise=False),\n",
       " Article(titre='The Big Book of Small Python Projects: 81 Easy Practice Programs (English Edition)', prix=22.99, auteurs=['Al Sweigart'], evaluation=4.6, nombre_evaluations=147, sponsorise=False),\n",
       " Article(titre=\"Hyperparameter Tuning with Python: Boost your machine learning model's performance via hyperparameter tuning\", prix=46.12, auteurs=['Louis Owen'], evaluation=5.0, nombre_evaluations=3, sponsorise=False),\n",
       " Article(titre='Python\\n for Finance and Algorithmic trading (2nd edition): Machine Learning, \\nDeep Learning, Time series Analysis, Risk and Portfolio Management for \\nMetaTrader™5 Live Trading', prix=19.34, auteurs=['Lucas Inglese'], evaluation=3.8, nombre_evaluations=10, sponsorise=False),\n",
       " Article(titre='Beyond the Basic Stuff with Python: Best Practices for Writing Clean Code', prix=34.58, auteurs=['Al Sweigart'], evaluation=4.7, nombre_evaluations=262, sponsorise=False),\n",
       " Article(titre='The Book of Dash: Build Dashboards with Python and Plotly (English Edition)', prix=19.99, auteurs=['Adam Schroeder', 'Christian Mayer'], evaluation=4.1, nombre_evaluations=17, sponsorise=False),\n",
       " Article(titre='Learn\\n Robotics Programming: Build and control AI-enabled autonomous robots \\nusing the Raspberry Pi and Python, 2nd Edition (English Edition)', prix=18.45, auteurs=['Danny Staple'], evaluation=4.5, nombre_evaluations=81, sponsorise=False),\n",
       " Article(titre='Apprentissage\\n facile Structures de données et algorithmes Python: Apprenez les \\nstructures de données et les algorithmes de manière graphique et simple \\nPython', prix=8.83, auteurs=['yang hu'], evaluation=4.4, nombre_evaluations=3, sponsorise=False),\n",
       " Article(titre='Machine\\n Learning for Algorithmic Trading: Predictive models to extract signals \\nfrom market and alternative data for systematic trading strategies with \\nPython, 2nd Edition', prix=56.89, auteurs=['Stefan Jansen'], evaluation=4.4, nombre_evaluations=276, sponsorise=True),\n",
       " Article(titre='Deep Learning with Python: Bridging the Gap for Advanced AI. Part 1', prix=15.77, auteurs=['Simon Winston'], evaluation=5.0, nombre_evaluations=2, sponsorise=True),\n",
       " Article(titre=\"Python Data Analysis for Beginners: A Beginner's Path to Extracting Meaningful Insights. Part 1\", prix=15.77, auteurs=['Simon Winston'], evaluation=5.0, nombre_evaluations=3, sponsorise=True),\n",
       " Article(titre=\"Python Data Analysis for Beginners: A Beginner's Handbook to Exploring and Visualizing Data\", prix=15.77, auteurs=['Brian Murray'], evaluation=4.0, nombre_evaluations=16, sponsorise=True),\n",
       " Article(titre=\"Automatiser les réseaux avec Python: Guide technique pour l'administrateur\", prix=12.99, auteurs=['Damien Perrin'], evaluation=4.5, nombre_evaluations=16, sponsorise=True),\n",
       " Article(titre='Le\\n Kit du Hacker: Apprendre le Hacking Facilement - Pack de 6 livres : \\nHacking pour Débutant + Dark Python + WiFi Hacking avec Kali Linux + \\nKali Linux ... + WEB Hacking + Le secret De La Cybersécurité', prix=100.0, auteurs=['B. Anass'], evaluation=4.5, nombre_evaluations=45, sponsorise=True),\n",
       " Article(titre=\"Monty Python's Spamalot Songbook: 2005 Tony Award Winner - Best Musical (CHANT) (English Edition)\", prix=14.77, auteurs=['Hal Leonard'], evaluation=5.0, nombre_evaluations=3, sponsorise=False),\n",
       " Article(titre='Practical Python Data Wrangling and Data Quality', prix=59.82, auteurs=['Susan E. McGregor'], evaluation=4.1, nombre_evaluations=12, sponsorise=False),\n",
       " Article(titre='Learn\\n Quantum Computing with Python and IBM Quantum Experience: A hands-on \\nintroduction to quantum computing and writing your own quantum programs \\nwith Python', prix=43.18, auteurs=['Robert Loredo'], evaluation=4.5, nombre_evaluations=98, sponsorise=False),\n",
       " Article(titre='Python Data Science Handbook: Essential Tools for Working With Data', prix=58.4, auteurs=['Jake Vanderplas'], evaluation=4.2, nombre_evaluations=21, sponsorise=False),\n",
       " Article(titre='Parallel\\n and High Performance Programming with Python: Unlock parallel and \\nconcurrent programming in Python using multithreading, CUDA, Pytorch and\\n Dask. (English Edition)', prix=36.91, auteurs=['Fabio Nelli'], evaluation=4.5, nombre_evaluations=10, sponsorise=False),\n",
       " Article(titre='Python Coding on the BBC Micro:Bit', prix=9.85, auteurs=['Jim Gatenby'], evaluation=4.1, nombre_evaluations=28, sponsorise=False),\n",
       " Article(titre='La physique de sup en applications avec Python. MPSI, PCSI, PTSI, MP2I: 32 modélisations de sujets contemporains avec corrigés', prix=39.0, auteurs=['Renaud Carpentier', 'Benoît Dépret'], evaluation=5.0, nombre_evaluations=2, sponsorise=False),\n",
       " Article(titre='Dive Into Data Science: Use Python To Tackle Your Toughest Business Challenges', prix=36.63, auteurs=['Bradford Tuckfield'], evaluation=5.0, nombre_evaluations=2, sponsorise=False),\n",
       " Article(titre='Foundational Python for Data Science', prix=39.62, auteurs=['Noah Gift', 'Kennedy Behrman'], evaluation=4.3, nombre_evaluations=7, sponsorise=False),\n",
       " Article(titre='ChatGPT\\n API Bible: Mastering Python Programming for Conversational AI: Build \\nIntelligent Chatbots and AI Applications with ChatGPT API and Python', prix=48.38, auteurs=['Cuantum Technologies'], evaluation=3.0, nombre_evaluations=2, sponsorise=False),\n",
       " Article(titre='The Big Book of Small Python Projects: 81 Easy Practice Programs (English Edition)', prix=22.99, auteurs=['Al Sweigart'], evaluation=4.6, nombre_evaluations=147, sponsorise=False),\n",
       " Article(titre='Python Machine Learning for Beginners: All You Need to Know about Machine Learning with Python', prix=10.5, auteurs=['Alex Campbell'], evaluation=5.0, nombre_evaluations=5, sponsorise=False),\n",
       " Article(titre='Introduction to Programming in Python: An Interdisciplinary Approach (English Edition)', prix=20.56, auteurs=['Kevin Wayne', 'Robert Sedgewick'], evaluation=4.2, nombre_evaluations=61, sponsorise=False),\n",
       " Article(titre='The Book of Dash: Build Dashboards with Python and Plotly (English Edition)', prix=19.99, auteurs=['Adam Schroeder', 'Christian Mayer'], evaluation=4.1, nombre_evaluations=17, sponsorise=False),\n",
       " Article(titre='Python 3.11: Le guide rapide et facile', prix=12.66, auteurs=['Julien FAUJANET'], evaluation=1.0, nombre_evaluations=1, sponsorise=False),\n",
       " Article(titre='Beyond the Basic Stuff with Python: Best Practices for Writing Clean Code', prix=34.58, auteurs=['Al Sweigart'], evaluation=4.7, nombre_evaluations=262, sponsorise=False),\n",
       " Article(titre='Les fondamentaux de la mécanique quantique sous Python', prix=46.0, auteurs=['Ayouz Mehdi', 'Gillet Jean-Michel'], evaluation=5.0, nombre_evaluations=4, sponsorise=False),\n",
       " Article(titre='Impractical Python Projects: Playful Programming Activities to Make You Smarter (English Edition)', prix=16.99, auteurs=['Lee Vaughan'], evaluation=4.6, nombre_evaluations=313, sponsorise=False),\n",
       " Article(titre='Network Science with Python: Explore the networks around us using network science, social network analysis, and machine learning', prix=49.05, auteurs=['David Knickerbocker'], evaluation=5.0, nombre_evaluations=6, sponsorise=True),\n",
       " Article(titre='Python for Data Science: Clear and Complete Guide to Data Science and Analysis with Python', prix=15.77, auteurs=['Alex Campbell'], evaluation=3.7, nombre_evaluations=9, sponsorise=True),\n",
       " Article(titre='Machine Learning with PyTorch and Scikit-Learn: Develop machine learning and deep learning models with Python', prix=51.01, auteurs=['Sebastian Raschka', 'Yuxi (Hayden) Liu'], evaluation=4.5, nombre_evaluations=212, sponsorise=True),\n",
       " Article(titre='Carnet\\n de Santé - Python Royal (Python Regius): Très complet, 140 pages, à \\nremplir, tout pour améliorer la maintenance et la bonne santé de son \\npython !', prix=7.98, auteurs=['Benjamin EDEINE'], evaluation=5.0, nombre_evaluations=7, sponsorise=False),\n",
       " Article(titre='Learn\\n Robotics Programming: Build and control AI-enabled autonomous robots \\nusing the Raspberry Pi and Python, 2nd Edition (English Edition)', prix=18.45, auteurs=['Danny Staple'], evaluation=4.5, nombre_evaluations=81, sponsorise=False),\n",
       " Article(titre='Python One-Liners: Write Concise, Eloquent Python Like a Professional (English Edition)', prix=22.99, auteurs=['Christian Mayer'], evaluation=4.8, nombre_evaluations=125, sponsorise=False),\n",
       " Article(titre='Introduction to Python Network Automation: The First Journey', prix=57.32, auteurs=['Brendan Choi'], evaluation=4.4, nombre_evaluations=7, sponsorise=False),\n",
       " Article(titre='Robust Python (English Edition)', prix=27.0, auteurs=['Patrick Viafore'], evaluation=4.6, nombre_evaluations=69, sponsorise=False),\n",
       " Article(titre='Python by Example: Learning to Program in 150 Challenges', prix=22.98, auteurs=['Nichola Lacey'], evaluation=4.5, nombre_evaluations=387, sponsorise=False),\n",
       " Article(titre='Supercharged Python: Take Your Code to the Next Level (English Edition)', prix=22.88, auteurs=['John Bennett', 'Brian Overland'], evaluation=4.6, nombre_evaluations=108, sponsorise=False),\n",
       " Article(titre='Cambridge IGCSE™ and O Level Computer Science Programming Book for Python with Digital Access (2 Years)', prix=23.57, auteurs=['Chris Roffey'], evaluation=4.8, nombre_evaluations=9, sponsorise=False),\n",
       " Article(titre='Algorithmic Trading with Python: Quantitative Methods and Strategy Development', prix=29.89, auteurs=['Chris Conlan'], evaluation=4.1, nombre_evaluations=59, sponsorise=False),\n",
       " Article(titre='Expert\\n Python Programming: Master Python by learning the best coding practices\\n and advanced programming concepts, 4th Edition (English Edition)', prix=21.41, auteurs=['Michał Jaworski', 'Tarek Ziadé'], evaluation=4.5, nombre_evaluations=52, sponsorise=False),\n",
       " Article(titre='Dancing with Python: Learn to code with Python and Quantum Computing (English Edition)', prix=22.15, auteurs=['Robert S. Sutor'], evaluation=4.9, nombre_evaluations=16, sponsorise=False),\n",
       " Article(titre='Bioinformatics\\n with Python Cookbook: Use modern Python libraries and applications to \\nsolve real-world computational biology problems, 3rd Edition (English \\nEdition)', prix=25.84, auteurs=['Tiago Antao'], evaluation=3.8, nombre_evaluations=8, sponsorise=False),\n",
       " Article(titre=\"Hyperparameter Tuning with Python: Boost your machine learning model's performance via hyperparameter tuning\", prix=46.12, auteurs=['Louis Owen'], evaluation=5.0, nombre_evaluations=3, sponsorise=False),\n",
       " Article(titre='An Introduction to Python Programming for Scientists and Engineers (English Edition)', prix=37.66, auteurs=['Hannah Aizenman', 'Johnny Wei-Bing Lin'], evaluation=3.0, nombre_evaluations=2, sponsorise=False),\n",
       " Article(titre='Python\\n for Finance and Algorithmic trading (2nd edition): Machine Learning, \\nDeep Learning, Time series Analysis, Risk and Portfolio Management for \\nMetaTrader™5 Live Trading', prix=19.34, auteurs=['Lucas Inglese'], evaluation=3.8, nombre_evaluations=10, sponsorise=False),\n",
       " Article(titre='Les bases de Python en 30 Minutes: Apprendre les bases de la programmation python', prix=9.99, auteurs=['Benjamin B'], evaluation=3.7, nombre_evaluations=27, sponsorise=True),\n",
       " Article(titre='Python For Data Analysis: A Complete Beginner Guide to Wrangling & Analyzing Data Using Python', prix=23.55, auteurs=['Craig Berg'], evaluation=4.0, nombre_evaluations=11, sponsorise=True),\n",
       " Article(titre='Functional Python Programming: Use a functional approach to write succinct, expressive, and efficient Python code, 3rd Edition', prix=42.27, auteurs=['Ricardo Banffy', 'Steven F. Lott'], evaluation=2.9, nombre_evaluations=7, sponsorise=True),\n",
       " Article(titre=\"Python\\n 3 Programming for Beginners: The Beginner's Guide for Learning How to \\nCode in Python (version 3.X) From Scratch in Under 7 Days\", prix=9.7, auteurs=['Ramon Nastase'], evaluation=4.0, nombre_evaluations=11, sponsorise=True),\n",
       " Article(titre='Apprentissage\\n facile Structures de données et algorithmes Python: Apprenez les \\nstructures de données et les algorithmes de manière graphique et simple \\nPython', prix=8.83, auteurs=['yang hu'], evaluation=4.4, nombre_evaluations=3, sponsorise=False),\n",
       " Article(titre='Introduction to Python for Kids: Learn Python the Fun Way by Completing Activities and Solving Puzzles (English Edition)', prix=25.53, auteurs=['Aarthi Elumalai'], evaluation=4.3, nombre_evaluations=5, sponsorise=False),\n",
       " Article(titre='Hands-On\\n Web Scraping with Python: Perform advanced scraping operations using \\nvarious Python libraries and tools such as Selenium, Regex, and others', prix=38.58, auteurs=['Anish Chapagain'], evaluation=4.0, nombre_evaluations=28, sponsorise=False),\n",
       " Article(titre='Python\\n for Finance and Algorithmic Trading: Machine Learning, Deep Learning, \\nTime Series Analysis, Risk and Portfolio Management, Quantitative \\nTrading for MetaTrader5™ Live Trading (English Edition)', prix=9.16, auteurs=['Lucas Inglese'], evaluation=3.9, nombre_evaluations=24, sponsorise=False),\n",
       " Article(titre='Carnet\\n de santé Python Régius: Cahier de suivi pour python royal - Fiches à \\nremplir - Fiche technique sur les pythons - Nourrissage, poids, tailles,\\n mues, visites chez le vétérinaire, notes.', prix=7.9, auteurs=['Eloïse W.'], evaluation=4.6, nombre_evaluations=3, sponsorise=False),\n",
       " Article(titre='Quantitative Portfolio Management: with Applications in Python (Springer Texts in Business and Economics) (English Edition)', prix=32.22, auteurs=['Pierre Brugière'], evaluation=3.8, nombre_evaluations=6, sponsorise=False),\n",
       " Article(titre='python proba stat: seconde édition, avec corrigés des exercices', prix=30.91, auteurs=['M Vincent Vigon', 'M Léo Bois'], evaluation=4.5, nombre_evaluations=5, sponsorise=False),\n",
       " Article(titre='À la conquête des maths avec Python: Dès 14 ans (Pour les kids)', prix=16.99, auteurs=['Peter Farrell'], evaluation=4.2, nombre_evaluations=4, sponsorise=False),\n",
       " Article(titre='Python Programming and Numerical Methods: A Guide for Engineers and Scientists (English Edition)', prix=51.66, auteurs=['Qingkai Kong', 'Timmy Siauw'], evaluation=4.6, nombre_evaluations=30, sponsorise=False),\n",
       " Article(titre='Head First Python (English Edition)', prix=27.0, auteurs=['Paul Barry'], evaluation=5.0, nombre_evaluations=3, sponsorise=False),\n",
       " Article(titre='Introduction à Pandas pour Python :: Les fondamentaux pour les débutants en Data Science', prix=25.74, auteurs=['Hamdy Abou El Anein'], evaluation=5.0, nombre_evaluations=1, sponsorise=False),\n",
       " Article(titre=\"Python - Apprentissage actif - Pour l'étudiant et le futur enseignant\", prix=28.0, auteurs=['Jean-Paul Roy', 'ELLIPSES'], evaluation=4.4, nombre_evaluations=3, sponsorise=False),\n",
       " Article(titre='Expert\\n Python Programming: Become a master in Python by learning coding best \\npractices and advanced programming concepts in Python 3.7, 3rd Edition \\n(English Edition)', prix=19.19, auteurs=['Michał Jaworski', 'Tarek Ziadé'], evaluation=4.3, nombre_evaluations=32, sponsorise=False),\n",
       " Article(titre='Python, Raspberry Pi et Flask - Capturez des données télémétriques et réalisez des tableaux de bord web (2e édition)', prix=34.0, auteurs=['Dominique Meurisse'], evaluation=5.0, nombre_evaluations=4, sponsorise=False),\n",
       " Article(titre='Python How to Program', prix=109.8, auteurs=['Harvey M. Deitel'], evaluation=3.6, nombre_evaluations=15, sponsorise=False),\n",
       " Article(titre='Python\\n Programming and SQL: 6 books in 1: The Ultimate Guides To Master \\nProgramming Quickly with Practical step-by-step Exercises', prix=31.57, auteurs=['Raymond J. Allen'], evaluation=3.6, nombre_evaluations=9, sponsorise=False),\n",
       " Article(titre='Python\\n Machine Learning By Example: Build intelligent systems using Python, \\nTensorFlow 2, PyTorch, and scikit-learn, 3rd Edition (English Edition)', prix=16.98, auteurs=['Yuxi (Hayden) Liu'], evaluation=4.3, nombre_evaluations=68, sponsorise=False),\n",
       " Article(titre=\"Algorithmique et programmation en Python: Exemples d'accompagnement en mathématiques avec la TI-83 Premium CE\", prix=8.9, auteurs=['Jean-Baptiste Civet', 'Boris Hanuš'], evaluation=4.6, nombre_evaluations=30, sponsorise=False),\n",
       " Article(titre='Internals\\n of Python 3.x: Derive Maximum Code Performance and Delve Further into \\nIterations, Objects, GIL, Memory management, and various Internals \\n(English Edition)', prix=6.71, auteurs=['Prashanth Raghu'], evaluation=4.8, nombre_evaluations=7, sponsorise=False),\n",
       " Article(titre='Advanced Python Development: Using Powerful Language Features in Real-World Applications (English Edition)', prix=32.44, auteurs=['Matthew Wilkes'], evaluation=4.5, nombre_evaluations=22, sponsorise=False),\n",
       " Article(titre='Data Science from Scratch: First Principles With Python', prix=55.86, auteurs=['Joel Grus'], evaluation=4.5, nombre_evaluations=811, sponsorise=False),\n",
       " Article(titre='Natural Language Processing with Python and spaCy: A Practical Introduction (English Edition)', prix=25.99, auteurs=['Yuli Vasiliev'], evaluation=4.2, nombre_evaluations=44, sponsorise=False),\n",
       " Article(titre='Python for Security and Networking: Leverage Python modules and tools in securing your network and applications, 3rd Edition', prix=49.07, auteurs=['Jose Manuel Ortega'], evaluation=3.5, nombre_evaluations=3, sponsorise=False),\n",
       " Article(titre='Django for Beginners: Build websites with Python and Django', prix=38.64, auteurs=['William S. Vincent'], evaluation=4.5, nombre_evaluations=431, sponsorise=False),\n",
       " Article(titre='Python | Programmer pas à pas: Le guide ultime du débutant pour une initiation simple & rapide à la programmation en Python', prix=14.99, auteurs=['M.Eng. Johannes Wild'], evaluation=4.0, nombre_evaluations=2, sponsorise=False),\n",
       " Article(titre='Au lycée avec Python: Python en première', prix=14.0, auteurs=['Eric Pruvost'], evaluation=4.4, nombre_evaluations=4, sponsorise=False),\n",
       " Article(titre='Scripting Python sous Linux - Développez vos outils système', prix=39.0, auteurs=['Christophe Bonnet'], evaluation=4.6, nombre_evaluations=3, sponsorise=False),\n",
       " Article(titre=\"L'intelligence artificielle en pratique avec Python: RECHERCHE OPTIMISATION APPRENTISSAGE\", prix=32.0, auteurs=['Ken Hasselmann', 'Hugues Bersini'], evaluation=4.6, nombre_evaluations=8, sponsorise=False),\n",
       " Article(titre=\"Learn More Python 3 the Hard Way: The Next Step for New Python Programmers (Zed Shaw's Hard Way Series) (English Edition)\", prix=18.45, auteurs=['Zed A. Shaw'], evaluation=4.5, nombre_evaluations=114, sponsorise=False),\n",
       " Article(titre='Python Basics: A Practical Introduction to Python 3', prix=39.98, auteurs=['David Amos', 'Dan Bader'], evaluation=4.6, nombre_evaluations=450, sponsorise=False),\n",
       " Article(titre='Data Analysis with Python and PySpark (English Edition)', prix=42.9, auteurs=['Jonathan Rioux'], evaluation=4.3, nombre_evaluations=12, sponsorise=False),\n",
       " Article(titre=\"MONTY PYTHON ! PETIT PRECIS D'\", prix=15.0, auteurs=['Patrick Marcel'], evaluation=4.2, nombre_evaluations=4, sponsorise=False),\n",
       " Article(titre='Numerical Methods in Physics with Python (English Edition)', prix=43.08, auteurs=['Alex Gezerlis'], evaluation=3.8, nombre_evaluations=4, sponsorise=False),\n",
       " Article(titre='Python For Data Analysis: A Complete Beginner Guide to Wrangling & Analyzing Data Using Python', prix=14.77, auteurs=['Craig Berg'], evaluation=4.0, nombre_evaluations=11, sponsorise=True),\n",
       " Article(titre='Python Programming For Kids: Complete Guide to Python Programming for Kids With Simple Projects & Exercises To Get Started', prix=14.77, auteurs=['Craig Berg'], evaluation=4.4, nombre_evaluations=22, sponsorise=True)]"
      ]
     },
     "execution_count": 47,
     "metadata": {},
     "output_type": "execute_result"
    }
   ],
   "source": [
    "articles"
   ]
  },
  {
   "cell_type": "code",
   "execution_count": 48,
   "id": "14be38ac",
   "metadata": {},
   "outputs": [],
   "source": [
    "file_path = \"articles.json\"\n",
    "\n",
    "with open(file_path, \"w\",  encoding='utf-8') as json_file:\n",
    "    json_file.write(articles_json)"
   ]
  },
  {
   "cell_type": "markdown",
   "id": "4dc1cb22-654b-4d3e-af9e-f56ccf677d96",
   "metadata": {},
   "source": [
    "## Exercice\n",
    "\n",
    "Sérialiser vers json `articles`."
   ]
  },
  {
   "cell_type": "code",
   "execution_count": 49,
   "id": "8b6a4267",
   "metadata": {},
   "outputs": [],
   "source": [
    "import polars as pl"
   ]
  },
  {
   "cell_type": "code",
   "execution_count": 51,
   "id": "019645e6",
   "metadata": {},
   "outputs": [
    {
     "data": {
      "text/html": [
       "<div><style>\n",
       ".dataframe > thead > tr > th,\n",
       ".dataframe > tbody > tr > td {\n",
       "  text-align: right;\n",
       "  white-space: pre-wrap;\n",
       "}\n",
       "</style>\n",
       "<small>shape: (258, 6)</small><table border=\"1\" class=\"dataframe\"><thead><tr><th>titre</th><th>prix</th><th>auteurs</th><th>evaluation</th><th>nombre_evaluations</th><th>sponsorise</th></tr><tr><td>str</td><td>f64</td><td>list[str]</td><td>f64</td><td>i64</td><td>bool</td></tr></thead><tbody><tr><td>&quot;Python pour dé…</td><td>16.99</td><td>[&quot;Violette Chiara&quot;, &quot;Benjamin Spahic&quot;]</td><td>4.6</td><td>65</td><td>true</td></tr><tr><td>&quot;Apprendre\n",
       " Pyt…</td><td>16.87</td><td>[&quot;Damon Parker&quot;]</td><td>4.9</td><td>10</td><td>true</td></tr><tr><td>&quot;PYTHON: L&#x27;intr…</td><td>12.9</td><td>[&quot;Jack Fellers&quot;]</td><td>3.8</td><td>102</td><td>true</td></tr><tr><td>&quot;Python\n",
       " GUI Pr…</td><td>32.69</td><td>[&quot;Gregory Walters&quot;]</td><td>5.0</td><td>1</td><td>true</td></tr><tr><td>&quot;Python pour dé…</td><td>16.99</td><td>[&quot;Violette Chiara&quot;, &quot;Benjamin Spahic&quot;]</td><td>4.6</td><td>65</td><td>false</td></tr><tr><td>&quot;Apprendre à pr…</td><td>32.4</td><td>[&quot;Gérard Swinnen&quot;]</td><td>4.6</td><td>327</td><td>false</td></tr><tr><td>&quot;J&#x27;apprends à p…</td><td>12.95</td><td>[&quot;Louie Stowell&quot;, &quot;Rosie Dickins&quot;]</td><td>4.5</td><td>493</td><td>false</td></tr><tr><td>&quot;Programmer en …</td><td>39.0</td><td>[&quot;Luciano Ramalho&quot;]</td><td>4.4</td><td>93</td><td>false</td></tr><tr><td>&quot;100\n",
       " Exercices…</td><td>12.99</td><td>[&quot;Laurentine K.Masson&quot;]</td><td>4.4</td><td>40</td><td>false</td></tr><tr><td>&quot;Python\n",
       " pour l…</td><td>25.95</td><td>[&quot;John Paul Mueller&quot;]</td><td>3.0</td><td>1</td><td>false</td></tr><tr><td>&quot;Apprendre\n",
       " Pyt…</td><td>16.87</td><td>[&quot;Damon Parker&quot;]</td><td>4.9</td><td>10</td><td>false</td></tr><tr><td>&quot;Python Crash C…</td><td>41.02</td><td>[&quot;Eric Matthes&quot;]</td><td>4.7</td><td>466</td><td>false</td></tr><tr><td>&hellip;</td><td>&hellip;</td><td>&hellip;</td><td>&hellip;</td><td>&hellip;</td><td>&hellip;</td></tr><tr><td>&quot;Django for Beg…</td><td>38.64</td><td>[&quot;William S. Vincent&quot;]</td><td>4.5</td><td>431</td><td>false</td></tr><tr><td>&quot;Python | Progr…</td><td>14.99</td><td>[&quot;M.Eng. Johannes Wild&quot;]</td><td>4.0</td><td>2</td><td>false</td></tr><tr><td>&quot;Au lycée avec …</td><td>14.0</td><td>[&quot;Eric Pruvost&quot;]</td><td>4.4</td><td>4</td><td>false</td></tr><tr><td>&quot;Scripting Pyth…</td><td>39.0</td><td>[&quot;Christophe Bonnet&quot;]</td><td>4.6</td><td>3</td><td>false</td></tr><tr><td>&quot;L&#x27;intelligence…</td><td>32.0</td><td>[&quot;Ken Hasselmann&quot;, &quot;Hugues Bersini&quot;]</td><td>4.6</td><td>8</td><td>false</td></tr><tr><td>&quot;Learn More Pyt…</td><td>18.45</td><td>[&quot;Zed A. Shaw&quot;]</td><td>4.5</td><td>114</td><td>false</td></tr><tr><td>&quot;Python Basics:…</td><td>39.98</td><td>[&quot;David Amos&quot;, &quot;Dan Bader&quot;]</td><td>4.6</td><td>450</td><td>false</td></tr><tr><td>&quot;Data Analysis …</td><td>42.9</td><td>[&quot;Jonathan Rioux&quot;]</td><td>4.3</td><td>12</td><td>false</td></tr><tr><td>&quot;MONTY PYTHON !…</td><td>15.0</td><td>[&quot;Patrick Marcel&quot;]</td><td>4.2</td><td>4</td><td>false</td></tr><tr><td>&quot;Numerical Meth…</td><td>43.08</td><td>[&quot;Alex Gezerlis&quot;]</td><td>3.8</td><td>4</td><td>false</td></tr><tr><td>&quot;Python For Dat…</td><td>14.77</td><td>[&quot;Craig Berg&quot;]</td><td>4.0</td><td>11</td><td>true</td></tr><tr><td>&quot;Python Program…</td><td>14.77</td><td>[&quot;Craig Berg&quot;]</td><td>4.4</td><td>22</td><td>true</td></tr></tbody></table></div>"
      ],
      "text/plain": [
       "shape: (258, 6)\n",
       "┌─────────────────────┬───────┬─────────────────────┬────────────┬────────────────────┬────────────┐\n",
       "│ titre               ┆ prix  ┆ auteurs             ┆ evaluation ┆ nombre_evaluations ┆ sponsorise │\n",
       "│ ---                 ┆ ---   ┆ ---                 ┆ ---        ┆ ---                ┆ ---        │\n",
       "│ str                 ┆ f64   ┆ list[str]           ┆ f64        ┆ i64                ┆ bool       │\n",
       "╞═════════════════════╪═══════╪═════════════════════╪════════════╪════════════════════╪════════════╡\n",
       "│ Python pour         ┆ 16.99 ┆ [\"Violette Chiara\", ┆ 4.6        ┆ 65                 ┆ true       │\n",
       "│ débutants:          ┆       ┆ \"Benjamin Sp…       ┆            ┆                    ┆            │\n",
       "│ Programme…          ┆       ┆                     ┆            ┆                    ┆            │\n",
       "│ Apprendre           ┆ 16.87 ┆ [\"Damon Parker\"]    ┆ 4.9        ┆ 10                 ┆ true       │\n",
       "│ Python: Un Cours    ┆       ┆                     ┆            ┆                    ┆            │\n",
       "│ Accé…               ┆       ┆                     ┆            ┆                    ┆            │\n",
       "│ PYTHON:             ┆ 12.9  ┆ [\"Jack Fellers\"]    ┆ 3.8        ┆ 102                ┆ true       │\n",
       "│ L'introduction et   ┆       ┆                     ┆            ┆                    ┆            │\n",
       "│ les fo…             ┆       ┆                     ┆            ┆                    ┆            │\n",
       "│ Python              ┆ 32.69 ┆ [\"Gregory Walters\"] ┆ 5.0        ┆ 1                  ┆ true       │\n",
       "│ GUI Programming     ┆       ┆                     ┆            ┆                    ┆            │\n",
       "│ with PAG…           ┆       ┆                     ┆            ┆                    ┆            │\n",
       "│ …                   ┆ …     ┆ …                   ┆ …          ┆ …                  ┆ …          │\n",
       "│ MONTY PYTHON !      ┆ 15.0  ┆ [\"Patrick Marcel\"]  ┆ 4.2        ┆ 4                  ┆ false      │\n",
       "│ PETIT PRECIS D'     ┆       ┆                     ┆            ┆                    ┆            │\n",
       "│ Numerical Methods   ┆ 43.08 ┆ [\"Alex Gezerlis\"]   ┆ 3.8        ┆ 4                  ┆ false      │\n",
       "│ in Physics wit…     ┆       ┆                     ┆            ┆                    ┆            │\n",
       "│ Python For Data     ┆ 14.77 ┆ [\"Craig Berg\"]      ┆ 4.0        ┆ 11                 ┆ true       │\n",
       "│ Analysis: A Comp…   ┆       ┆                     ┆            ┆                    ┆            │\n",
       "│ Python Programming  ┆ 14.77 ┆ [\"Craig Berg\"]      ┆ 4.4        ┆ 22                 ┆ true       │\n",
       "│ For Kids: Com…      ┆       ┆                     ┆            ┆                    ┆            │\n",
       "└─────────────────────┴───────┴─────────────────────┴────────────┴────────────────────┴────────────┘"
      ]
     },
     "execution_count": 51,
     "metadata": {},
     "output_type": "execute_result"
    }
   ],
   "source": [
    "pl.read_json(\"articles.json\")"
   ]
  }
 ],
 "metadata": {
  "kernelspec": {
   "display_name": "Python 3 (ipykernel)",
   "language": "python",
   "name": "python3"
  },
  "language_info": {
   "codemirror_mode": {
    "name": "ipython",
    "version": 3
   },
   "file_extension": ".py",
   "mimetype": "text/x-python",
   "name": "python",
   "nbconvert_exporter": "python",
   "pygments_lexer": "ipython3",
   "version": "3.10.6"
  }
 },
 "nbformat": 4,
 "nbformat_minor": 5
}
