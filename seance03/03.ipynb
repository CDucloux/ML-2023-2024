{
 "cells": [
  {
   "cell_type": "markdown",
   "id": "ba88779a-e260-4738-8fc7-cd029754926a",
   "metadata": {},
   "source": [
    "# imports"
   ]
  },
  {
   "cell_type": "code",
   "execution_count": 4,
   "id": "30208ef0-132d-4ca3-b0f5-a8903e1435b6",
   "metadata": {},
   "outputs": [],
   "source": [
    "from pathlib import Path"
   ]
  },
  {
   "cell_type": "code",
   "execution_count": 5,
   "id": "b1521e34-56b0-4049-b4fc-4b5363a78092",
   "metadata": {},
   "outputs": [],
   "source": [
    "import bs4"
   ]
  },
  {
   "cell_type": "code",
   "execution_count": 6,
   "id": "dc5c7ff1-a4fc-47bf-b08d-7e9afd0b2109",
   "metadata": {},
   "outputs": [],
   "source": [
    "from bs4 import BeautifulSoup as BS"
   ]
  },
  {
   "cell_type": "code",
   "execution_count": 7,
   "id": "ee315916-0035-4cb5-85b2-356a389a128d",
   "metadata": {},
   "outputs": [],
   "source": [
    "from dataclasses import dataclass"
   ]
  },
  {
   "cell_type": "code",
   "execution_count": 8,
   "id": "11600e40-ffbf-4f96-a474-bb0ea7bd8029",
   "metadata": {},
   "outputs": [],
   "source": [
    "from enum import Enum"
   ]
  },
  {
   "cell_type": "code",
   "execution_count": 413,
   "id": "f37b339a",
   "metadata": {},
   "outputs": [],
   "source": [
    "from serde import serialize, deserialize\n",
    "from serde.json import to_json"
   ]
  },
  {
   "cell_type": "markdown",
   "id": "0b4930b6",
   "metadata": {},
   "source": []
  },
  {
   "cell_type": "markdown",
   "id": "2398da32-be66-4eb6-8fb6-f2f07814b8cf",
   "metadata": {},
   "source": [
    "# Récupération du contenu html\n",
    "\n",
    "On a **manuellement** sauvegarder les 7 premières pages correspondant aux résultats de la recherche *python* sur [amazon.fr](www.amazon.fr)"
   ]
  },
  {
   "cell_type": "code",
   "execution_count": 10,
   "id": "70c4a83e-6088-43cc-9f9f-a3989b5737e2",
   "metadata": {},
   "outputs": [
    {
     "name": "stdout",
     "output_type": "stream",
     "text": [
      "D:\\Cours Mecen (M2)\\Machine Learning\\ML-2023-2024\\seance03\n"
     ]
    }
   ],
   "source": [
    "racine = Path(\".\").resolve()\n",
    "print(racine)"
   ]
  },
  {
   "cell_type": "code",
   "execution_count": 11,
   "id": "15742e7a-eb1b-4e31-a6c2-4001fb121d6c",
   "metadata": {},
   "outputs": [
    {
     "name": "stdout",
     "output_type": "stream",
     "text": [
      "D:\\Cours Mecen (M2)\\Machine Learning\\ML-2023-2024\\seance03\\03.ipynb\n",
      "D:\\Cours Mecen (M2)\\Machine Learning\\ML-2023-2024\\seance03\\pages\n"
     ]
    }
   ],
   "source": [
    "for contenu in racine.glob(\"*\"):\n",
    "    print(contenu)"
   ]
  },
  {
   "cell_type": "code",
   "execution_count": 12,
   "id": "b51f308e-57ae-4bb7-a4d2-22011610de16",
   "metadata": {},
   "outputs": [
    {
     "name": "stdout",
     "output_type": "stream",
     "text": [
      "D:\\Cours Mecen (M2)\\Machine Learning\\ML-2023-2024\\seance03\\pages\n"
     ]
    }
   ],
   "source": [
    "pages = racine / \"pages\"\n",
    "print(pages)"
   ]
  },
  {
   "cell_type": "code",
   "execution_count": 13,
   "id": "002f5344-b7ce-4899-9984-ef74415ef330",
   "metadata": {},
   "outputs": [
    {
     "name": "stdout",
     "output_type": "stream",
     "text": [
      "D:\\Cours Mecen (M2)\\Machine Learning\\ML-2023-2024\\seance03\\pages\\amazon_p1.html\n",
      "D:\\Cours Mecen (M2)\\Machine Learning\\ML-2023-2024\\seance03\\pages\\amazon_p2.html\n",
      "D:\\Cours Mecen (M2)\\Machine Learning\\ML-2023-2024\\seance03\\pages\\amazon_p3.html\n",
      "D:\\Cours Mecen (M2)\\Machine Learning\\ML-2023-2024\\seance03\\pages\\amazon_p4.html\n",
      "D:\\Cours Mecen (M2)\\Machine Learning\\ML-2023-2024\\seance03\\pages\\amazon_p5.html\n",
      "D:\\Cours Mecen (M2)\\Machine Learning\\ML-2023-2024\\seance03\\pages\\amazon_p6.html\n"
     ]
    }
   ],
   "source": [
    "for chemin in pages.glob(\"*.html\"):\n",
    "    print(chemin)"
   ]
  },
  {
   "cell_type": "code",
   "execution_count": 14,
   "id": "fcedc757-8ad0-4010-a1a6-2cef63b50e7a",
   "metadata": {},
   "outputs": [],
   "source": [
    "htmls = list()\n",
    "for chemin in pages.glob(\"*.html\"):\n",
    "    htmls.append(chemin.read_text(encoding=\"utf8\"))"
   ]
  },
  {
   "cell_type": "markdown",
   "id": "2c545930-e200-4f5e-8401-9491c225ad05",
   "metadata": {
    "jupyter": {
     "outputs_hidden": true
    },
    "tags": []
   },
   "source": [
    "# Exploitation de la première page html"
   ]
  },
  {
   "cell_type": "markdown",
   "id": "14a30cd7-d75c-4914-b775-e9720fa45421",
   "metadata": {},
   "source": [
    "## Exercice\n",
    "\n",
    "En utilisant les outils de développement du navigateur et `bs4`, récupérer la liste des éléments représentant des livres dans la première page."
   ]
  },
  {
   "cell_type": "code",
   "execution_count": 15,
   "id": "3917b54c-bdf1-499d-8f5b-83cdca764433",
   "metadata": {},
   "outputs": [],
   "source": [
    "soupe = BS(htmls[0])"
   ]
  },
  {
   "cell_type": "code",
   "execution_count": 16,
   "id": "4772cfbf-aba3-472f-9e59-5166da30b50c",
   "metadata": {},
   "outputs": [],
   "source": [
    "result_items = soupe.find_all(name=\"div\", attrs={\"class\": \"s-result-item\"})"
   ]
  },
  {
   "cell_type": "code",
   "execution_count": 17,
   "id": "d6a178ea-2723-4319-9313-298b410e2bbb",
   "metadata": {},
   "outputs": [
    {
     "data": {
      "text/plain": [
       "66"
      ]
     },
     "execution_count": 17,
     "metadata": {},
     "output_type": "execute_result"
    }
   ],
   "source": [
    "len(result_items)"
   ]
  },
  {
   "cell_type": "markdown",
   "id": "73feb37b-5a19-4564-a5e2-e6b461e3672c",
   "metadata": {},
   "source": [
    "**ATTENTION** on voit visuellement qu'il n'y a que 60 éléments à récupérer dans la page, donc il y a des intrus à identifier."
   ]
  },
  {
   "cell_type": "code",
   "execution_count": 181,
   "id": "6d339fb2-9238-4b47-ae8e-8c0049dc4a98",
   "metadata": {},
   "outputs": [],
   "source": [
    "result_item = result_items[6]"
   ]
  },
  {
   "cell_type": "markdown",
   "id": "588dcf05",
   "metadata": {},
   "source": [
    "`.prettify()` permet de représenter la page `HTML` bien indentée"
   ]
  },
  {
   "cell_type": "code",
   "execution_count": null,
   "id": "1f58c1bd-6671-44b1-929b-cfd1f3f30af1",
   "metadata": {
    "collapsed": true,
    "jupyter": {
     "outputs_hidden": true
    },
    "tags": []
   },
   "outputs": [],
   "source": [
    "print(result_item.prettify())"
   ]
  },
  {
   "cell_type": "code",
   "execution_count": null,
   "id": "25ce7896-014c-4d13-a4dd-acec6dc55e63",
   "metadata": {},
   "outputs": [],
   "source": [
    "result_item.find_all(name=\"span\", attrs={\"class\": \"a-text-normal\"})"
   ]
  },
  {
   "cell_type": "code",
   "execution_count": 135,
   "id": "6f39c043-b3d2-4ef5-b800-6c6c4c6e3475",
   "metadata": {},
   "outputs": [
    {
     "data": {
      "text/plain": [
       "[<span class=\"a-price-whole\">34,95</span>]"
      ]
     },
     "execution_count": 135,
     "metadata": {},
     "output_type": "execute_result"
    }
   ],
   "source": [
    "result_item.find_all(name=\"span\", attrs={\"class\": \"a-price-whole\"})"
   ]
  },
  {
   "cell_type": "code",
   "execution_count": 182,
   "id": "71c91460",
   "metadata": {},
   "outputs": [],
   "source": [
    "list_author_1 = [\n",
    "    x.text \n",
    "    for x in result_item.select(\"span.a-size-base:not([class*= 'a-size-base '])\") \n",
    "    if x.text[0].isupper()\n",
    "] "
   ]
  },
  {
   "cell_type": "code",
   "execution_count": 184,
   "id": "8cabe01b",
   "metadata": {},
   "outputs": [],
   "source": [
    "list_author_2 = [\n",
    "    x.text \n",
    "    for x in result_item.find_all(\n",
    "        name=\"a\", attrs={\"class\": \"a-size-base a-link-normal s-underline-text s-underline-link-text s-link-style\"}\n",
    "    )\n",
    "    if \"Format\" not in x.text\n",
    "]"
   ]
  },
  {
   "cell_type": "code",
   "execution_count": 185,
   "id": "81e7647a",
   "metadata": {},
   "outputs": [
    {
     "data": {
      "text/plain": [
       "['Gérard Swinnen']"
      ]
     },
     "execution_count": 185,
     "metadata": {},
     "output_type": "execute_result"
    }
   ],
   "source": [
    "list_author_1 + list_author_2"
   ]
  },
  {
   "cell_type": "code",
   "execution_count": 22,
   "id": "ef3f9c58-1236-4bd8-884b-64a64783cd5b",
   "metadata": {},
   "outputs": [],
   "source": [
    "def recup_titre_prix(element: bs4.element.Tag) -> tuple[str, str]:\n",
    "    titre, = element.find_all(name=\"span\", attrs={\"class\": \"a-text-normal\"})\n",
    "    prix, = element.find_all(name=\"span\", attrs={\"class\": \"a-price-whole\"})\n",
    "    return (titre.text, prix.text)\n",
    "    "
   ]
  },
  {
   "cell_type": "code",
   "execution_count": 23,
   "id": "faec5b02-c191-4490-a62c-e46852e98cc7",
   "metadata": {},
   "outputs": [
    {
     "data": {
      "text/plain": [
       "('Python pour débutants: Programmer un réseau neuronal en 7 jours', '16,99')"
      ]
     },
     "execution_count": 23,
     "metadata": {},
     "output_type": "execute_result"
    }
   ],
   "source": [
    "recup_titre_prix(result_item)"
   ]
  },
  {
   "cell_type": "code",
   "execution_count": 24,
   "id": "238b16b1-0260-4e73-91dd-704842a85af9",
   "metadata": {},
   "outputs": [],
   "source": [
    "extractions = list()\n",
    "for item in result_items:\n",
    "    try:\n",
    "        extractions.append(recup_titre_prix(item))\n",
    "    except ValueError:\n",
    "        pass"
   ]
  },
  {
   "cell_type": "code",
   "execution_count": 25,
   "id": "8da34d24-07bc-4704-85b3-b243ee29ee29",
   "metadata": {},
   "outputs": [
    {
     "data": {
      "text/plain": [
       "56"
      ]
     },
     "execution_count": 25,
     "metadata": {},
     "output_type": "execute_result"
    }
   ],
   "source": [
    "# il y a normalement 60 livres dans la page\n",
    "len(extractions)"
   ]
  },
  {
   "cell_type": "code",
   "execution_count": 26,
   "id": "b72dd2a5-b2a8-459c-9456-9cf8c6e36395",
   "metadata": {
    "collapsed": true,
    "jupyter": {
     "outputs_hidden": true
    },
    "tags": []
   },
   "outputs": [
    {
     "name": "stdout",
     "output_type": "stream",
     "text": [
      "('Python pour débutants: Programmer un réseau neuronal en 7 jours', '16,99')\n",
      "(\"Apprendre\\n Python: Un Cours Accéléré sur la Programmation Python et Comment \\nCommencer à l’utiliser pour Coder. Apprenez les Bases de Machine \\nLearning et de l'analyse de Données\", '16,87')\n",
      "(\"PYTHON: L'introduction et les fondements pour apprendre à programmer en python en 7 jours\", '12,90')\n",
      "('Python\\n GUI Programming with PAGE: Create professional-looking GUIs for Python \\napplications efficiently and effectively (English Edition)', '32,69')\n",
      "('Python pour débutants: Programmer un réseau neuronal en 7 jours', '16,99')\n",
      "('Apprendre à programmer avec Python 3', '32,40')\n",
      "(\"J'apprends à programmer avec Python\", '12,95')\n",
      "(\"Programmer en Python - Apprendre la programmation de façon claire, concise et efficace - collection O'Reilly\", '39,00')\n",
      "(\"100\\n Exercices Python pour s'entrainer: Un ensemble d'exercices avec \\ndifférents niveaux de complexité | Débutant - Intermédiaire - Avancé | \\nExercices corrigés pour tous les niveaux\", '12,99')\n",
      "(\"Python\\n pour les Nuls, 4è édition : Livre d'informatique, Découvrir la \\nprogrammation informatique sur Python, Apprendre à coder comme un pro, \\nguide pour débutants de la programmation\", '25,95')\n",
      "(\"Apprendre\\n Python: Un Cours Accéléré sur la Programmation Python et Comment \\nCommencer à l’utiliser pour Coder. Apprenez les Bases de Machine \\nLearning et de l'analyse de Données\", '16,87')\n",
      "('Python Crash Course, 3rd Edition: A Hands-On, Project-Based Introduction to Programming', '41,02')\n",
      "('Fluent Python: Clear, Concise, and Effective Programming', '59,78')\n",
      "('Python & JavaScript pour les Nuls, mégapoche', '22,95')\n",
      "('Python 3 - Les fondamentaux du langage (3e édition)', '38,90')\n",
      "('Python pour le data scientist - 2e éd.: Des bases du langage au machine learning', '29,90')\n",
      "('Python\\n pour le lycée: Le langage Python expliqué simplement pour les Lycéens |\\n Niveau Seconde, Première, Terminale | Filière Générale ou Technologique\\n | Guide Complet Pour débutants', '14,99')\n",
      "('Python pour les kids: La prorammation accessible aux enfants ! Dès 10 ans.', '22,90')\n",
      "('Au coeur des algorithmes: Les bases de la programmation avec Python', '24,90')\n",
      "('Initiation à la cryptographie avec Python: Cours et exercices corrigés. BTS - DUT - Licence Maths et Informatique', '20,90')\n",
      "('Python pour la physique: Calcul, graphisme, simulation', '23,50')\n",
      "(\"Programmer\\n avec Python en s'amusant pour les Nuls, 4è édition: Découvrir la \\nprogrammation informatique, apprendre à coder sur Python en s'amusant à \\ntravers des projets à réaliser\", '17,95')\n",
      "(\"Python pour Excel, Automatisation et analyse des données dans un environnement moderne - collection O'Reilly\", '34,00')\n",
      "('Petite leçon de Python 2e Ed.', '36,00')\n",
      "('Programmation Python avancée - Guide pour une pratique élégante et efficace: Guide pour une pratique élégante et efficace', '29,90')\n",
      "('Automate the Boring Stuff with Python, 2nd Edition: Practical Programming for Total Beginners', '25,51')\n",
      "('Python tout-en-un pour les Nuls', '34,95')\n",
      "(\"PYTHON: L'introduction et les fondements pour apprendre à programmer en python en 7 jours\", '12,90')\n",
      "('Python: Comprendre les bases et maitriser la programmation', '34,90')\n",
      "(\"Les bases de python en 1 heure chrono: Un Apprentissage Simple et Efficace Illustré d'exemples | Guide Complet pour Débutants\", '9,99')\n",
      "(\"15 énigmes ludiques pour s'initier à la programmation Python\", '15,90')\n",
      "('Data Structures with Python: Get familiar with the common Data Structures and Algorithms in Python (English Edition)', '29,53')\n",
      "(\"Python\\n pour les Nuls, 4è édition : Livre d'informatique, Découvrir la \\nprogrammation informatique sur Python, Apprendre à coder comme un pro, \\nguide pour débutants de la programmation\", '25,95')\n",
      "('Les algorithmes, c’est plus simple avec un dessin !', '19,90')\n",
      "('70 concepts mathématiques expliqués avec Python', '23,00')\n",
      "('Apprendre à coder en Python avec Minecraft, 2e édition: Dès 10 ans', '24,90')\n",
      "(\"PYTHON,\\n Guide complet de la programmation orientée objet pour débutants: \\nDevenez un développeur en créant une IA avec l'apprentissage automatique\\n et un site web en 10 étapes. Plus de 200 exercices.\", '31,64')\n",
      "('Cahier Python pour les Maths Seconde', '9,30')\n",
      "('Machine learning et Python pour les Nuls, mégapoche', '22,95')\n",
      "('Python for Finance: Mastering Data-Driven Finance', '60,75')\n",
      "(\"L'intelligence artificielle en pratique avec Python - 2e édition: Recherche, optimisation, apprentissage\", '32,00')\n",
      "(\"Analyse de données avec Python - Optimiser la préparation des données avec Pandas, Numpy, Jupyter et IPython-collection O'Reilly\", '42,95')\n",
      "('Les bases de Python en 30 Minutes: Apprendre les bases de la programmation python', '9,99')\n",
      "('Python pour la finance', '52,95')\n",
      "('Python pour la Data science pour les Nuls, grand format', '26,95')\n",
      "(\"Machine learning avec Python - collection O'Reilly\", '35,00')\n",
      "(\"L'apprentissage profond avec Python\", '39,00')\n",
      "('Deep Learning with Python, Second Edition (English Edition)', '42,90')\n",
      "('Carnet de Réussite - Python pour les SNT - 2de - Ed. 2023', '5,90')\n",
      "('Le petit Python - Aide-mémoire pour Python 3', '24,00')\n",
      "('Python Crash Course, 2nd Edition: A Hands-On, Project-Based Introduction to Programming', '37,69')\n",
      "(\"30\\n Exercices en programmation orientée objet Python pour s'entrainer: Un \\nensemble d'exercices avec différents niveaux de complexité | Débutant - \\n... | Une correction pour tous les exercices\", '9,99')\n",
      "('Black Hat Python, 2nd Edition: Python Programming for Hackers and Pentesters', '37,13')\n",
      "('Python\\n Networking Solutions Guide: Leverage the Power of Python to Automate \\nand Maintain your Network Environment (English Edition)', '29,53')\n",
      "('Python Guide: Clear Introduction to Python Programming and Machine Learning', '21,05')\n",
      "('Selenium\\n and Appium with Python: Build robust and scalable test automation \\nframeworks using Selenium, Appium and Python (English Edition)', '34,80')\n"
     ]
    }
   ],
   "source": [
    "# Inspection visuelle\n",
    "for extraction in extractions:\n",
    "    print(extraction)"
   ]
  },
  {
   "cell_type": "markdown",
   "id": "3850a72d-73b4-404c-9a38-babaf492cf8e",
   "metadata": {},
   "source": [
    "## Exercice\n",
    "\n",
    "Ajuster la recherche précédente pour récupérer exactement les résultats voulus."
   ]
  },
  {
   "cell_type": "code",
   "execution_count": 27,
   "id": "4a977b07-4ec3-485f-9cda-adc8091a61a9",
   "metadata": {},
   "outputs": [
    {
     "name": "stdout",
     "output_type": "stream",
     "text": [
      "('Les algorithmes, c’est plus simple avec un dessin !', '19,90')\n"
     ]
    }
   ],
   "source": [
    "for extraction in extractions:\n",
    "    if \"python\" not in extraction[0].lower():\n",
    "        print(extraction)"
   ]
  },
  {
   "cell_type": "code",
   "execution_count": 28,
   "id": "7b7e0f30-2005-404f-ab1a-ce54fcfd9b22",
   "metadata": {},
   "outputs": [],
   "source": [
    "class ParsingError(Exception):\n",
    "    pass\n",
    "\n",
    "def recup_titre_prix(element: bs4.element.Tag) -> tuple[str, str]:\n",
    "    try:\n",
    "        spans = element.find_all(name=\"span\", attrs={\"class\": \"a-text-normal\"})\n",
    "        titre, = spans\n",
    "        titre = titre.text\n",
    "    except ValueError:\n",
    "        raise ParsingError\n",
    "    try:\n",
    "        spans = element.find_all(name=\"span\", attrs={\"class\": \"a-price-whole\"})\n",
    "        prix, = spans\n",
    "        prix = prix.text\n",
    "    except ValueError:\n",
    "        raise ParsingError\n",
    "    if \"python\" not in titre.lower():\n",
    "        raise ParsingError\n",
    "    return (titre, prix)"
   ]
  },
  {
   "cell_type": "code",
   "execution_count": 55,
   "id": "754cf455-9e9f-4fc2-9309-1134e6139128",
   "metadata": {},
   "outputs": [],
   "source": [
    "extractions = list()\n",
    "for item in result_items:\n",
    "    try:\n",
    "        extractions.append(recup_titre_prix(item))\n",
    "    except ParsingError:\n",
    "        pass"
   ]
  },
  {
   "cell_type": "code",
   "execution_count": 30,
   "id": "949414ae-20e4-4bfa-9abf-ea0e59bb4e85",
   "metadata": {},
   "outputs": [
    {
     "data": {
      "text/plain": [
       "55"
      ]
     },
     "execution_count": 30,
     "metadata": {},
     "output_type": "execute_result"
    }
   ],
   "source": [
    "len(extractions)"
   ]
  },
  {
   "cell_type": "markdown",
   "id": "250e13d8-8ebf-47f6-ad57-34f4a8481b4d",
   "metadata": {},
   "source": [
    "# Assemblage"
   ]
  },
  {
   "cell_type": "code",
   "execution_count": 31,
   "id": "7dfd26bd-c535-47c3-a46c-1259966cf7df",
   "metadata": {},
   "outputs": [],
   "source": [
    "class ParsingError(Exception):\n",
    "    pass\n",
    "\n",
    "def recup_titre_prix(element: bs4.element.Tag) -> tuple[str, str]:\n",
    "    try:\n",
    "        spans = element.find_all(\n",
    "            name=\"span\", \n",
    "            attrs={\"class\": \"a-text-normal\"}\n",
    "        )\n",
    "        titre, = spans\n",
    "        titre = titre.text\n",
    "    except ValueError:\n",
    "        raise ParsingError\n",
    "    try:\n",
    "        spans = element.find_all(\n",
    "            name=\"span\", \n",
    "            attrs={\"class\": \"a-price-whole\"}\n",
    "        )\n",
    "        prix, = spans\n",
    "        prix = prix.text\n",
    "    except ValueError:\n",
    "        raise ParsingError\n",
    "    if \"python\" not in titre.lower():\n",
    "        raise ParsingError\n",
    "    return (titre, prix)"
   ]
  },
  {
   "cell_type": "code",
   "execution_count": 32,
   "id": "c18ae3dc-8b33-4433-9ee4-bcace7bf4e75",
   "metadata": {},
   "outputs": [],
   "source": [
    "extractions = list()\n",
    "for html in htmls:\n",
    "    soupe = BS(html, features=\"lxml\")\n",
    "    result_items = soupe.find_all(\n",
    "        name=\"div\", \n",
    "        attrs={\"class\": \"s-result-item\"}\n",
    "    )\n",
    "    for item in result_items:\n",
    "        try:\n",
    "            extractions.append(recup_titre_prix(item))\n",
    "        except ParsingError:\n",
    "            pass"
   ]
  },
  {
   "cell_type": "code",
   "execution_count": 42,
   "id": "1286d086-a56f-4f3b-a6e1-0cfdcf939d8d",
   "metadata": {},
   "outputs": [
    {
     "data": {
      "text/plain": [
       "317"
      ]
     },
     "execution_count": 42,
     "metadata": {},
     "output_type": "execute_result"
    }
   ],
   "source": [
    "len(extractions)"
   ]
  },
  {
   "cell_type": "markdown",
   "id": "5e58ecc3-7578-4fe9-a3aa-d42cf44fb2a3",
   "metadata": {},
   "source": [
    "## Exercice\n",
    "\n",
    "Enrichir le code pour extraire quand c'est possible:\n",
    "- les auteurs\n",
    "- l'évalution moyenn\n",
    "- le nombres d'évaluations\n",
    "- broché ou relié ou...\n",
    "- sponsorisé ou pas?"
   ]
  },
  {
   "cell_type": "code",
   "execution_count": 411,
   "id": "3848882c-2bef-4732-a6fe-1fa6c2e9a3c9",
   "metadata": {},
   "outputs": [],
   "source": [
    "@serialize\n",
    "@dataclass\n",
    "class Article:\n",
    "    titre: str\n",
    "    prix: float\n",
    "    auteurs: list\n",
    "    evaluation: float\n",
    "    nombre_evaluations: int\n",
    "    sponsorise: bool"
   ]
  },
  {
   "cell_type": "code",
   "execution_count": 402,
   "id": "301ed8c0-0f71-477c-b3ad-5034a30cb970",
   "metadata": {},
   "outputs": [],
   "source": [
    "def recupere_titre(element: bs4.element.Tag) -> str:\n",
    "    try:\n",
    "        spans = element.find_all(\n",
    "            name=\"span\", \n",
    "            attrs={\"class\": \"a-text-normal\"}\n",
    "        )\n",
    "        titre, = spans\n",
    "        titre = titre.text\n",
    "    except ValueError:\n",
    "        raise ParsingError\n",
    "    if \"python\" not in titre.lower():\n",
    "        raise ParsingError\n",
    "    return titre"
   ]
  },
  {
   "cell_type": "code",
   "execution_count": 403,
   "id": "cffa7f1f-5606-450e-84fb-57eba49a9b7d",
   "metadata": {},
   "outputs": [],
   "source": [
    "def recupere_prix(element: bs4.element.Tag) -> str:\n",
    "    try:\n",
    "        spans = element.find_all(\n",
    "            name=\"span\", \n",
    "            attrs={\"class\": \"a-price-whole\"}\n",
    "        )\n",
    "        prix, = spans\n",
    "        prix = float(prix.text.replace(\",\", \".\"))\n",
    "    except ValueError:\n",
    "        raise ParsingError\n",
    "    return prix"
   ]
  },
  {
   "cell_type": "code",
   "execution_count": 404,
   "id": "d06ae390-a5dc-446e-a874-e966d3a8bdda",
   "metadata": {},
   "outputs": [],
   "source": [
    "def recupere_auteurs(element: bs4.element.Tag) -> list:\n",
    "    constraints = [\"Format\", \"Relié\", \"Broché\", \"Livres audio Audible\"]\n",
    "    list_author_1 = [\n",
    "        x.text \n",
    "        for x in element.select(\"span.a-size-base:not([class*= 'a-size-base '])\") \n",
    "        if x.text[0].isupper()\n",
    "    ]\n",
    "    list_author_2 = [\n",
    "        x.text \n",
    "        for x in element.find_all(\n",
    "            name=\"a\", attrs={\"class\": \"a-size-base a-link-normal s-underline-text s-underline-link-text s-link-style\"}\n",
    "        )\n",
    "        if all(constraint not in x.text for constraint in constraints)\n",
    "    ]\n",
    "    auteurs = list_author_1 + list_author_2\n",
    "    return auteurs"
   ]
  },
  {
   "cell_type": "code",
   "execution_count": 405,
   "id": "40816da4",
   "metadata": {},
   "outputs": [],
   "source": [
    "def recupere_evaluation(element: bs4.element.Tag) -> float:\n",
    "    \"\"\"a-icon-alt\"\"\"\n",
    "    try:\n",
    "        spans = element.find_all(\n",
    "            name=\"span\", \n",
    "            attrs={\"class\": \"a-size-base puis-normal-weight-text\"}\n",
    "        )\n",
    "        rating, = spans\n",
    "        rating = float(rating.text.replace(\",\", \".\"))\n",
    "    except ValueError:\n",
    "        raise ParsingError\n",
    "    return rating"
   ]
  },
  {
   "cell_type": "code",
   "execution_count": 406,
   "id": "dacb0eaa",
   "metadata": {},
   "outputs": [],
   "source": [
    "def recupere_nombre_evaluations(element: bs4.element.Tag) -> int:\n",
    "    try:\n",
    "        spans = element.find_all(\n",
    "            name=\"span\", \n",
    "            attrs={\"class\": \"a-size-base s-underline-text\"}\n",
    "        )\n",
    "        nb_rating, = spans\n",
    "        nb_rating = int(nb_rating.text)\n",
    "    except ValueError:\n",
    "        raise ParsingError\n",
    "    return nb_rating\n",
    "    "
   ]
  },
  {
   "cell_type": "code",
   "execution_count": 407,
   "id": "2380d0b2-15a2-4fa3-acfa-6cf7bd2e1eaf",
   "metadata": {},
   "outputs": [],
   "source": [
    "def recupere_sponsorise(element: bs4.element.Tag) -> bool:\n",
    "    spans = element.find_all(\n",
    "        name=\"span\",\n",
    "        attrs={\"class\": \"a-color-base\"}\n",
    "    )\n",
    "    for span in spans:\n",
    "        if span.text == \"Sponsorisé\":\n",
    "            return True\n",
    "    return False"
   ]
  },
  {
   "cell_type": "code",
   "execution_count": 438,
   "id": "b2957dc3-1855-405e-a838-23e88ecbb37b",
   "metadata": {},
   "outputs": [],
   "source": [
    "def genere_article(element: bs4.element.Tag) -> Article:\n",
    "    titre = recupere_titre(element)\n",
    "    prix = recupere_prix(element)\n",
    "    auteurs = recupere_auteurs(element)\n",
    "    evaluation = recupere_evaluation(element)\n",
    "    nombre_evaluations =  recupere_nombre_evaluations(element)\n",
    "    sponsorise = recupere_sponsorise(element)\n",
    "    return Article(titre=titre, prix=prix, auteurs=auteurs, evaluation=evaluation, nombre_evaluations=nombre_evaluations,sponsorise=sponsorise)"
   ]
  },
  {
   "cell_type": "code",
   "execution_count": 439,
   "id": "f145e845-686c-4961-bf8a-cce66e2a7348",
   "metadata": {},
   "outputs": [],
   "source": [
    "articles: list[Article] = list()\n",
    "for html in htmls:\n",
    "    soupe = BS(html, features=\"lxml\")\n",
    "    result_items = soupe.find_all(\n",
    "        name=\"div\", \n",
    "        attrs={\"class\": \"s-result-item\"}\n",
    "    )\n",
    "    for item in result_items:\n",
    "        try:\n",
    "            articles.append(genere_article(item)) \n",
    "        except ParsingError:\n",
    "            pass"
   ]
  },
  {
   "cell_type": "code",
   "execution_count": 441,
   "id": "21d55a06",
   "metadata": {},
   "outputs": [],
   "source": [
    "articles_json = to_json(articles)"
   ]
  },
  {
   "cell_type": "code",
   "execution_count": 442,
   "id": "14be38ac",
   "metadata": {},
   "outputs": [],
   "source": [
    "file_path = \"articles.json\"\n",
    "\n",
    "with open(file_path, \"w\",  encoding='utf-8') as json_file:\n",
    "    json_file.write(articles_json)"
   ]
  },
  {
   "cell_type": "markdown",
   "id": "4dc1cb22-654b-4d3e-af9e-f56ccf677d96",
   "metadata": {},
   "source": [
    "## Exercice\n",
    "\n",
    "Sérialiser vers json `articles`."
   ]
  },
  {
   "cell_type": "code",
   "execution_count": 443,
   "id": "8b6a4267",
   "metadata": {},
   "outputs": [],
   "source": [
    "import polars as pl"
   ]
  },
  {
   "cell_type": "code",
   "execution_count": 448,
   "id": "019645e6",
   "metadata": {},
   "outputs": [
    {
     "name": "stdout",
     "output_type": "stream",
     "text": [
      "shape: (258, 6)\n",
      "┌─────────────────────┬────────────┬────────────────────┬───────┬────────────┬─────────────────────┐\n",
      "│ auteurs             ┆ evaluation ┆ nombre_evaluations ┆ prix  ┆ sponsorise ┆ titre               │\n",
      "│ ---                 ┆ ---        ┆ ---                ┆ ---   ┆ ---        ┆ ---                 │\n",
      "│ list[str]           ┆ f64        ┆ i64                ┆ f64   ┆ bool       ┆ str                 │\n",
      "╞═════════════════════╪════════════╪════════════════════╪═══════╪════════════╪═════════════════════╡\n",
      "│ [\"Violette Chiara\", ┆ 4.6        ┆ 65                 ┆ 16.99 ┆ true       ┆ Python pour         │\n",
      "│ \"Benjamin Sp…       ┆            ┆                    ┆       ┆            ┆ débutants:          │\n",
      "│                     ┆            ┆                    ┆       ┆            ┆ Programme…          │\n",
      "│ [\"Damon Parker\"]    ┆ 4.9        ┆ 10                 ┆ 16.87 ┆ true       ┆ Apprendre           │\n",
      "│                     ┆            ┆                    ┆       ┆            ┆ Python: Un Cours    │\n",
      "│                     ┆            ┆                    ┆       ┆            ┆ Accé…               │\n",
      "│ [\"Jack Fellers\"]    ┆ 3.8        ┆ 102                ┆ 12.9  ┆ true       ┆ PYTHON:             │\n",
      "│                     ┆            ┆                    ┆       ┆            ┆ L'introduction et   │\n",
      "│                     ┆            ┆                    ┆       ┆            ┆ les fo…             │\n",
      "│ [\"Gregory Walters\"] ┆ 5.0        ┆ 1                  ┆ 32.69 ┆ true       ┆ Python              │\n",
      "│                     ┆            ┆                    ┆       ┆            ┆ GUI Programming     │\n",
      "│                     ┆            ┆                    ┆       ┆            ┆ with PAG…           │\n",
      "│ …                   ┆ …          ┆ …                  ┆ …     ┆ …          ┆ …                   │\n",
      "│ [\"Patrick Marcel\"]  ┆ 4.2        ┆ 4                  ┆ 15.0  ┆ false      ┆ MONTY PYTHON !      │\n",
      "│                     ┆            ┆                    ┆       ┆            ┆ PETIT PRECIS D'     │\n",
      "│ [\"Alex Gezerlis\"]   ┆ 3.8        ┆ 4                  ┆ 43.08 ┆ false      ┆ Numerical Methods   │\n",
      "│                     ┆            ┆                    ┆       ┆            ┆ in Physics wit…     │\n",
      "│ [\"Craig Berg\"]      ┆ 4.0        ┆ 11                 ┆ 14.77 ┆ true       ┆ Python For Data     │\n",
      "│                     ┆            ┆                    ┆       ┆            ┆ Analysis: A Comp…   │\n",
      "│ [\"Craig Berg\"]      ┆ 4.4        ┆ 22                 ┆ 14.77 ┆ true       ┆ Python Programming  │\n",
      "│                     ┆            ┆                    ┆       ┆            ┆ For Kids: Com…      │\n",
      "└─────────────────────┴────────────┴────────────────────┴───────┴────────────┴─────────────────────┘\n"
     ]
    }
   ],
   "source": [
    "print(pl.read_json(\"articles.json\"))"
   ]
  }
 ],
 "metadata": {
  "kernelspec": {
   "display_name": "Python 3 (ipykernel)",
   "language": "python",
   "name": "python3"
  },
  "language_info": {
   "codemirror_mode": {
    "name": "ipython",
    "version": 3
   },
   "file_extension": ".py",
   "mimetype": "text/x-python",
   "name": "python",
   "nbconvert_exporter": "python",
   "pygments_lexer": "ipython3",
   "version": "3.10.6"
  }
 },
 "nbformat": 4,
 "nbformat_minor": 5
}
