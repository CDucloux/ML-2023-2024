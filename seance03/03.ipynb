{
 "cells": [
  {
   "cell_type": "markdown",
   "id": "ba88779a-e260-4738-8fc7-cd029754926a",
   "metadata": {},
   "source": [
    "# imports"
   ]
  },
  {
   "cell_type": "code",
   "execution_count": 1,
   "id": "30208ef0-132d-4ca3-b0f5-a8903e1435b6",
   "metadata": {},
   "outputs": [],
   "source": [
    "from pathlib import Path"
   ]
  },
  {
   "cell_type": "code",
   "execution_count": 31,
   "id": "b1521e34-56b0-4049-b4fc-4b5363a78092",
   "metadata": {},
   "outputs": [],
   "source": [
    "import bs4"
   ]
  },
  {
   "cell_type": "code",
   "execution_count": 2,
   "id": "dc5c7ff1-a4fc-47bf-b08d-7e9afd0b2109",
   "metadata": {},
   "outputs": [],
   "source": [
    "from bs4 import BeautifulSoup as BS"
   ]
  },
  {
   "cell_type": "code",
   "execution_count": 69,
   "id": "ee315916-0035-4cb5-85b2-356a389a128d",
   "metadata": {},
   "outputs": [],
   "source": [
    "from dataclasses import dataclass"
   ]
  },
  {
   "cell_type": "code",
   "execution_count": 70,
   "id": "11600e40-ffbf-4f96-a474-bb0ea7bd8029",
   "metadata": {},
   "outputs": [],
   "source": [
    "from enum import Enum"
   ]
  },
  {
   "cell_type": "markdown",
   "id": "2398da32-be66-4eb6-8fb6-f2f07814b8cf",
   "metadata": {},
   "source": [
    "# Récupération du contenu html\n",
    "\n",
    "On a **manuellement** sauvegarder les 7 premières pages correspondant aux résultats de la recherche *python* sur [amazon.fr](www.amazon.fr)"
   ]
  },
  {
   "cell_type": "code",
   "execution_count": 3,
   "id": "70c4a83e-6088-43cc-9f9f-a3989b5737e2",
   "metadata": {},
   "outputs": [
    {
     "name": "stdout",
     "output_type": "stream",
     "text": [
      "C:\\Users\\perrollaz\\Documents\n"
     ]
    }
   ],
   "source": [
    "racine = Path(\".\").resolve()\n",
    "print(racine)"
   ]
  },
  {
   "cell_type": "code",
   "execution_count": 5,
   "id": "15742e7a-eb1b-4e31-a6c2-4001fb121d6c",
   "metadata": {},
   "outputs": [
    {
     "name": "stdout",
     "output_type": "stream",
     "text": [
      "C:\\Users\\perrollaz\\Documents\\.ipynb_checkpoints\n",
      "C:\\Users\\perrollaz\\Documents\\02.ipynb\n",
      "C:\\Users\\perrollaz\\Documents\\03.ipynb\n",
      "C:\\Users\\perrollaz\\Documents\\afterSentDocuments\n",
      "C:\\Users\\perrollaz\\Documents\\desktop.ini\n",
      "C:\\Users\\perrollaz\\Documents\\Ma musique\n",
      "C:\\Users\\perrollaz\\Documents\\Mes images\n",
      "C:\\Users\\perrollaz\\Documents\\Mes vidéos\n",
      "C:\\Users\\perrollaz\\Documents\\pages\n"
     ]
    }
   ],
   "source": [
    "for contenu in racine.glob(\"*\"):\n",
    "    print(contenu)"
   ]
  },
  {
   "cell_type": "code",
   "execution_count": 6,
   "id": "b51f308e-57ae-4bb7-a4d2-22011610de16",
   "metadata": {},
   "outputs": [
    {
     "name": "stdout",
     "output_type": "stream",
     "text": [
      "C:\\Users\\perrollaz\\Documents\\pages\n"
     ]
    }
   ],
   "source": [
    "pages = racine / \"pages\"\n",
    "print(pages)"
   ]
  },
  {
   "cell_type": "code",
   "execution_count": 10,
   "id": "002f5344-b7ce-4899-9984-ef74415ef330",
   "metadata": {},
   "outputs": [
    {
     "name": "stdout",
     "output_type": "stream",
     "text": [
      "C:\\Users\\perrollaz\\Documents\\pages\\01.htm\n",
      "C:\\Users\\perrollaz\\Documents\\pages\\02.htm\n",
      "C:\\Users\\perrollaz\\Documents\\pages\\03.htm\n",
      "C:\\Users\\perrollaz\\Documents\\pages\\04.htm\n",
      "C:\\Users\\perrollaz\\Documents\\pages\\05.htm\n",
      "C:\\Users\\perrollaz\\Documents\\pages\\06.htm\n",
      "C:\\Users\\perrollaz\\Documents\\pages\\07.htm\n"
     ]
    }
   ],
   "source": [
    "for chemin in pages.glob(\"*.htm\"):\n",
    "    print(chemin)"
   ]
  },
  {
   "cell_type": "code",
   "execution_count": 12,
   "id": "fcedc757-8ad0-4010-a1a6-2cef63b50e7a",
   "metadata": {},
   "outputs": [],
   "source": [
    "htmls = list()\n",
    "for chemin in pages.glob(\"*.htm\"):\n",
    "    htmls.append(chemin.read_text(encoding=\"utf8\"))"
   ]
  },
  {
   "cell_type": "markdown",
   "id": "2c545930-e200-4f5e-8401-9491c225ad05",
   "metadata": {
    "jupyter": {
     "outputs_hidden": true
    },
    "tags": []
   },
   "source": [
    "# Exploitation de la première page html"
   ]
  },
  {
   "cell_type": "markdown",
   "id": "14a30cd7-d75c-4914-b775-e9720fa45421",
   "metadata": {},
   "source": [
    "## Exercice\n",
    "\n",
    "En utilisant les outils de développement du navigateur et `bs4`, récupérer la liste des éléments représentant des livres dans la première page."
   ]
  },
  {
   "cell_type": "code",
   "execution_count": 23,
   "id": "3917b54c-bdf1-499d-8f5b-83cdca764433",
   "metadata": {},
   "outputs": [],
   "source": [
    "soupe = BS(htmls[0])"
   ]
  },
  {
   "cell_type": "code",
   "execution_count": 24,
   "id": "4772cfbf-aba3-472f-9e59-5166da30b50c",
   "metadata": {},
   "outputs": [],
   "source": [
    "result_items = soupe.find_all(name=\"div\", attrs={\"class\": \"s-result-item\"})"
   ]
  },
  {
   "cell_type": "code",
   "execution_count": 25,
   "id": "d6a178ea-2723-4319-9313-298b410e2bbb",
   "metadata": {},
   "outputs": [
    {
     "data": {
      "text/plain": [
       "69"
      ]
     },
     "execution_count": 25,
     "metadata": {},
     "output_type": "execute_result"
    }
   ],
   "source": [
    "len(result_items)"
   ]
  },
  {
   "cell_type": "markdown",
   "id": "73feb37b-5a19-4564-a5e2-e6b461e3672c",
   "metadata": {},
   "source": [
    "**ATTENTION** on voit visuellement qu'il n'y a que 60 éléments à récupérer dans la page, donc il y a des intrus à identifier."
   ]
  },
  {
   "cell_type": "code",
   "execution_count": 26,
   "id": "6d339fb2-9238-4b47-ae8e-8c0049dc4a98",
   "metadata": {},
   "outputs": [],
   "source": [
    "result_item = result_items[1]"
   ]
  },
  {
   "cell_type": "code",
   "execution_count": 45,
   "id": "1f58c1bd-6671-44b1-929b-cfd1f3f30af1",
   "metadata": {
    "collapsed": true,
    "jupyter": {
     "outputs_hidden": true
    },
    "tags": []
   },
   "outputs": [
    {
     "name": "stdout",
     "output_type": "stream",
     "text": [
      "<div class=\"sg-col-4-of-24 sg-col-4-of-12 s-result-item s-asin sg-col-4-of-16 AdHolder sg-col s-widget-spacing-small sg-col-4-of-20\" data-asin=\"B0BHRB3MPR\" data-cel-widget=\"search_result_1\" data-component-id=\"19\" data-component-type=\"s-search-result\" data-index=\"2\" data-uuid=\"d068c86e-6b48-487b-93ae-0c3b2d26e4c1\">\n",
      " <div class=\"sg-col-inner\">\n",
      "  <div cel_widget_id=\"MAIN-SEARCH_RESULTS-2\" class=\"s-widget-container s-spacing-small s-widget-container-height-small celwidget slot=MAIN template=SEARCH_RESULTS widgetId=search-results_1\" data-cel-widget=\"MAIN-SEARCH_RESULTS-2\" data-csa-c-id=\"bxnszw-3mpitn-34b5kj-di4ojw\" data-csa-c-item-id=\"amzn1.asin.1.B0BHRB3MPR\" data-csa-c-pos=\"1\" data-csa-c-type=\"item\" data-csa-op-log-render=\"\">\n",
      "   <div class=\"rush-component s-expand-height\" data-component-id=\"20\" data-component-props='{\"percentageShownToFire\":\"50\",\"batchable\":true,\"requiredElementSelector\":\".s-image:visible\",\"url\":\"https://unagi-eu.amazon.com/1/events/com.amazon.eel.SponsoredProductsEventTracking.prod?qualifier=1695641843&amp;id=3394932809290632&amp;widgetName=sp_atf&amp;adId=20084530508698&amp;eventType=1&amp;adIndex=0\"}' data-component-type=\"s-impression-logger\">\n",
      "    <div class=\"rush-component s-featured-result-item s-expand-height\" data-component-id=\"2\" data-component-props='{\"presenceCounterName\":\"sp_delivered\",\"testElementSelector\":\".s-image\",\"hiddenCounterName\":\"sp_hidden\"}' data-component-type=\"s-impression-counter\">\n",
      "     <div class=\"s-card-container s-overflow-hidden aok-relative puis-expand-height puis-include-content-margin puis puis-v20azwp0smsgc01ytmkntf1rk7n s-latency-cf-section s-card-border\">\n",
      "      <div class=\"a-section a-spacing-base\">\n",
      "       <div class=\"a-section a-spacing-none puis-status-badge-container aok-relative s-grid-status-badge-container puis-expand-height\">\n",
      "        <a class=\"a-link-normal s-underline-text s-underline-link-text s-link-style\" href=\"https://www.amazon.fr/gp/bestsellers/books/3472751/ref=sr_bs_0_3472751_1\">\n",
      "         <span class=\"rush-component\" data-component-id=\"21\" data-component-props='{\"asin\":\"B0BHRB3MPR\",\"badgeType\":\"best-seller\"}' data-component-type=\"s-status-badge-component\" data-render-id=\"r1vm1gnnw57oin20dpb8rkfrgd3\" data-version-id=\"v20azwp0smsgc01ytmkntf1rk7n\">\n",
      "          <div class=\"a-row a-badge-region\">\n",
      "           <span aria-labelledby=\"B0BHRB3MPR-best-seller-label B0BHRB3MPR-best-seller-supplementary\" class=\"a-badge\" data-a-badge-supplementary-position=\"right\" data-a-badge-type=\"status\" id=\"B0BHRB3MPR-best-seller\" role=\"group\" tabindex=\"0\">\n",
      "            <span aria-hidden=\"true\" class=\"a-badge-label\" data-a-badge-color=\"sx-orange\" id=\"B0BHRB3MPR-best-seller-label\">\n",
      "             <span class=\"a-badge-label-inner a-text-ellipsis\">\n",
      "              <span class=\"a-badge-text\" data-a-badge-color=\"sx-cloud\">\n",
      "               N°1 des ventes\n",
      "              </span>\n",
      "             </span>\n",
      "            </span>\n",
      "            <span aria-hidden=\"true\" class=\"a-badge-supplementary-text a-text-ellipsis\" id=\"B0BHRB3MPR-best-seller-supplementary\">\n",
      "             dans Programmation orientée objet\n",
      "            </span>\n",
      "           </span>\n",
      "          </div>\n",
      "         </span>\n",
      "        </a>\n",
      "       </div>\n",
      "       <div class=\"s-product-image-container aok-relative s-text-center s-image-overlay-grey puis-image-overlay-grey s-padding-left-small s-padding-right-small puis-spacing-small s-height-equalized puis puis-v20azwp0smsgc01ytmkntf1rk7n\" style=\"padding-top: 0px !important;\">\n",
      "        <span class=\"rush-component\" data-component-type=\"s-product-image\" data-render-id=\"r1vm1gnnw57oin20dpb8rkfrgd3\" data-version-id=\"v20azwp0smsgc01ytmkntf1rk7n\">\n",
      "         <a class=\"a-link-normal s-no-outline\" href=\"https://www.amazon.fr/sspa/click?ie=UTF8&amp;spc=MTozMzk0OTMyODA5MjkwNjMyOjE2OTU2NDE4NDM6c3BfYXRmOjIwMDg0NTMwNTA4Njk4OjowOjo&amp;url=%2FPython-pour-d%25C3%25A9butants-Programmer-neuronal%2Fdp%2FB0BHRB3MPR%2Fref%3Dsr_1_1_sspa%3F__mk_fr_FR%3D%25C3%2585M%25C3%2585%25C5%25BD%25C3%2595%25C3%2591%26crid%3D3KBL8FP3M7TC0%26keywords%3Dpython%26qid%3D1695641843%26sprefix%3Dpython%252Caps%252C68%26sr%3D8-1-spons%26sp_csd%3Dd2lkZ2V0TmFtZT1zcF9hdGY%26psc%3D1\">\n",
      "          <div class=\"a-section aok-relative s-image-square-aspect\">\n",
      "           <img alt=\"Publicité sponsorisée - Python pour débutants: Programmer un réseau neuronal en 7 jours\" class=\"s-image\" data-image-index=\"1\" data-image-latency=\"s-product-image\" data-image-load=\"\" data-image-source-density=\"1\" src=\"Amazon.fr%20python_fichiers/51WhtcFja1L._AC_UL320_.jpg\" srcset=\"Amazon.fr%20python_fichiers/51WhtcFja1L._AC_UL320_.jpg 1x\"/>\n",
      "          </div>\n",
      "         </a>\n",
      "        </span>\n",
      "       </div>\n",
      "       <div class=\"a-section a-spacing-small puis-padding-left-small puis-padding-right-small\">\n",
      "        <div class=\"a-section a-spacing-none a-spacing-top-small s-title-instructions-style\">\n",
      "         <div class=\"a-row a-spacing-micro\">\n",
      "          <span class=\"a-declarative\" data-a-popover='{\"name\":\"sp-info-popover-B0BHRB3MPR\",\"position\":\"triggerVertical\",\"closeButton\":\"true\",\"dataStrategy\":\"preload\"}' data-action=\"a-popover\" data-csa-c-func-deps=\"aui-da-a-popover\" data-csa-c-id=\"thkdaa-m2g23d-xib3vv-7fk6y8\" data-csa-c-type=\"widget\" data-render-id=\"r1vm1gnnw57oin20dpb8rkfrgd3\" data-version-id=\"v20azwp0smsgc01ytmkntf1rk7n\">\n",
      "           <a aria-label=\"Afficher des informations sponsorisées ou laisser des commentaires sur la publicité\" class=\"puis-label-popover puis-sponsored-label-text\" href=\"javascript:void(0)\" role=\"button\" style=\"text-decoration: none;\">\n",
      "            <span class=\"puis-label-popover-default\">\n",
      "             <span class=\"a-color-secondary\">\n",
      "              Sponsorisé\n",
      "             </span>\n",
      "            </span>\n",
      "            <span class=\"puis-label-popover-hover\">\n",
      "             <span class=\"a-color-base\">\n",
      "              Sponsorisé\n",
      "             </span>\n",
      "            </span>\n",
      "            <span class=\"aok-inline-block puis-sponsored-label-info-icon\">\n",
      "            </span>\n",
      "           </a>\n",
      "          </span>\n",
      "          <div class=\"a-popover-preload\" id=\"a-popover-sp-info-popover-B0BHRB3MPR\">\n",
      "           <div class=\"puis puis-v20azwp0smsgc01ytmkntf1rk7n\">\n",
      "            <span>\n",
      "             Vous voyez cette publicité en fonction de la pertinence du produit vis-à-vis à votre recherche.\n",
      "            </span>\n",
      "            <div class=\"a-row\">\n",
      "             <span class=\"a-declarative\" data-action=\"s-safe-ajax-modal-trigger\" data-csa-c-func-deps=\"aui-da-s-safe-ajax-modal-trigger\" data-csa-c-id=\"3928r6-8qoo8n-tk6daf-oz74tm\" data-csa-c-type=\"widget\" data-render-id=\"r1vm1gnnw57oin20dpb8rkfrgd3\" data-s-safe-ajax-modal-trigger='{\"header\":\"Informations et options concernant les publicités\",\"dataStrategy\":\"ajax\",\"ajaxUrl\":\"/af/feedback-form?pl=%7B%22adPlacementMetaData%22%3A%7B%22searchTerms%22%3A%22cHl0aG9u%22%2C%22pageType%22%3A%22Search%22%2C%22feedbackType%22%3A%22sponsoredProductsLoom%22%2C%22slotName%22%3A%22TOP%22%7D%2C%22adCreativeMetaData%22%3A%7B%22adProgramId%22%3A1024%2C%22adCreativeDetails%22%3A%5B%7B%22asin%22%3A%22B0BHRB3MPR%22%2C%22title%22%3A%22Python+pour+d%C3%A9butants%3A+Programmer+un+r%C3%A9seau+neuronal+en+7+jours%22%2C%22priceInfo%22%3A%7B%22amount%22%3A16.99%2C%22currencyCode%22%3A%22EUR%22%7D%2C%22sku%22%3A%22B0BHRB3MPR%22%2C%22adId%22%3A%22A098271917NWFDZTC00FY%22%2C%22campaignId%22%3A%22A00068702UIL5DADXUQ01%22%2C%22advertiserIdNS%22%3A%22axiom.A13V1IB3VIYZZH.A1AGVWEUY034AE%22%2C%22selectionSignals%22%3A%7B%22version%22%3A1%2C%22context%22%3Atrue%2C%22location%22%3Afalse%2C%22pastActivity%22%3A%22STORE_ONLY%22%7D%7D%5D%7D%7D\"}' data-version-id=\"v20azwp0smsgc01ytmkntf1rk7n\">\n",
      "              <a class=\"a-link-normal s-underline-text s-underline-link-text s-link-style\" href=\"#\">\n",
      "               <span>\n",
      "                En savoir plus sur cette publicité\n",
      "               </span>\n",
      "              </a>\n",
      "             </span>\n",
      "            </div>\n",
      "           </div>\n",
      "          </div>\n",
      "         </div>\n",
      "         <h2 class=\"a-size-mini a-spacing-none a-color-base s-line-clamp-4\">\n",
      "          <a class=\"a-link-normal s-underline-text s-underline-link-text s-link-style a-text-normal\" href=\"https://www.amazon.fr/sspa/click?ie=UTF8&amp;spc=MTozMzk0OTMyODA5MjkwNjMyOjE2OTU2NDE4NDM6c3BfYXRmOjIwMDg0NTMwNTA4Njk4OjowOjo&amp;url=%2FPython-pour-d%25C3%25A9butants-Programmer-neuronal%2Fdp%2FB0BHRB3MPR%2Fref%3Dsr_1_1_sspa%3F__mk_fr_FR%3D%25C3%2585M%25C3%2585%25C5%25BD%25C3%2595%25C3%2591%26crid%3D3KBL8FP3M7TC0%26keywords%3Dpython%26qid%3D1695641843%26sprefix%3Dpython%252Caps%252C68%26sr%3D8-1-spons%26sp_csd%3Dd2lkZ2V0TmFtZT1zcF9hdGY%26psc%3D1\">\n",
      "           <span class=\"a-size-base-plus a-color-base a-text-normal\">\n",
      "            Python pour débutants: Programmer un réseau neuronal en 7 jours\n",
      "           </span>\n",
      "          </a>\n",
      "         </h2>\n",
      "         <div class=\"a-row a-size-base a-color-secondary\">\n",
      "          <span class=\"a-size-base\">\n",
      "           de\n",
      "          </span>\n",
      "          <a class=\"a-size-base a-link-normal s-underline-text s-underline-link-text s-link-style\" href=\"https://www.amazon.fr/Benjamin-Spahic/e/B07NX1Y87F?ref=sr_ntt_srch_lnk_1&amp;qid=1695641843&amp;sr=8-1\">\n",
      "           Benjamin Spahic\n",
      "          </a>\n",
      "          <span class=\"a-size-base\">\n",
      "           et\n",
      "          </span>\n",
      "          <span class=\"a-size-base\">\n",
      "           Violette Chiara\n",
      "          </span>\n",
      "         </div>\n",
      "        </div>\n",
      "        <div class=\"a-section a-spacing-none a-spacing-top-micro\">\n",
      "         <div class=\"a-row a-size-small\">\n",
      "          <span aria-label=\"4,6 sur 5 étoiles\">\n",
      "           <span class=\"a-size-base puis-normal-weight-text\">\n",
      "            4,6\n",
      "           </span>\n",
      "           <span class=\"a-letter-space\">\n",
      "           </span>\n",
      "           <span class=\"a-declarative\" data-a-popover='{\"position\":\"triggerBottom\",\"popoverLabel\":\"\",\"url\":\"/review/widgets/average-customer-review/popover/ref=acr_search__popover?ie=UTF8&amp;asin=B0BHRB3MPR&amp;ref=acr_search__popover&amp;contextId=search\",\"closeButton\":false,\"closeButtonLabel\":\"\"}' data-action=\"a-popover\" data-csa-c-func-deps=\"aui-da-a-popover\" data-csa-c-id=\"aaxg1q-m8o94u-5wdk5m-xd8x91\" data-csa-c-type=\"widget\" data-render-id=\"r1vm1gnnw57oin20dpb8rkfrgd3\" data-version-id=\"v20azwp0smsgc01ytmkntf1rk7n\">\n",
      "            <a class=\"a-popover-trigger a-declarative\" href=\"javascript:void(0)\" role=\"button\">\n",
      "             <i class=\"a-icon a-icon-star-small a-star-small-4-5 aok-align-bottom\">\n",
      "              <span class=\"a-icon-alt\">\n",
      "               4,6 sur 5 étoiles\n",
      "              </span>\n",
      "             </i>\n",
      "             <i class=\"a-icon a-icon-popover\">\n",
      "             </i>\n",
      "            </a>\n",
      "           </span>\n",
      "          </span>\n",
      "          <span aria-label=\"64\">\n",
      "           <a class=\"a-link-normal s-underline-text s-underline-link-text s-link-style\" href=\"https://www.amazon.fr/sspa/click?ie=UTF8&amp;spc=MTozMzk0OTMyODA5MjkwNjMyOjE2OTU2NDE4NDM6c3BfYXRmOjIwMDg0NTMwNTA4Njk4OjowOjo&amp;url=%2FPython-pour-d%25C3%25A9butants-Programmer-neuronal%2Fdp%2FB0BHRB3MPR%2Fref%3Dsr_1_1_sspa%3F__mk_fr_FR%3D%25C3%2585M%25C3%2585%25C5%25BD%25C3%2595%25C3%2591%26crid%3D3KBL8FP3M7TC0%26keywords%3Dpython%26qid%3D1695641843%26sprefix%3Dpython%252Caps%252C68%26sr%3D8-1-spons%26sp_csd%3Dd2lkZ2V0TmFtZT1zcF9hdGY%26psc%3D1#customerReviews\">\n",
      "            <span class=\"a-size-base s-underline-text\">\n",
      "             64\n",
      "            </span>\n",
      "           </a>\n",
      "          </span>\n",
      "         </div>\n",
      "        </div>\n",
      "        <div class=\"a-section a-spacing-none a-spacing-top-small s-price-instructions-style\">\n",
      "         <div class=\"a-row a-size-base a-color-base\">\n",
      "          <a class=\"a-size-base a-link-normal s-underline-text s-underline-link-text s-link-style a-text-bold\" href=\"https://www.amazon.fr/sspa/click?ie=UTF8&amp;spc=MTozMzk0OTMyODA5MjkwNjMyOjE2OTU2NDE4NDM6c3BfYXRmOjIwMDg0NTMwNTA4Njk4OjowOjo&amp;url=%2FPython-pour-d%25C3%25A9butants-Programmer-neuronal%2Fdp%2FB0BHRB3MPR%2Fref%3Dsr_1_1_sspa%3F__mk_fr_FR%3D%25C3%2585M%25C3%2585%25C5%25BD%25C3%2595%25C3%2591%26crid%3D3KBL8FP3M7TC0%26keywords%3Dpython%26qid%3D1695641843%26sprefix%3Dpython%252Caps%252C68%26sr%3D8-1-spons%26sp_csd%3Dd2lkZ2V0TmFtZT1zcF9hdGY%26psc%3D1\">\n",
      "           Broché\n",
      "          </a>\n",
      "         </div>\n",
      "         <div class=\"a-row a-size-base a-color-base\">\n",
      "          <a class=\"a-size-base a-link-normal s-no-hover s-underline-text s-underline-link-text s-link-style a-text-normal\" href=\"https://www.amazon.fr/sspa/click?ie=UTF8&amp;spc=MTozMzk0OTMyODA5MjkwNjMyOjE2OTU2NDE4NDM6c3BfYXRmOjIwMDg0NTMwNTA4Njk4OjowOjo&amp;url=%2FPython-pour-d%25C3%25A9butants-Programmer-neuronal%2Fdp%2FB0BHRB3MPR%2Fref%3Dsr_1_1_sspa%3F__mk_fr_FR%3D%25C3%2585M%25C3%2585%25C5%25BD%25C3%2595%25C3%2591%26crid%3D3KBL8FP3M7TC0%26keywords%3Dpython%26qid%3D1695641843%26sprefix%3Dpython%252Caps%252C68%26sr%3D8-1-spons%26sp_csd%3Dd2lkZ2V0TmFtZT1zcF9hdGY%26psc%3D1\">\n",
      "           <span class=\"a-price\" data-a-color=\"base\" data-a-size=\"xl\">\n",
      "            <span class=\"a-offscreen\">\n",
      "             16,99 €\n",
      "            </span>\n",
      "            <span aria-hidden=\"true\">\n",
      "             <span class=\"a-price-whole\">\n",
      "              16,99\n",
      "             </span>\n",
      "             <span class=\"a-price-symbol\">\n",
      "              €\n",
      "             </span>\n",
      "            </span>\n",
      "           </span>\n",
      "          </a>\n",
      "         </div>\n",
      "        </div>\n",
      "        <div class=\"a-section a-spacing-none a-spacing-top-micro\">\n",
      "         <div class=\"a-row a-size-base a-color-secondary s-align-children-center\">\n",
      "          <div class=\"a-row s-align-children-center\">\n",
      "           <span class=\"aok-inline-block s-image-logo-view\">\n",
      "            <span class=\"aok-relative s-icon-text-medium s-prime\">\n",
      "             <i aria-label=\"Amazon Prime\" class=\"a-icon a-icon-prime a-icon-medium\" role=\"img\">\n",
      "             </i>\n",
      "            </span>\n",
      "            <span>\n",
      "            </span>\n",
      "           </span>\n",
      "           <span aria-label=\"Recevez-le mercredi 27 septembre\">\n",
      "            <span class=\"a-color-base\">\n",
      "             Recevez-le\n",
      "            </span>\n",
      "            <span class=\"a-color-base a-text-bold\">\n",
      "             mercredi 27 septembre\n",
      "            </span>\n",
      "           </span>\n",
      "          </div>\n",
      "          <div class=\"a-row\">\n",
      "           <span aria-label=\"Livraison à 0,01€ par Amazon\">\n",
      "            <span class=\"a-color-base\">\n",
      "             Livraison à 0,01€ par Amazon\n",
      "            </span>\n",
      "           </span>\n",
      "          </div>\n",
      "         </div>\n",
      "        </div>\n",
      "       </div>\n",
      "      </div>\n",
      "     </div>\n",
      "    </div>\n",
      "   </div>\n",
      "  </div>\n",
      " </div>\n",
      "</div>\n",
      "\n"
     ]
    }
   ],
   "source": [
    "print(result_item.prettify())"
   ]
  },
  {
   "cell_type": "code",
   "execution_count": 28,
   "id": "25ce7896-014c-4d13-a4dd-acec6dc55e63",
   "metadata": {},
   "outputs": [
    {
     "data": {
      "text/plain": [
       "[<span class=\"a-size-base-plus a-color-base a-text-normal\">Python pour débutants: Programmer un réseau neuronal en 7 jours</span>]"
      ]
     },
     "execution_count": 28,
     "metadata": {},
     "output_type": "execute_result"
    }
   ],
   "source": [
    "result_item.find_all(name=\"span\", attrs={\"class\": \"a-text-normal\"})"
   ]
  },
  {
   "cell_type": "code",
   "execution_count": 29,
   "id": "6f39c043-b3d2-4ef5-b800-6c6c4c6e3475",
   "metadata": {},
   "outputs": [
    {
     "data": {
      "text/plain": [
       "[<span class=\"a-price-whole\">16,99</span>]"
      ]
     },
     "execution_count": 29,
     "metadata": {},
     "output_type": "execute_result"
    }
   ],
   "source": [
    "result_item.find_all(name=\"span\", attrs={\"class\": \"a-price-whole\"})"
   ]
  },
  {
   "cell_type": "code",
   "execution_count": 34,
   "id": "ef3f9c58-1236-4bd8-884b-64a64783cd5b",
   "metadata": {},
   "outputs": [],
   "source": [
    "def recup_titre_prix(element: bs4.element.Tag) -> tuple[str, str]:\n",
    "    titre, = element.find_all(name=\"span\", attrs={\"class\": \"a-text-normal\"})\n",
    "    prix, = element.find_all(name=\"span\", attrs={\"class\": \"a-price-whole\"})\n",
    "    return (titre.text, prix.text)\n",
    "    "
   ]
  },
  {
   "cell_type": "code",
   "execution_count": 35,
   "id": "faec5b02-c191-4490-a62c-e46852e98cc7",
   "metadata": {},
   "outputs": [
    {
     "data": {
      "text/plain": [
       "('Python pour débutants: Programmer un réseau neuronal en 7 jours', '16,99')"
      ]
     },
     "execution_count": 35,
     "metadata": {},
     "output_type": "execute_result"
    }
   ],
   "source": [
    "recup_titre_prix(result_item)"
   ]
  },
  {
   "cell_type": "code",
   "execution_count": 41,
   "id": "238b16b1-0260-4e73-91dd-704842a85af9",
   "metadata": {},
   "outputs": [],
   "source": [
    "extractions = list()\n",
    "for item in result_items:\n",
    "    try:\n",
    "        extractions.append(recup_titre_prix(item))\n",
    "    except ValueError:\n",
    "        pass"
   ]
  },
  {
   "cell_type": "code",
   "execution_count": 42,
   "id": "8da34d24-07bc-4704-85b3-b243ee29ee29",
   "metadata": {},
   "outputs": [
    {
     "data": {
      "text/plain": [
       "59"
      ]
     },
     "execution_count": 42,
     "metadata": {},
     "output_type": "execute_result"
    }
   ],
   "source": [
    "# il y a normalement 60 livres dans la page\n",
    "len(extractions)"
   ]
  },
  {
   "cell_type": "code",
   "execution_count": 44,
   "id": "b72dd2a5-b2a8-459c-9456-9cf8c6e36395",
   "metadata": {
    "collapsed": true,
    "jupyter": {
     "outputs_hidden": true
    },
    "tags": []
   },
   "outputs": [
    {
     "name": "stdout",
     "output_type": "stream",
     "text": [
      "('Python pour débutants: Programmer un réseau neuronal en 7 jours', '16,99')\n",
      "(\"PYTHON,\\n Guide complet de la programmation orientée objet pour débutants: \\nDevenez un développeur en créant une IA avec l'apprentissage automatique\\n et un site web en 10 étapes. Plus de 200 exercices.\", '31,64')\n",
      "(\"Apprendre\\n Python: Un Cours Accéléré sur la Programmation Python et Comment \\nCommencer à l’utiliser pour Coder. Apprenez les Bases de Machine \\nLearning et de l'analyse de Données\", '16,87')\n",
      "(\"PYTHON: L'introduction et les fondements pour apprendre à programmer en python en 7 jours\", '12,90')\n",
      "('Apprendre à programmer avec Python 3', '32,40')\n",
      "('Python pour débutants: Programmer un réseau neuronal en 7 jours', '16,99')\n",
      "(\"J'apprends à programmer avec Python\", '12,95')\n",
      "('Apprendre à dessiner pour enfants', '6,99')\n",
      "(\"100\\n Exercices Python pour s'entrainer: Un ensemble d'exercices avec \\ndifférents niveaux de complexité | Débutant - Intermédiaire - Avancé | \\nExercices corrigés pour tous les niveaux\", '12,99')\n",
      "(\"Programmer en Python - Apprendre la programmation de façon claire, concise et efficace - collection O'Reilly\", '39,00')\n",
      "('Python Crash Course, 3rd Edition: A Hands-On, Project-Based Introduction to Programming', '41,04')\n",
      "(\"Python\\n pour les Nuls, 4è édition : Livre d'informatique, Découvrir la \\nprogrammation informatique sur Python, Apprendre à coder comme un pro, \\nguide pour débutants de la programmation\", '25,95')\n",
      "(\"Apprendre\\n Python: Un Cours Accéléré sur la Programmation Python et Comment \\nCommencer à l’utiliser pour Coder. Apprenez les Bases de Machine \\nLearning et de l'analyse de Données\", '16,87')\n",
      "('Fluent Python: Clear, Concise, and Effective Programming', '59,80')\n",
      "('Python & JavaScript pour les Nuls, mégapoche', '22,95')\n",
      "('Python 3 - Les fondamentaux du langage (3e édition)', '38,90')\n",
      "('Python pour le data scientist - 2e éd.: Des bases du langage au machine learning', '29,90')\n",
      "('Python\\n GUI Programming with PAGE: Create professional-looking GUIs for Python \\napplications efficiently and effectively (English Edition)', '32,69')\n",
      "(\"C++: Introduction et principes fondamentaux du langage de programmation orienté. L'objet le plus célèbre du monde.\", '12,90')\n",
      "('Python\\n pour le lycée: Le langage Python expliqué simplement pour les Lycéens |\\n Niveau Seconde, Première, Terminale | Filière Générale ou Technologique\\n | Guide Complet Pour débutants', '14,99')\n",
      "('Python pour les kids: La prorammation accessible aux enfants ! Dès 10 ans.', '22,90')\n",
      "('Initiation à la cryptographie avec Python: Cours et exercices corrigés. BTS - DUT - Licence Maths et Informatique', '20,90')\n",
      "('Python pour la physique: Calcul, graphisme, simulation', '23,50')\n",
      "(\"Python pour Excel, Automatisation et analyse des données dans un environnement moderne - collection O'Reilly\", '34,00')\n",
      "(\"Programmer\\n avec Python en s'amusant pour les Nuls, 4è édition: Découvrir la \\nprogrammation informatique, apprendre à coder sur Python en s'amusant à \\ntravers des projets à réaliser\", '17,95')\n",
      "('Python tout-en-un pour les Nuls', '34,95')\n",
      "('Programmation Python avancée - Guide pour une pratique élégante et efficace: Guide pour une pratique élégante et efficace', '29,90')\n",
      "('Automate the Boring Stuff with Python, 2nd Edition: Practical Programming for Total Beginners', '25,46')\n",
      "(\"PYTHON: L'introduction et les fondements pour apprendre à programmer en python en 7 jours\", '12,90')\n",
      "('Les algorithmes, c’est plus simple avec un dessin !', '19,90')\n",
      "('Data Structures with Python: Get familiar with the common Data Structures and Algorithms in Python (English Edition)', '29,53')\n",
      "(\"Python\\n pour les Nuls, 4è édition : Livre d'informatique, Découvrir la \\nprogrammation informatique sur Python, Apprendre à coder comme un pro, \\nguide pour débutants de la programmation\", '25,95')\n",
      "(\"30\\n Exercices en programmation orientée objet Python pour s'entrainer: Un \\nensemble d'exercices avec différents niveaux de complexité | Débutant - \\n... | Une correction pour tous les exercices\", '9,99')\n",
      "('Python: Comprendre les bases et maitriser la programmation', '34,90')\n",
      "(\"Les bases de python en 1 heure chrono: Un Apprentissage Simple et Efficace Illustré d'exemples | Guide Complet pour Débutants\", '9,99')\n",
      "(\"Analyse de données avec Python - Optimiser la préparation des données avec Pandas, Numpy, Jupyter et IPython-collection O'Reilly\", '42,95')\n",
      "('Cahier Python pour les Maths Seconde', '9,30')\n",
      "(\"15 énigmes ludiques pour s'initier à la programmation Python\", '15,90')\n",
      "('Les bases de Python en 30 Minutes: Apprendre les bases de la programmation python', '9,99')\n",
      "('Apprendre à coder en Python avec Minecraft, 2e édition: Dès 10 ans', '24,90')\n",
      "('Petite leçon de Python 2e Ed.', '36,00')\n",
      "(\"Machine learning avec Python - collection O'Reilly\", '35,00')\n",
      "('Carnet de Réussite - Python pour les SNT - 2de - Ed. 2023', '5,90')\n",
      "('Python pour la Data science pour les Nuls, grand format', '26,95')\n",
      "('Deep Learning with Python, Second Edition (English Edition)', '42,90')\n",
      "(\"L'apprentissage profond avec Python\", '39,00')\n",
      "('Python Crash Course, 2nd Edition: A Hands-On, Project-Based Introduction to Programming', '37,69')\n",
      "('Python pour la finance', '52,95')\n",
      "(\"30\\n Exercices en programmation orientée objet Python pour s'entrainer: Un \\nensemble d'exercices avec différents niveaux de complexité | Débutant - \\n... | Une correction pour tous les exercices\", '9,99')\n",
      "('Machine learning et Python pour les Nuls, mégapoche', '22,95')\n",
      "(\"PYTHON,\\n Guide complet de la programmation orientée objet pour débutants: \\nDevenez un développeur en créant une IA avec l'apprentissage automatique\\n et un site web en 10 étapes. Plus de 200 exercices.\", '31,64')\n",
      "('Apprendre la programmation par le jeu: Découvrir Pygame avec de nouveaux jeux en Python', '21,00')\n",
      "('Le petit Python orienté objet: Programmation orientée objet avec Python 3', '42,00')\n",
      "('Au coeur des algorithmes: Les bases de la programmation avec Python', '24,90')\n",
      "('Black Hat Python, 2nd Edition: Python Programming for Hackers and Pentesters', '37,13')\n",
      "('Learning Python 5ed-', '66,15')\n",
      "('Python for Finance: Mastering Data-Driven Finance', '60,77')\n",
      "('Django: Mastering Django - Advanced Techniques for Python Web Development', '10,54')\n",
      "('Apprenons à tracer : Lignes Formes Lettres : Cahier d’activités pour enfants : Âges 3 et +', '6,99')\n"
     ]
    }
   ],
   "source": [
    "# Inspection visuelle\n",
    "for extraction in extractions:\n",
    "    print(extraction)"
   ]
  },
  {
   "cell_type": "markdown",
   "id": "3850a72d-73b4-404c-9a38-babaf492cf8e",
   "metadata": {},
   "source": [
    "## Exercice\n",
    "\n",
    "Ajuster la recherche précédente pour récupérer exactement les résultats voulus."
   ]
  },
  {
   "cell_type": "code",
   "execution_count": 46,
   "id": "4a977b07-4ec3-485f-9cda-adc8091a61a9",
   "metadata": {},
   "outputs": [
    {
     "name": "stdout",
     "output_type": "stream",
     "text": [
      "('Apprendre à dessiner pour enfants', '6,99')\n",
      "(\"C++: Introduction et principes fondamentaux du langage de programmation orienté. L'objet le plus célèbre du monde.\", '12,90')\n",
      "('Les algorithmes, c’est plus simple avec un dessin !', '19,90')\n",
      "('Apprenons à tracer : Lignes Formes Lettres : Cahier d’activités pour enfants : Âges 3 et +', '6,99')\n"
     ]
    }
   ],
   "source": [
    "for extraction in extractions:\n",
    "    if \"python\" not in extraction[0].lower():\n",
    "        print(extraction)"
   ]
  },
  {
   "cell_type": "code",
   "execution_count": 63,
   "id": "7b7e0f30-2005-404f-ab1a-ce54fcfd9b22",
   "metadata": {},
   "outputs": [],
   "source": [
    "class ParsingError(Exception):\n",
    "    pass\n",
    "\n",
    "def recup_titre_prix(element: bs4.element.Tag) -> tuple[str, str]:\n",
    "    try:\n",
    "        spans = element.find_all(name=\"span\", attrs={\"class\": \"a-text-normal\"})\n",
    "        titre, = spans\n",
    "        titre = titre.text\n",
    "    except ValueError:\n",
    "        raise ParsingError\n",
    "    try:\n",
    "        spans = element.find_all(name=\"span\", attrs={\"class\": \"a-price-whole\"})\n",
    "        prix, = spans\n",
    "        prix = prix.text\n",
    "    except ValueError:\n",
    "        raise ParsingError\n",
    "    if \"python\" not in titre.lower():\n",
    "        raise ParsingError\n",
    "    return (titre, prix)"
   ]
  },
  {
   "cell_type": "code",
   "execution_count": 64,
   "id": "754cf455-9e9f-4fc2-9309-1134e6139128",
   "metadata": {},
   "outputs": [],
   "source": [
    "extractions = list()\n",
    "for item in result_items:\n",
    "    try:\n",
    "        extractions.append(recup_titre_prix(item))\n",
    "    except ParsingError:\n",
    "        pass"
   ]
  },
  {
   "cell_type": "code",
   "execution_count": 66,
   "id": "949414ae-20e4-4bfa-9abf-ea0e59bb4e85",
   "metadata": {},
   "outputs": [
    {
     "data": {
      "text/plain": [
       "55"
      ]
     },
     "execution_count": 66,
     "metadata": {},
     "output_type": "execute_result"
    }
   ],
   "source": [
    "len(extractions)"
   ]
  },
  {
   "cell_type": "markdown",
   "id": "250e13d8-8ebf-47f6-ad57-34f4a8481b4d",
   "metadata": {},
   "source": [
    "# Assemblage"
   ]
  },
  {
   "cell_type": "code",
   "execution_count": null,
   "id": "7dfd26bd-c535-47c3-a46c-1259966cf7df",
   "metadata": {},
   "outputs": [],
   "source": [
    "class ParsingError(Exception):\n",
    "    pass\n",
    "\n",
    "def recup_titre_prix(element: bs4.element.Tag) -> tuple[str, str]:\n",
    "    try:\n",
    "        spans = element.find_all(\n",
    "            name=\"span\", \n",
    "            attrs={\"class\": \"a-text-normal\"}\n",
    "        )\n",
    "        titre, = spans\n",
    "        titre = titre.text\n",
    "    except ValueError:\n",
    "        raise ParsingError\n",
    "    try:\n",
    "        spans = element.find_all(\n",
    "            name=\"span\", \n",
    "            attrs={\"class\": \"a-price-whole\"}\n",
    "        )\n",
    "        prix, = spans\n",
    "        prix = prix.text\n",
    "    except ValueError:\n",
    "        raise ParsingError\n",
    "    if \"python\" not in titre.lower():\n",
    "        raise ParsingError\n",
    "    return (titre, prix)"
   ]
  },
  {
   "cell_type": "code",
   "execution_count": 67,
   "id": "c18ae3dc-8b33-4433-9ee4-bcace7bf4e75",
   "metadata": {},
   "outputs": [],
   "source": [
    "extractions = list()\n",
    "for html in htmls:\n",
    "    soupe = BS(html, features=\"lxml\")\n",
    "    result_items = soupe.find_all(\n",
    "        name=\"div\", \n",
    "        attrs={\"class\": \"s-result-item\"}\n",
    "    )\n",
    "    for item in result_items:\n",
    "        try:\n",
    "            extractions.append(recup_titre_prix(item))\n",
    "        except ParsingError:\n",
    "            pass"
   ]
  },
  {
   "cell_type": "code",
   "execution_count": 68,
   "id": "1286d086-a56f-4f3b-a6e1-0cfdcf939d8d",
   "metadata": {},
   "outputs": [
    {
     "data": {
      "text/plain": [
       "312"
      ]
     },
     "execution_count": 68,
     "metadata": {},
     "output_type": "execute_result"
    }
   ],
   "source": [
    "len(extractions)"
   ]
  },
  {
   "cell_type": "markdown",
   "id": "5e58ecc3-7578-4fe9-a3aa-d42cf44fb2a3",
   "metadata": {},
   "source": [
    "## Exercice\n",
    "\n",
    "Enrichir le code pour extraire quand c'est possible:\n",
    "- les auteurs\n",
    "- l'évalution moyenn\n",
    "- le nombres d'évaluations\n",
    "- broché ou relié ou...\n",
    "- sponsorisé ou pas?"
   ]
  },
  {
   "cell_type": "code",
   "execution_count": 71,
   "id": "36e0d353-5af9-4ad3-b6e4-87183c3e5b67",
   "metadata": {},
   "outputs": [],
   "source": [
    "class Genre(Enum):\n",
    "    RELIE = \"relié\"\n",
    "    BROCHE = \"broché\"\n",
    "    ELECTRONIQUE = \"électronique\""
   ]
  },
  {
   "cell_type": "code",
   "execution_count": 72,
   "id": "3848882c-2bef-4732-a6fe-1fa6c2e9a3c9",
   "metadata": {},
   "outputs": [],
   "source": [
    "# A sérialiser avec pyserde vers du json\n",
    "@dataclass\n",
    "class Article:\n",
    "    titre: str\n",
    "    prix: str\n",
    "    auteurs: str\n",
    "    evaluation: float\n",
    "    nombre_evaluations: int\n",
    "    genre: Genre\n",
    "    sponsorise: bool"
   ]
  },
  {
   "cell_type": "code",
   "execution_count": 73,
   "id": "301ed8c0-0f71-477c-b3ad-5034a30cb970",
   "metadata": {},
   "outputs": [],
   "source": [
    "def recupere_titre(element: bs4.element.Tag) -> str:\n",
    "    try:\n",
    "        spans = element.find_all(\n",
    "            name=\"span\", \n",
    "            attrs={\"class\": \"a-text-normal\"}\n",
    "        )\n",
    "        titre, = spans\n",
    "        titre = titre.text\n",
    "    except ValueError:\n",
    "        raise ParsingError\n",
    "    if \"python\" not in titre.lower():\n",
    "        raise ParsingError\n",
    "    return titre"
   ]
  },
  {
   "cell_type": "code",
   "execution_count": 74,
   "id": "cffa7f1f-5606-450e-84fb-57eba49a9b7d",
   "metadata": {},
   "outputs": [],
   "source": [
    "def recupere_prix(element: bs4.element.Tag) -> str:\n",
    "    try:\n",
    "        spans = element.find_all(\n",
    "            name=\"span\", \n",
    "            attrs={\"class\": \"a-price-whole\"}\n",
    "        )\n",
    "        prix, = spans\n",
    "        prix = prix.text\n",
    "    except ValueError:\n",
    "        raise ParsingError\n",
    "    return prix"
   ]
  },
  {
   "cell_type": "code",
   "execution_count": null,
   "id": "d06ae390-a5dc-446e-a874-e966d3a8bdda",
   "metadata": {},
   "outputs": [],
   "source": [
    "def recupere_auteurs(element: bs4.element.Tag) -> str:\n",
    "    ...\n",
    "\n",
    "def recupere_evaluation(element: bs4.element.Tag) -> float:\n",
    "    ...\n",
    "    \n",
    "def recupere_nombre_evaluations(element: bs4.element.Tag) -> int:\n",
    "    ...\n",
    "    \n",
    "def recupere_genre(element: bs4.element.Tag) -> Genre:\n",
    "    ...\n"
   ]
  },
  {
   "cell_type": "code",
   "execution_count": null,
   "id": "2380d0b2-15a2-4fa3-acfa-6cf7bd2e1eaf",
   "metadata": {},
   "outputs": [],
   "source": [
    "def recupere_sponsorise(element: bs4.element.Tag) -> bool:\n",
    "    spans = element.find_all(\n",
    "        name=\"span\",\n",
    "        attrs={\"class\": \"a-color-base\"}\n",
    "    )\n",
    "    for span in spans:\n",
    "        if span.text == \"Sponsorisé\":\n",
    "            return True\n",
    "    return False"
   ]
  },
  {
   "cell_type": "code",
   "execution_count": null,
   "id": "b2957dc3-1855-405e-a838-23e88ecbb37b",
   "metadata": {},
   "outputs": [],
   "source": [
    "def genere_article(element: bs4.element.Tag) -> Article:\n",
    "    ..."
   ]
  },
  {
   "cell_type": "code",
   "execution_count": null,
   "id": "f145e845-686c-4961-bf8a-cce66e2a7348",
   "metadata": {},
   "outputs": [],
   "source": [
    "articles: list[Article] = list()\n",
    "for html in htmls:\n",
    "    soupe = BS(html, features=\"lxml\")\n",
    "    result_items = soupe.find_all(\n",
    "        name=\"div\", \n",
    "        attrs={\"class\": \"s-result-item\"}\n",
    "    )\n",
    "    for item in result_items:\n",
    "        articles.append(genere_article(item))\n",
    "        \n"
   ]
  },
  {
   "cell_type": "markdown",
   "id": "4dc1cb22-654b-4d3e-af9e-f56ccf677d96",
   "metadata": {},
   "source": [
    "## Exercice\n",
    "\n",
    "Sérialiser vers json `articles`."
   ]
  }
 ],
 "metadata": {
  "kernelspec": {
   "display_name": "Python 3 (ipykernel)",
   "language": "python",
   "name": "python3"
  },
  "language_info": {
   "codemirror_mode": {
    "name": "ipython",
    "version": 3
   },
   "file_extension": ".py",
   "mimetype": "text/x-python",
   "name": "python",
   "nbconvert_exporter": "python",
   "pygments_lexer": "ipython3",
   "version": "3.10.9"
  }
 },
 "nbformat": 4,
 "nbformat_minor": 5
}
